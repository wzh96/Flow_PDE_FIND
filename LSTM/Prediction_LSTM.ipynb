{
 "cells": [
  {
   "cell_type": "code",
   "execution_count": 27,
   "id": "initial_id",
   "metadata": {
    "collapsed": true,
    "ExecuteTime": {
     "end_time": "2025-02-20T17:45:07.618345Z",
     "start_time": "2025-02-20T17:45:07.615209Z"
    }
   },
   "outputs": [],
   "source": [
    "import torch\n",
    "from LSTM import LSTM\n",
    "from utils_LSTM import params\n",
    "import pickle\n",
    "import io\n",
    "from traffic_data_loader import data_loader_full, tensor_reshape, Traffic_Flow_Data\n",
    "import numpy as np"
   ]
  },
  {
   "cell_type": "code",
   "outputs": [],
   "source": [
    "# retreive parameters from params\n",
    "input_size = params['input_size']\n",
    "hidden_size = params['hidden_size']\n",
    "num_layers = params['num_layers']\n",
    "output_size = params['output_size']\n",
    "device = torch.device('cuda' if torch.cuda.is_available() else 'cpu')"
   ],
   "metadata": {
    "collapsed": false,
    "ExecuteTime": {
     "end_time": "2025-02-20T17:45:09.121387Z",
     "start_time": "2025-02-20T17:45:09.118197Z"
    }
   },
   "id": "718a97a196d55d7",
   "execution_count": 28
  },
  {
   "cell_type": "code",
   "outputs": [
    {
     "data": {
      "text/plain": "LSTM(\n  (lstm): LSTM(17, 100, num_layers=3, batch_first=True)\n  (fc): Linear(in_features=100, out_features=17, bias=True)\n)"
     },
     "execution_count": 29,
     "metadata": {},
     "output_type": "execute_result"
    }
   ],
   "source": [
    "# load model\n",
    "model_LSTM = LSTM(input_size, hidden_size, num_layers, output_size).to(device)\n",
    "model_LSTM.load_state_dict(torch.load('saved_model/model_LSTM.pth', map_location=device))\n",
    "model_LSTM.to(device)\n",
    "model_LSTM.eval() # enable evaluation mode"
   ],
   "metadata": {
    "collapsed": false,
    "ExecuteTime": {
     "end_time": "2025-02-20T17:45:10.995861Z",
     "start_time": "2025-02-20T17:45:10.980558Z"
    }
   },
   "id": "a6136b8e90554d16",
   "execution_count": 29
  },
  {
   "cell_type": "code",
   "outputs": [],
   "source": [
    "# start prediction\n",
    "class CPU_Unpickler(pickle.Unpickler):\n",
    "    def find_class(self, module, name):\n",
    "        if module == 'torch.storage' and name == '_load_from_bytes':\n",
    "            return lambda b: torch.load(io.BytesIO(b), map_location='cpu')\n",
    "        else:\n",
    "            return super().find_class(module, name)\n",
    "\n",
    "\n",
    "file_path = '../Model_Final/Predicted/results.pkl'\n",
    "with open(file_path, 'rb') as pickle_file:\n",
    "    pred = CPU_Unpickler(pickle_file).load()\n",
    "data = pred['flow_recon'].to(device)\n",
    "\n",
    "data_occupancy_all, data_flow_all, data_speed_all = data_loader_full()\n",
    "X_occu_all, _ = data_occupancy_all[:, :2], data_occupancy_all[:, 2]\n",
    "X_occu_all = torch.tensor(X_occu_all, dtype=torch.float32).to(device)\n",
    "\n",
    "data = torch.cat((X_occu_all, data), dim=1).detach()\n",
    "\n",
    "data = tensor_reshape(data)\n",
    "\n",
    "data_validation = data[int(data.size(0) * 0.7):, :]\n",
    "\n",
    "data_val = Traffic_Flow_Data(data_validation, window_size = params['window_size'])"
   ],
   "metadata": {
    "collapsed": false,
    "ExecuteTime": {
     "end_time": "2025-02-20T17:45:13.295233Z",
     "start_time": "2025-02-20T17:45:11.411172Z"
    }
   },
   "id": "b19d9a7b7129c9b1",
   "execution_count": 30
  },
  {
   "cell_type": "markdown",
   "source": [
    "## 3 minutes prediction"
   ],
   "metadata": {
    "collapsed": false
   },
   "id": "7fdf3da43ef37f69"
  },
  {
   "cell_type": "code",
   "outputs": [],
   "source": [
    "# create empty np array\n",
    "Y_VAL_1 = []\n",
    "Y_PRED_1 = []"
   ],
   "metadata": {
    "collapsed": false,
    "ExecuteTime": {
     "end_time": "2025-02-20T17:45:13.298430Z",
     "start_time": "2025-02-20T17:45:13.296236Z"
    }
   },
   "id": "33a68343545760e3",
   "execution_count": 31
  },
  {
   "cell_type": "code",
   "outputs": [
    {
     "ename": "KeyboardInterrupt",
     "evalue": "",
     "output_type": "error",
     "traceback": [
      "\u001B[1;31m---------------------------------------------------------------------------\u001B[0m",
      "\u001B[1;31mKeyboardInterrupt\u001B[0m                         Traceback (most recent call last)",
      "Cell \u001B[1;32mIn[32], line 3\u001B[0m\n\u001B[0;32m      1\u001B[0m \u001B[38;5;28;01mfor\u001B[39;00m idx \u001B[38;5;129;01min\u001B[39;00m \u001B[38;5;28mrange\u001B[39m(data_val\u001B[38;5;241m.\u001B[39m\u001B[38;5;21m__len__\u001B[39m()):\n\u001B[0;32m      2\u001B[0m     x_val, y_val \u001B[38;5;241m=\u001B[39m data_val\u001B[38;5;241m.\u001B[39m\u001B[38;5;21m__getitem__\u001B[39m(idx)\n\u001B[1;32m----> 3\u001B[0m     x_val \u001B[38;5;241m=\u001B[39m x_val\u001B[38;5;241m.\u001B[39munsqueeze(\u001B[38;5;241m0\u001B[39m)\u001B[38;5;241m.\u001B[39mto(device)\n\u001B[0;32m      4\u001B[0m     y_pred \u001B[38;5;241m=\u001B[39m model_LSTM(x_val)\u001B[38;5;241m.\u001B[39mdetach()\u001B[38;5;241m.\u001B[39mto(\u001B[38;5;124m'\u001B[39m\u001B[38;5;124mcpu\u001B[39m\u001B[38;5;124m'\u001B[39m)\u001B[38;5;241m.\u001B[39mnumpy()\n\u001B[0;32m      5\u001B[0m     y_val \u001B[38;5;241m=\u001B[39m y_val\u001B[38;5;241m.\u001B[39mdetach()\u001B[38;5;241m.\u001B[39mto(\u001B[38;5;124m'\u001B[39m\u001B[38;5;124mcpu\u001B[39m\u001B[38;5;124m'\u001B[39m)\u001B[38;5;241m.\u001B[39mnumpy()\n",
      "File \u001B[1;32m_pydevd_bundle\\pydevd_cython_win32_311_64.pyx:1187\u001B[0m, in \u001B[0;36m_pydevd_bundle.pydevd_cython_win32_311_64.SafeCallWrapper.__call__\u001B[1;34m()\u001B[0m\n",
      "File \u001B[1;32m_pydevd_bundle\\pydevd_cython_win32_311_64.pyx:627\u001B[0m, in \u001B[0;36m_pydevd_bundle.pydevd_cython_win32_311_64.PyDBFrame.trace_dispatch\u001B[1;34m()\u001B[0m\n",
      "File \u001B[1;32m_pydevd_bundle\\pydevd_cython_win32_311_64.pyx:937\u001B[0m, in \u001B[0;36m_pydevd_bundle.pydevd_cython_win32_311_64.PyDBFrame.trace_dispatch\u001B[1;34m()\u001B[0m\n",
      "File \u001B[1;32m_pydevd_bundle\\pydevd_cython_win32_311_64.pyx:928\u001B[0m, in \u001B[0;36m_pydevd_bundle.pydevd_cython_win32_311_64.PyDBFrame.trace_dispatch\u001B[1;34m()\u001B[0m\n",
      "File \u001B[1;32m_pydevd_bundle\\pydevd_cython_win32_311_64.pyx:585\u001B[0m, in \u001B[0;36m_pydevd_bundle.pydevd_cython_win32_311_64.PyDBFrame.do_wait_suspend\u001B[1;34m()\u001B[0m\n",
      "File \u001B[1;32mC:\\Program Files\\JetBrains\\PyCharm 2023.3.5\\plugins\\python\\helpers\\pydev\\pydevd.py:1184\u001B[0m, in \u001B[0;36mPyDB.do_wait_suspend\u001B[1;34m(self, thread, frame, event, arg, send_suspend_message, is_unhandled_exception)\u001B[0m\n\u001B[0;32m   1181\u001B[0m         from_this_thread\u001B[38;5;241m.\u001B[39mappend(frame_id)\n\u001B[0;32m   1183\u001B[0m \u001B[38;5;28;01mwith\u001B[39;00m \u001B[38;5;28mself\u001B[39m\u001B[38;5;241m.\u001B[39m_threads_suspended_single_notification\u001B[38;5;241m.\u001B[39mnotify_thread_suspended(thread_id, stop_reason):\n\u001B[1;32m-> 1184\u001B[0m     \u001B[38;5;28mself\u001B[39m\u001B[38;5;241m.\u001B[39m_do_wait_suspend(thread, frame, event, arg, suspend_type, from_this_thread)\n",
      "File \u001B[1;32mC:\\Program Files\\JetBrains\\PyCharm 2023.3.5\\plugins\\python\\helpers\\pydev\\pydevd.py:1199\u001B[0m, in \u001B[0;36mPyDB._do_wait_suspend\u001B[1;34m(self, thread, frame, event, arg, suspend_type, from_this_thread)\u001B[0m\n\u001B[0;32m   1196\u001B[0m             \u001B[38;5;28mself\u001B[39m\u001B[38;5;241m.\u001B[39m_call_mpl_hook()\n\u001B[0;32m   1198\u001B[0m         \u001B[38;5;28mself\u001B[39m\u001B[38;5;241m.\u001B[39mprocess_internal_commands()\n\u001B[1;32m-> 1199\u001B[0m         time\u001B[38;5;241m.\u001B[39msleep(\u001B[38;5;241m0.01\u001B[39m)\n\u001B[0;32m   1201\u001B[0m \u001B[38;5;28mself\u001B[39m\u001B[38;5;241m.\u001B[39mcancel_async_evaluation(get_current_thread_id(thread), \u001B[38;5;28mstr\u001B[39m(\u001B[38;5;28mid\u001B[39m(frame)))\n\u001B[0;32m   1203\u001B[0m \u001B[38;5;66;03m# process any stepping instructions\u001B[39;00m\n",
      "\u001B[1;31mKeyboardInterrupt\u001B[0m: "
     ]
    }
   ],
   "source": [
    "for idx in range(data_val.__len__()):\n",
    "    x_val, y_val = data_val.__getitem__(idx)\n",
    "    x_val = x_val.unsqueeze(0).to(device)\n",
    "    y_pred = model_LSTM(x_val).detach().to('cpu').numpy()\n",
    "    y_val = y_val.detach().to('cpu').numpy()\n",
    "    Y_VAL_1.append(y_val)\n",
    "    Y_PRED_1.append(y_pred)"
   ],
   "metadata": {
    "collapsed": false,
    "ExecuteTime": {
     "end_time": "2025-02-20T17:46:35.040906Z",
     "start_time": "2025-02-20T17:45:16.510625Z"
    }
   },
   "id": "eec9864718ab29b5",
   "execution_count": 32
  },
  {
   "cell_type": "code",
   "outputs": [],
   "source": [
    "Y_VAL_1 = np.vstack(Y_VAL_1)\n",
    "Y_PRED_1 = np.vstack(Y_PRED_1)"
   ],
   "metadata": {
    "collapsed": false,
    "ExecuteTime": {
     "end_time": "2025-02-20T17:36:51.526947Z",
     "start_time": "2025-02-20T17:36:51.523345Z"
    }
   },
   "id": "ca43be5a86ffb9ca",
   "execution_count": 9
  },
  {
   "cell_type": "code",
   "outputs": [
    {
     "name": "stdout",
     "output_type": "stream",
     "text": [
      "8.632509\n",
      "11.774547\n"
     ]
    }
   ],
   "source": [
    "# calculate the RMSE and MAPE\n",
    "rmse_flow_1_LSTM = np.sqrt(np.nanmean((Y_VAL_1 - Y_PRED_1) ** 2))\n",
    "print(rmse_flow_1_LSTM)\n",
    "\n",
    "mape_flow_1_LSTM = np.nanmean(np.abs((Y_VAL_1 - Y_PRED_1) / Y_VAL_1)) * 100\n",
    "print(mape_flow_1_LSTM)"
   ],
   "metadata": {
    "collapsed": false,
    "ExecuteTime": {
     "end_time": "2025-02-20T17:36:52.137817Z",
     "start_time": "2025-02-20T17:36:52.134283Z"
    }
   },
   "id": "64ba502fdf8c3082",
   "execution_count": 10
  },
  {
   "cell_type": "markdown",
   "source": [
    "## 6 minutes prediction"
   ],
   "metadata": {
    "collapsed": false
   },
   "id": "3a5b7a2186dd0073"
  },
  {
   "cell_type": "code",
   "outputs": [],
   "source": [
    "# create empty np array\n",
    "Y_VAL_2 = []\n",
    "Y_PRED_2 = []"
   ],
   "metadata": {
    "collapsed": false,
    "ExecuteTime": {
     "end_time": "2025-02-20T17:36:53.490253Z",
     "start_time": "2025-02-20T17:36:53.488108Z"
    }
   },
   "id": "fecfb816a58e5be9",
   "execution_count": 11
  },
  {
   "cell_type": "code",
   "outputs": [],
   "source": [
    "for idx in range(data_val.__len__()-1):\n",
    "    x_val, _ = data_val.__getitem__(idx)\n",
    "    x_val = x_val.unsqueeze(0).to(device)\n",
    "    y_pred_1  = model_LSTM(x_val).unsqueeze(0)\n",
    "\n",
    "    # add y_pred_1 to the bottom of 'x_val' and remove the first row of original 'x_val'\n",
    "    x_val_1 = torch.cat((x_val, y_pred_1), dim=1)\n",
    "    x_val_1 = x_val_1[:,1:,:]\n",
    "    \n",
    "    # put x_val_1 into model again and get y_pred_2\n",
    "    y_pred_2 = model_LSTM(x_val_1).detach().to('cpu').numpy()\n",
    "    _, y_val_2 = data_val.__getitem__(idx+1)\n",
    "    \n",
    "    y_val_2 = y_val_2.detach().to('cpu').numpy()\n",
    "    \n",
    "    Y_VAL_2.append(y_val_2)\n",
    "    Y_PRED_2.append(y_pred_2)"
   ],
   "metadata": {
    "collapsed": false,
    "ExecuteTime": {
     "end_time": "2025-02-20T17:36:54.217551Z",
     "start_time": "2025-02-20T17:36:54.034214Z"
    }
   },
   "id": "29b8b427f150dd97",
   "execution_count": 12
  },
  {
   "cell_type": "code",
   "outputs": [],
   "source": [
    "Y_VAL_2 = np.vstack(Y_VAL_2)\n",
    "Y_PRED_2 = np.vstack(Y_PRED_2)"
   ],
   "metadata": {
    "collapsed": false,
    "ExecuteTime": {
     "end_time": "2025-02-20T17:36:54.362093Z",
     "start_time": "2025-02-20T17:36:54.359097Z"
    }
   },
   "id": "2a72981cf6c9955a",
   "execution_count": 13
  },
  {
   "cell_type": "code",
   "outputs": [
    {
     "name": "stdout",
     "output_type": "stream",
     "text": [
      "8.190036\n",
      "11.575881\n"
     ]
    }
   ],
   "source": [
    "# calculate the RMSE and MAPE\n",
    "rmse_flow_2_LSTM = np.sqrt(np.nanmean((Y_VAL_2 - Y_PRED_2) ** 2))\n",
    "print(rmse_flow_2_LSTM)\n",
    "\n",
    "mape_flow_2_LSTM = np.nanmean(np.abs((Y_VAL_2 - Y_PRED_2) / Y_VAL_2)) * 100\n",
    "print(mape_flow_2_LSTM)"
   ],
   "metadata": {
    "collapsed": false,
    "ExecuteTime": {
     "end_time": "2025-02-20T17:36:54.649336Z",
     "start_time": "2025-02-20T17:36:54.646106Z"
    }
   },
   "id": "a57f7951101e7cf",
   "execution_count": 14
  },
  {
   "cell_type": "markdown",
   "source": [
    "## 9 minutes prediction"
   ],
   "metadata": {
    "collapsed": false
   },
   "id": "461801f6dfb4d00c"
  },
  {
   "cell_type": "code",
   "outputs": [],
   "source": [
    "# create empty np array\n",
    "Y_VAL_3 = []\n",
    "Y_PRED_3 = []"
   ],
   "metadata": {
    "collapsed": false,
    "ExecuteTime": {
     "end_time": "2025-02-20T17:37:01.411857Z",
     "start_time": "2025-02-20T17:37:01.409299Z"
    }
   },
   "id": "cab5db684d5d1697",
   "execution_count": 15
  },
  {
   "cell_type": "code",
   "outputs": [],
   "source": [
    "for idx in range(data_val.__len__()-2):\n",
    "    x_val, _ = data_val.__getitem__(idx)\n",
    "    x_val = x_val.unsqueeze(0).to(device)\n",
    "    y_pred_1  = model_LSTM(x_val).unsqueeze(0)\n",
    "\n",
    "    # add y_pred_1 to the bottom of 'x_val' and remove the first row of original 'x_val'\n",
    "    x_val_1 = torch.cat((x_val, y_pred_1), dim=1)\n",
    "    x_val_1 = x_val_1[:,1:,:]\n",
    "    \n",
    "    # put x_val_1 into model again and get y_pred_2\n",
    "    y_pred_2 = model_LSTM(x_val_1).unsqueeze(0)\n",
    "    \n",
    "    x_val_2 = torch.cat((x_val_1, y_pred_2), dim=1)\n",
    "    x_val_2 = x_val_2[:,1:,:]\n",
    "    \n",
    "    y_pred_3 = model_LSTM(x_val_2).detach().to('cpu').numpy()\n",
    "    \n",
    "    _, y_val_3 = data_val.__getitem__(idx+2)\n",
    "    \n",
    "    y_val_3 = y_val_3.detach().to('cpu').numpy()\n",
    "    \n",
    "    Y_VAL_3.append(y_val_3)\n",
    "    Y_PRED_3.append(y_pred_3)"
   ],
   "metadata": {
    "collapsed": false,
    "ExecuteTime": {
     "end_time": "2025-02-20T17:37:02.155421Z",
     "start_time": "2025-02-20T17:37:01.926833Z"
    }
   },
   "id": "ca0fa43f0555ba52",
   "execution_count": 16
  },
  {
   "cell_type": "code",
   "outputs": [],
   "source": [
    "Y_VAL_3 = np.vstack(Y_VAL_3)\n",
    "Y_PRED_3 = np.vstack(Y_PRED_3)"
   ],
   "metadata": {
    "collapsed": false,
    "ExecuteTime": {
     "end_time": "2025-02-20T17:37:02.689884Z",
     "start_time": "2025-02-20T17:37:02.686940Z"
    }
   },
   "id": "9c1b5aa282cbc8b9",
   "execution_count": 17
  },
  {
   "cell_type": "code",
   "outputs": [
    {
     "name": "stdout",
     "output_type": "stream",
     "text": [
      "7.788554\n",
      "11.39954\n"
     ]
    }
   ],
   "source": [
    "rmse_flow_3_LSTM = np.sqrt(np.nanmean((Y_VAL_3 - Y_PRED_3) ** 2))\n",
    "print(rmse_flow_3_LSTM)\n",
    "\n",
    "mape_flow_3_LSTM = np.nanmean(np.abs((Y_VAL_3 - Y_PRED_3) / Y_VAL_3)) * 100\n",
    "print(mape_flow_3_LSTM)"
   ],
   "metadata": {
    "collapsed": false,
    "ExecuteTime": {
     "end_time": "2025-02-20T17:37:02.913969Z",
     "start_time": "2025-02-20T17:37:02.910439Z"
    }
   },
   "id": "39301d02db5c1620",
   "execution_count": 18
  },
  {
   "cell_type": "markdown",
   "source": [
    "## 12 minutes prediction"
   ],
   "metadata": {
    "collapsed": false
   },
   "id": "bd437c9b931ecce"
  },
  {
   "cell_type": "code",
   "outputs": [],
   "source": [
    "# create empty np array\n",
    "Y_VAL_4 = []\n",
    "Y_PRED_4 = []"
   ],
   "metadata": {
    "collapsed": false,
    "ExecuteTime": {
     "end_time": "2025-02-20T17:37:04.261938Z",
     "start_time": "2025-02-20T17:37:04.259392Z"
    }
   },
   "id": "6f63aca7b939f565",
   "execution_count": 19
  },
  {
   "cell_type": "code",
   "outputs": [],
   "source": [
    "for idx in range(data_val.__len__()-3):\n",
    "    x_val, _ = data_val.__getitem__(idx)\n",
    "    x_val = x_val.unsqueeze(0).to(device)\n",
    "    y_pred_1  = model_LSTM(x_val).unsqueeze(0)\n",
    "\n",
    "    # add y_pred_1 to the bottom of 'x_val' and remove the first row of original 'x_val'\n",
    "    x_val_1 = torch.cat((x_val, y_pred_1), dim=1)\n",
    "    x_val_1 = x_val_1[:,1:,:]\n",
    "    \n",
    "    # put x_val_1 into model again and get y_pred_2\n",
    "    y_pred_2 = model_LSTM(x_val_1).unsqueeze(0)\n",
    "    \n",
    "    x_val_2 = torch.cat((x_val_1, y_pred_2), dim=1)\n",
    "    x_val_2 = x_val_2[:,1:,:]\n",
    "    \n",
    "    y_pred_3 = model_LSTM(x_val_2).unsqueeze(0)\n",
    "    \n",
    "    x_val_3 = torch.cat((x_val_2, y_pred_3), dim=1)\n",
    "    x_val_3 = x_val_3[:,1:,:]\n",
    "    \n",
    "    y_pred_4 = model_LSTM(x_val_3).detach().to('cpu').numpy()\n",
    "    \n",
    "    _, y_val_4 = data_val.__getitem__(idx+3)\n",
    "    \n",
    "    y_val_4 = y_val_4.detach().to('cpu').numpy()\n",
    "    \n",
    "    Y_VAL_4.append(y_val_4)\n",
    "    Y_PRED_4.append(y_pred_4)"
   ],
   "metadata": {
    "collapsed": false,
    "ExecuteTime": {
     "end_time": "2025-02-20T17:37:05.096456Z",
     "start_time": "2025-02-20T17:37:04.799070Z"
    }
   },
   "id": "a90907ec8bab7f7b",
   "execution_count": 20
  },
  {
   "cell_type": "code",
   "outputs": [],
   "source": [
    "Y_VAL_4 = np.vstack(Y_VAL_4)\n",
    "Y_PRED_4 = np.vstack(Y_PRED_4)"
   ],
   "metadata": {
    "collapsed": false,
    "ExecuteTime": {
     "end_time": "2025-02-20T17:37:05.158257Z",
     "start_time": "2025-02-20T17:37:05.154852Z"
    }
   },
   "id": "e7b5be17ff95d8c6",
   "execution_count": 21
  },
  {
   "cell_type": "code",
   "outputs": [
    {
     "name": "stdout",
     "output_type": "stream",
     "text": [
      "7.4574423\n",
      "11.25438\n"
     ]
    }
   ],
   "source": [
    "rmse_flow_4_LSTM = np.sqrt(np.nanmean((Y_VAL_4 - Y_PRED_4) ** 2))\n",
    "print(rmse_flow_4_LSTM)\n",
    "\n",
    "mape_flow_4_LSTM = np.nanmean(np.abs((Y_VAL_4 - Y_PRED_4) / Y_VAL_4)) * 100\n",
    "print(mape_flow_4_LSTM)"
   ],
   "metadata": {
    "collapsed": false,
    "ExecuteTime": {
     "end_time": "2025-02-20T17:37:05.664416Z",
     "start_time": "2025-02-20T17:37:05.661251Z"
    }
   },
   "id": "4b718a19a89997ea",
   "execution_count": 22
  },
  {
   "cell_type": "markdown",
   "source": [
    "## 15 minutes prediction"
   ],
   "metadata": {
    "collapsed": false
   },
   "id": "e4d7fdb3004b76d0"
  },
  {
   "cell_type": "code",
   "outputs": [],
   "source": [
    "# create empty np array\n",
    "Y_VAL_5 = []\n",
    "Y_PRED_5 = []"
   ],
   "metadata": {
    "collapsed": false,
    "ExecuteTime": {
     "end_time": "2025-02-20T17:37:06.448619Z",
     "start_time": "2025-02-20T17:37:06.446326Z"
    }
   },
   "id": "f745f85809ed7ee2",
   "execution_count": 23
  },
  {
   "cell_type": "code",
   "outputs": [],
   "source": [
    "for idx in range(data_val.__len__()-4):\n",
    "    x_val, _ = data_val.__getitem__(idx)\n",
    "    x_val = x_val.unsqueeze(0).to(device)\n",
    "    y_pred_1  = model_LSTM(x_val).unsqueeze(0)\n",
    "\n",
    "    # add y_pred_1 to the bottom of 'x_val' and remove the first row of original 'x_val'\n",
    "    x_val_1 = torch.cat((x_val, y_pred_1), dim=1)\n",
    "    x_val_1 = x_val_1[:,1:,:]\n",
    "    \n",
    "    # put x_val_1 into model again and get y_pred_2\n",
    "    y_pred_2 = model_LSTM(x_val_1).unsqueeze(0)\n",
    "    \n",
    "    x_val_2 = torch.cat((x_val_1, y_pred_2), dim=1)\n",
    "    x_val_2 = x_val_2[:,1:,:]\n",
    "    \n",
    "    y_pred_3 = model_LSTM(x_val_2).unsqueeze(0)\n",
    "    \n",
    "    x_val_3 = torch.cat((x_val_2, y_pred_3), dim=1)\n",
    "    x_val_3 = x_val_3[:,1:,:]\n",
    "    \n",
    "    y_pred_4 = model_LSTM(x_val_3).unsqueeze(0)\n",
    "    \n",
    "    x_val_4 = torch.cat((x_val_3, y_pred_4), dim=1)\n",
    "    x_val_4 = x_val_4[:,1:,:]\n",
    "    \n",
    "    y_pred_5 = model_LSTM(x_val_4).detach().to('cpu').numpy()\n",
    "    \n",
    "    _, y_val_5 = data_val.__getitem__(idx+4)\n",
    "    \n",
    "    y_val_5 = y_val_5.detach().to('cpu').numpy()\n",
    "    \n",
    "    Y_VAL_5.append(y_val_5)\n",
    "    Y_PRED_5.append(y_pred_5)"
   ],
   "metadata": {
    "collapsed": false,
    "ExecuteTime": {
     "end_time": "2025-02-20T17:37:06.788999Z",
     "start_time": "2025-02-20T17:37:06.696894Z"
    }
   },
   "id": "6f454dc5b05c44d2",
   "execution_count": 24
  },
  {
   "cell_type": "code",
   "outputs": [],
   "source": [
    "Y_VAL_5 = np.vstack(Y_VAL_5)\n",
    "Y_PRED_5 = np.vstack(Y_PRED_5)"
   ],
   "metadata": {
    "collapsed": false,
    "ExecuteTime": {
     "end_time": "2025-02-20T17:37:07.038921Z",
     "start_time": "2025-02-20T17:37:07.036143Z"
    }
   },
   "id": "638b16c5f8cba641",
   "execution_count": 25
  },
  {
   "cell_type": "code",
   "outputs": [
    {
     "name": "stdout",
     "output_type": "stream",
     "text": [
      "7.2076445\n",
      "11.143913\n"
     ]
    }
   ],
   "source": [
    "rmse_flow_5_LSTM = np.sqrt(np.nanmean((Y_VAL_5 - Y_PRED_5) ** 2))\n",
    "print(rmse_flow_5_LSTM)\n",
    "\n",
    "mape_flow_5_LSTM = np.nanmean(np.abs((Y_VAL_5 - Y_PRED_5) / Y_VAL_5)) * 100\n",
    "print(mape_flow_5_LSTM)"
   ],
   "metadata": {
    "collapsed": false,
    "ExecuteTime": {
     "end_time": "2025-02-20T17:37:07.514326Z",
     "start_time": "2025-02-20T17:37:07.510538Z"
    }
   },
   "id": "42f0bdfbe884470",
   "execution_count": 26
  },
  {
   "cell_type": "code",
   "outputs": [],
   "source": [
    "import pandas as pd"
   ],
   "metadata": {
    "collapsed": false,
    "ExecuteTime": {
     "end_time": "2025-02-20T17:52:27.631346Z",
     "start_time": "2025-02-20T17:52:27.628098Z"
    }
   },
   "id": "c0241afd5c12cb77",
   "execution_count": 33
  },
  {
   "cell_type": "code",
   "outputs": [],
   "source": [
    "data = {\n",
    "    'Prediction Length': ['RMSE(%)', 'MAPE(%)'],\n",
    "    '3-min prediction': [rmse_flow_1_LSTM, mape_flow_1_LSTM],\n",
    "    '6-min prediction': [rmse_flow_2_LSTM, mape_flow_2_LSTM],\n",
    "    '9-min prediction': [rmse_flow_3_LSTM, mape_flow_3_LSTM],\n",
    "    '12-min prediction': [rmse_flow_4_LSTM, mape_flow_4_LSTM],\n",
    "    '15-min prediction': [rmse_flow_5_LSTM, mape_flow_5_LSTM]\n",
    "}\n",
    "df = pd.DataFrame(data)\n",
    "df.iloc[:, 1:] = df.iloc[:, 1:].round(2)\n",
    "df.to_csv('Tables/Prediction_Error_LSTM.csv', index=False)"
   ],
   "metadata": {
    "collapsed": false,
    "ExecuteTime": {
     "end_time": "2025-02-20T17:52:28.416673Z",
     "start_time": "2025-02-20T17:52:28.406786Z"
    }
   },
   "id": "820a0aa93b49de75",
   "execution_count": 34
  },
  {
   "cell_type": "code",
   "outputs": [],
   "source": [],
   "metadata": {
    "collapsed": false
   },
   "id": "610c2f4accbfd0de"
  }
 ],
 "metadata": {
  "kernelspec": {
   "display_name": "Python 3",
   "language": "python",
   "name": "python3"
  },
  "language_info": {
   "codemirror_mode": {
    "name": "ipython",
    "version": 2
   },
   "file_extension": ".py",
   "mimetype": "text/x-python",
   "name": "python",
   "nbconvert_exporter": "python",
   "pygments_lexer": "ipython2",
   "version": "2.7.6"
  }
 },
 "nbformat": 4,
 "nbformat_minor": 5
}
