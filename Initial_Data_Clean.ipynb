{
 "cells": [
  {
   "cell_type": "code",
   "execution_count": 1,
   "outputs": [],
   "source": [
    "import pandas as pd\n",
    "import os\n",
    "import numpy as np"
   ],
   "metadata": {
    "collapsed": false,
    "ExecuteTime": {
     "end_time": "2024-10-23T15:33:22.738970Z",
     "start_time": "2024-10-23T15:33:22.736653Z"
    }
   }
  },
  {
   "cell_type": "code",
   "execution_count": 2,
   "outputs": [],
   "source": [
    "file_list = [f for f in os.listdir(\"C:/Users/weizi/OneDrive - Texas A&M University/Publishing_Paper/PDE_Network_Modeling/2_RawData/District6_Raw\") if f.endswith('.txt')]"
   ],
   "metadata": {
    "collapsed": false,
    "ExecuteTime": {
     "end_time": "2024-10-23T15:33:22.741998Z",
     "start_time": "2024-10-23T15:33:22.739474Z"
    }
   }
  },
  {
   "cell_type": "code",
   "outputs": [
    {
     "name": "stdout",
     "output_type": "stream",
     "text": [
      "['d06_text_station_raw_2023_08_15.txt', 'd06_text_station_raw_2023_08_16.txt', 'd06_text_station_raw_2023_08_17.txt', 'd06_text_station_raw_2023_08_18.txt', 'd06_text_station_raw_2023_08_19.txt', 'd06_text_station_raw_2023_08_20.txt', 'd06_text_station_raw_2023_08_21.txt']\n"
     ]
    }
   ],
   "source": [
    "print(file_list)"
   ],
   "metadata": {
    "collapsed": false,
    "ExecuteTime": {
     "end_time": "2024-10-23T15:33:22.746486Z",
     "start_time": "2024-10-23T15:33:22.743001Z"
    }
   },
   "execution_count": 3
  },
  {
   "cell_type": "code",
   "execution_count": 4,
   "outputs": [],
   "source": [
    "delimiter = ','  # Change this to the actual delimiter if it's different\n",
    "data_all = pd.DataFrame()\n",
    "for file_path in file_list:\n",
    "    # Read the text file into a Pandas DataFrame\n",
    "    df = pd.read_csv('C:/Users/weizi/OneDrive - Texas A&M University/Publishing_Paper/PDE_Network_Modeling/2_RawData/District6_Raw/' + file_path, delimiter=delimiter, header=None)\n",
    "    # df = df.iloc[:, :12]\n",
    "    # names = ['TimeStamp', 'Station', 'District', 'Freeway_#', 'Dir_Travel', 'Type', 'Length', 'Samples',\n",
    "    #          'Observed_%', 'Total_Flow', 'Occupancy', 'Speed']\n",
    "    names = ['TimeStamp', 'Station', 'flow_0', 'occu_0', 'speed_0', \n",
    "             'flow_1', 'occu_1', 'speed_1', 'flow_2', 'occu_2', 'speed_2',\n",
    "             'flow_3', 'occu_3', 'speed_3','flow_4', 'occu_4', 'speed_4',\n",
    "             'flow_5', 'occu_5', 'speed_5', 'flow_6', 'occu_6', 'speed_6', \n",
    "             'flow_7', 'occu_7', 'speed_7']\n",
    "    df.columns = names\n",
    "    # df = df[df['Type']==\"ML\"]\n",
    "\n",
    "    data_all = pd.concat([data_all, df], ignore_index=True)"
   ],
   "metadata": {
    "collapsed": false,
    "ExecuteTime": {
     "end_time": "2024-10-23T15:33:33.450605Z",
     "start_time": "2024-10-23T15:33:23.395410Z"
    }
   }
  },
  {
   "cell_type": "code",
   "execution_count": 5,
   "outputs": [],
   "source": [
    "# data_all_observed = data_all[data_all['Observed_%'] > 0]\n",
    "# summary_observed = data_all_observed.groupby('Station').size().reset_index(name='Count')"
   ],
   "metadata": {
    "collapsed": false,
    "ExecuteTime": {
     "end_time": "2024-10-23T15:33:33.454703Z",
     "start_time": "2024-10-23T15:33:33.452108Z"
    }
   }
  },
  {
   "cell_type": "code",
   "execution_count": 6,
   "outputs": [],
   "source": [
    "# metadata = pd.read_csv('Data_Raw/Archive/d06_text_meta_2023_08_08.txt', delimiter='\\t')\n",
    "# metadata = metadata[metadata['Type']==\"ML\"]"
   ],
   "metadata": {
    "collapsed": false,
    "ExecuteTime": {
     "end_time": "2024-10-23T15:33:33.459098Z",
     "start_time": "2024-10-23T15:33:33.456211Z"
    }
   }
  },
  {
   "cell_type": "code",
   "execution_count": 7,
   "outputs": [],
   "source": [
    "# metadata_obs = pd.merge(metadata, summary_observed, left_on='ID', right_on='Station' , how='left')"
   ],
   "metadata": {
    "collapsed": false,
    "ExecuteTime": {
     "end_time": "2024-10-23T15:33:33.462693Z",
     "start_time": "2024-10-23T15:33:33.460102Z"
    }
   }
  },
  {
   "cell_type": "code",
   "execution_count": 8,
   "outputs": [],
   "source": [
    "# data_all_observed"
   ],
   "metadata": {
    "collapsed": false,
    "ExecuteTime": {
     "end_time": "2024-10-23T15:33:33.466741Z",
     "start_time": "2024-10-23T15:33:33.464699Z"
    }
   }
  },
  {
   "cell_type": "markdown",
   "source": [
    "## Station Selection"
   ],
   "metadata": {
    "collapsed": false
   }
  },
  {
   "cell_type": "code",
   "execution_count": 9,
   "outputs": [],
   "source": [
    "# metadata_obs.to_csv('Data_Raw/Station_MetaData_d06.csv', index=False)"
   ],
   "metadata": {
    "collapsed": false,
    "ExecuteTime": {
     "end_time": "2024-10-23T15:33:33.469927Z",
     "start_time": "2024-10-23T15:33:33.467245Z"
    }
   }
  },
  {
   "cell_type": "code",
   "execution_count": 10,
   "outputs": [],
   "source": [
    "station_selected = pd.read_csv('Data_Raw/I5N_Exported.csv')\n",
    "station_selected = station_selected[station_selected['Count'] == 2016]"
   ],
   "metadata": {
    "collapsed": false,
    "ExecuteTime": {
     "end_time": "2024-10-23T15:33:33.599437Z",
     "start_time": "2024-10-23T15:33:33.470932Z"
    }
   }
  },
  {
   "cell_type": "code",
   "execution_count": 12,
   "outputs": [],
   "source": [
    "station_selected['PM_Dir'] = station_selected['Abs_PM'] - station_selected['Abs_PM'].min()\n",
    "#station_selected['PM_Dir_round0.5'] = station_selected['PM_Dir'].apply(lambda x: round(x * 2) / 2)\n",
    "#station_selected['Station_PM'] = station_selected['PM_Dir'].round(0)\n",
    "\n",
    "station_selected['Station_PM'] = np.round(station_selected['PM_Dir'] / 2) * 2\n",
    "station_selected['PM_Deviation'] = abs(station_selected['PM_Dir'] - station_selected['Station_PM'])"
   ],
   "metadata": {
    "collapsed": false,
    "ExecuteTime": {
     "end_time": "2024-10-23T15:33:38.353387Z",
     "start_time": "2024-10-23T15:33:38.349039Z"
    }
   }
  },
  {
   "cell_type": "code",
   "execution_count": 13,
   "outputs": [],
   "source": [
    "# select the stations where the deviation from integer mile is the smallest.\n",
    "min_index = station_selected.groupby('Station_PM')['PM_Deviation'].idxmin()\n",
    "station_selected = station_selected.loc[min_index]"
   ],
   "metadata": {
    "collapsed": false,
    "ExecuteTime": {
     "end_time": "2024-10-23T15:33:39.482676Z",
     "start_time": "2024-10-23T15:33:39.477477Z"
    }
   }
  },
  {
   "cell_type": "code",
   "execution_count": 14,
   "outputs": [],
   "source": [
    "station_selected['location_step'] = station_selected['Station_PM']/2\n",
    "station_selected['Station_Number'] = station_selected['Station_PM'].rank(ascending=True)"
   ],
   "metadata": {
    "collapsed": false,
    "ExecuteTime": {
     "end_time": "2024-10-23T15:33:40.312951Z",
     "start_time": "2024-10-23T15:33:40.307666Z"
    }
   }
  },
  {
   "cell_type": "code",
   "execution_count": 15,
   "outputs": [],
   "source": [
    "# select the first 60 miles of I-5 North\n",
    "station_selected = station_selected[(station_selected['Station_PM'] < 60) & (station_selected['Station_PM'] > 20)]"
   ],
   "metadata": {
    "collapsed": false,
    "ExecuteTime": {
     "end_time": "2024-10-23T15:33:41.265250Z",
     "start_time": "2024-10-23T15:33:41.261975Z"
    }
   }
  },
  {
   "cell_type": "code",
   "execution_count": 16,
   "outputs": [],
   "source": [
    "station_selected.to_csv('Data_Raw/Station_Selected_I5N.csv', index=False)"
   ],
   "metadata": {
    "collapsed": false,
    "ExecuteTime": {
     "end_time": "2024-10-23T15:33:44.973101Z",
     "start_time": "2024-10-23T15:33:44.869016Z"
    }
   }
  },
  {
   "cell_type": "code",
   "execution_count": 17,
   "outputs": [],
   "source": [
    "order_match = station_selected[['ID', 'location_step']]\n",
    "order_match = order_match.rename(columns={'location_step': 'Station_PM'})"
   ],
   "metadata": {
    "collapsed": false,
    "ExecuteTime": {
     "end_time": "2024-10-23T15:33:45.846403Z",
     "start_time": "2024-10-23T15:33:45.843670Z"
    }
   }
  },
  {
   "cell_type": "code",
   "execution_count": 18,
   "outputs": [],
   "source": [
    "ID_selected = station_selected['ID']\n",
    "data_all_select = data_all[data_all['Station'].isin(ID_selected)].reset_index(drop=True)\n",
    "data_all_select.loc[:, 'TimeStamp'] = pd.to_datetime(data_all_select['TimeStamp'])"
   ],
   "metadata": {
    "collapsed": false,
    "ExecuteTime": {
     "end_time": "2024-10-23T15:33:52.453069Z",
     "start_time": "2024-10-23T15:33:51.869711Z"
    }
   }
  },
  {
   "cell_type": "code",
   "outputs": [],
   "source": [
    "data_all_select.loc[:,'flow'] = data_all_select.filter(like='flow_').sum(axis=1)"
   ],
   "metadata": {
    "collapsed": false,
    "ExecuteTime": {
     "end_time": "2024-10-23T15:33:52.482896Z",
     "start_time": "2024-10-23T15:33:52.454574Z"
    }
   },
   "execution_count": 19
  },
  {
   "cell_type": "code",
   "outputs": [],
   "source": [
    "data_all_select.loc[:,'occu'] = data_all_select.filter(like='occu_').mean(axis=1)"
   ],
   "metadata": {
    "collapsed": false,
    "ExecuteTime": {
     "end_time": "2024-10-23T15:33:52.510261Z",
     "start_time": "2024-10-23T15:33:52.483902Z"
    }
   },
   "execution_count": 20
  },
  {
   "cell_type": "code",
   "outputs": [],
   "source": [
    "weighted_speed = data_all_select[[f'speed_{i}' for i in range(8)]].multiply(data_all_select[[f'flow_{i}' for i in range(8)]].values, axis=0)\n",
    "data_all_select.loc[:,'speed'] = weighted_speed.sum(axis=1, skipna=True) / data_all_select[[f'flow_{i}' for i in range(8)]].sum(axis=1, skipna=True)"
   ],
   "metadata": {
    "collapsed": false,
    "ExecuteTime": {
     "end_time": "2024-10-23T15:33:53.525654Z",
     "start_time": "2024-10-23T15:33:53.467979Z"
    }
   },
   "execution_count": 21
  },
  {
   "cell_type": "code",
   "outputs": [],
   "source": [
    "data_all_select = data_all_select[['TimeStamp', 'Station', 'flow', 'occu', 'speed']]\n",
    "data_all_select['TimeStamp'] = pd.to_datetime(data_all_select['TimeStamp'])\n",
    "data_all_select.set_index('TimeStamp', inplace=True)"
   ],
   "metadata": {
    "collapsed": false,
    "ExecuteTime": {
     "end_time": "2024-10-23T15:33:53.619246Z",
     "start_time": "2024-10-23T15:33:53.526660Z"
    }
   },
   "execution_count": 22
  },
  {
   "cell_type": "code",
   "outputs": [],
   "source": [
    "data_all_select['flow_speed'] = data_all_select['flow'] * data_all_select['speed']"
   ],
   "metadata": {
    "collapsed": false,
    "ExecuteTime": {
     "end_time": "2024-10-23T15:33:54.628353Z",
     "start_time": "2024-10-23T15:33:54.624691Z"
    }
   },
   "execution_count": 23
  },
  {
   "cell_type": "code",
   "outputs": [],
   "source": [
    "# Regroup flow, occu, flow measurements\n",
    "data_all_select_resampled = data_all_select.groupby('Station').resample('3min').agg({\n",
    "    'flow': 'sum',        # Sum for flow\n",
    "    'occu': 'mean',   # Average for occupancy\n",
    "    'flow_speed': 'sum'\n",
    "})"
   ],
   "metadata": {
    "collapsed": false,
    "ExecuteTime": {
     "end_time": "2024-10-23T15:33:56.700166Z",
     "start_time": "2024-10-23T15:33:56.649776Z"
    }
   },
   "execution_count": 24
  },
  {
   "cell_type": "code",
   "outputs": [],
   "source": [
    "data_all_select_resampled['speed'] = data_all_select_resampled['flow_speed']/data_all_select_resampled['flow']\n",
    "data_all_select_resampled = data_all_select_resampled.drop(columns=['flow_speed'])\n",
    "data_all_select_resampled.reset_index(inplace=True)"
   ],
   "metadata": {
    "collapsed": false,
    "ExecuteTime": {
     "end_time": "2024-10-23T15:33:57.608047Z",
     "start_time": "2024-10-23T15:33:57.602484Z"
    }
   },
   "execution_count": 25
  },
  {
   "cell_type": "code",
   "outputs": [],
   "source": [
    "data_all_select_resampled['TimeDiff'] = ((data_all_select_resampled['TimeStamp'] - data_all_select_resampled['TimeStamp'].min()).dt.total_seconds())/60\n",
    "data_all_select_resampled['TimeStep'] = 1 + (data_all_select_resampled['TimeDiff'] // 3)"
   ],
   "metadata": {
    "collapsed": false,
    "ExecuteTime": {
     "end_time": "2024-10-23T15:33:58.488339Z",
     "start_time": "2024-10-23T15:33:58.481487Z"
    }
   },
   "execution_count": 26
  },
  {
   "cell_type": "code",
   "execution_count": 27,
   "outputs": [],
   "source": [
    "#station_selected[station_selected['PM_Dir_round'].duplicated(keep=False)]"
   ],
   "metadata": {
    "collapsed": false,
    "ExecuteTime": {
     "end_time": "2024-10-23T15:33:59.391609Z",
     "start_time": "2024-10-23T15:33:59.389246Z"
    }
   }
  },
  {
   "cell_type": "code",
   "execution_count": 28,
   "outputs": [],
   "source": [
    "data_all_select = pd.merge(data_all_select_resampled, order_match, left_on='Station', right_on='ID' , how='left')"
   ],
   "metadata": {
    "collapsed": false,
    "ExecuteTime": {
     "end_time": "2024-10-23T15:34:00.284773Z",
     "start_time": "2024-10-23T15:34:00.276703Z"
    }
   }
  },
  {
   "cell_type": "code",
   "execution_count": 30,
   "outputs": [
    {
     "name": "stderr",
     "output_type": "stream",
     "text": [
      "C:\\Users\\weizi\\AppData\\Local\\Temp\\ipykernel_26892\\2773514643.py:2: SettingWithCopyWarning: \n",
      "A value is trying to be set on a copy of a slice from a DataFrame.\n",
      "Try using .loc[row_indexer,col_indexer] = value instead\n",
      "\n",
      "See the caveats in the documentation: https://pandas.pydata.org/pandas-docs/stable/user_guide/indexing.html#returning-a-view-versus-a-copy\n",
      "  Flow['TimeStep'] = Flow['TimeStep'].astype(int)\n",
      "C:\\Users\\weizi\\AppData\\Local\\Temp\\ipykernel_26892\\2773514643.py:3: SettingWithCopyWarning: \n",
      "A value is trying to be set on a copy of a slice from a DataFrame.\n",
      "Try using .loc[row_indexer,col_indexer] = value instead\n",
      "\n",
      "See the caveats in the documentation: https://pandas.pydata.org/pandas-docs/stable/user_guide/indexing.html#returning-a-view-versus-a-copy\n",
      "  Flow['Station_PM'] = Flow['Station_PM'].astype(int)\n",
      "C:\\Users\\weizi\\AppData\\Local\\Temp\\ipykernel_26892\\2773514643.py:6: SettingWithCopyWarning: \n",
      "A value is trying to be set on a copy of a slice from a DataFrame.\n",
      "Try using .loc[row_indexer,col_indexer] = value instead\n",
      "\n",
      "See the caveats in the documentation: https://pandas.pydata.org/pandas-docs/stable/user_guide/indexing.html#returning-a-view-versus-a-copy\n",
      "  Occupancy['TimeStep'] = Occupancy['TimeStep'].astype(int)\n",
      "C:\\Users\\weizi\\AppData\\Local\\Temp\\ipykernel_26892\\2773514643.py:7: SettingWithCopyWarning: \n",
      "A value is trying to be set on a copy of a slice from a DataFrame.\n",
      "Try using .loc[row_indexer,col_indexer] = value instead\n",
      "\n",
      "See the caveats in the documentation: https://pandas.pydata.org/pandas-docs/stable/user_guide/indexing.html#returning-a-view-versus-a-copy\n",
      "  Occupancy['Station_PM'] = Occupancy['Station_PM'].astype(int)\n",
      "C:\\Users\\weizi\\AppData\\Local\\Temp\\ipykernel_26892\\2773514643.py:10: SettingWithCopyWarning: \n",
      "A value is trying to be set on a copy of a slice from a DataFrame.\n",
      "Try using .loc[row_indexer,col_indexer] = value instead\n",
      "\n",
      "See the caveats in the documentation: https://pandas.pydata.org/pandas-docs/stable/user_guide/indexing.html#returning-a-view-versus-a-copy\n",
      "  Speed['TimeStep'] = Speed['TimeStep'].astype(int)\n",
      "C:\\Users\\weizi\\AppData\\Local\\Temp\\ipykernel_26892\\2773514643.py:11: SettingWithCopyWarning: \n",
      "A value is trying to be set on a copy of a slice from a DataFrame.\n",
      "Try using .loc[row_indexer,col_indexer] = value instead\n",
      "\n",
      "See the caveats in the documentation: https://pandas.pydata.org/pandas-docs/stable/user_guide/indexing.html#returning-a-view-versus-a-copy\n",
      "  Speed['Station_PM'] = Speed['Station_PM'].astype(int)\n"
     ]
    }
   ],
   "source": [
    "Flow = data_all_select[['TimeStep', 'Station_PM', 'flow']]\n",
    "Flow['TimeStep'] = Flow['TimeStep'].astype(int)\n",
    "Flow['Station_PM'] = Flow['Station_PM'].astype(int)\n",
    "\n",
    "Occupancy = data_all_select[['TimeStep', 'Station_PM', 'occu']]\n",
    "Occupancy['TimeStep'] = Occupancy['TimeStep'].astype(int)\n",
    "Occupancy['Station_PM'] = Occupancy['Station_PM'].astype(int)\n",
    "\n",
    "Speed = data_all_select[['TimeStep', 'Station_PM', 'speed']]\n",
    "Speed['TimeStep'] = Speed['TimeStep'].astype(int)\n",
    "Speed['Station_PM'] = Speed['Station_PM'].astype(int)"
   ],
   "metadata": {
    "collapsed": false,
    "ExecuteTime": {
     "end_time": "2024-10-23T15:34:34.847916Z",
     "start_time": "2024-10-23T15:34:34.841550Z"
    }
   }
  },
  {
   "cell_type": "code",
   "outputs": [
    {
     "name": "stderr",
     "output_type": "stream",
     "text": [
      "C:\\Users\\weizi\\AppData\\Local\\Temp\\ipykernel_26892\\170357285.py:2: SettingWithCopyWarning: \n",
      "A value is trying to be set on a copy of a slice from a DataFrame.\n",
      "Try using .loc[row_indexer,col_indexer] = value instead\n",
      "\n",
      "See the caveats in the documentation: https://pandas.pydata.org/pandas-docs/stable/user_guide/indexing.html#returning-a-view-versus-a-copy\n",
      "  Flow['Station_PM'] = Flow['Station_PM'] - Flow['Station_PM'].min()\n",
      "C:\\Users\\weizi\\AppData\\Local\\Temp\\ipykernel_26892\\170357285.py:3: SettingWithCopyWarning: \n",
      "A value is trying to be set on a copy of a slice from a DataFrame.\n",
      "Try using .loc[row_indexer,col_indexer] = value instead\n",
      "\n",
      "See the caveats in the documentation: https://pandas.pydata.org/pandas-docs/stable/user_guide/indexing.html#returning-a-view-versus-a-copy\n",
      "  Occupancy['Station_PM'] = Occupancy['Station_PM'] - Occupancy['Station_PM'].min()\n",
      "C:\\Users\\weizi\\AppData\\Local\\Temp\\ipykernel_26892\\170357285.py:4: SettingWithCopyWarning: \n",
      "A value is trying to be set on a copy of a slice from a DataFrame.\n",
      "Try using .loc[row_indexer,col_indexer] = value instead\n",
      "\n",
      "See the caveats in the documentation: https://pandas.pydata.org/pandas-docs/stable/user_guide/indexing.html#returning-a-view-versus-a-copy\n",
      "  Speed['Station_PM'] = Speed['Station_PM'] - Speed['Station_PM'].min()\n"
     ]
    }
   ],
   "source": [
    "# renumber the station PM field from 0.\n",
    "Flow['Station_PM'] = Flow['Station_PM'] - Flow['Station_PM'].min()\n",
    "Occupancy['Station_PM'] = Occupancy['Station_PM'] - Occupancy['Station_PM'].min()\n",
    "Speed['Station_PM'] = Speed['Station_PM'] - Speed['Station_PM'].min()"
   ],
   "metadata": {
    "collapsed": false,
    "ExecuteTime": {
     "end_time": "2024-10-23T15:34:35.905172Z",
     "start_time": "2024-10-23T15:34:35.900839Z"
    }
   },
   "execution_count": 31
  },
  {
   "cell_type": "markdown",
   "source": [
    "## Final Data Cleaning"
   ],
   "metadata": {
    "collapsed": false
   }
  },
  {
   "cell_type": "code",
   "execution_count": 32,
   "outputs": [],
   "source": [
    "\"\"\"\n",
    "Create a table with timestep and PM (posted Miles) as one-one match\n",
    "\"\"\"\n",
    "timestep_value = [i for i in range(1, Occupancy['TimeStep'].max() + 1) for _ in range(Occupancy['Station_PM'].max() + 1)]\n",
    "PM_values = list(range(Occupancy['Station_PM'].max() + 1)) * Occupancy['TimeStep'].max()\n",
    "Time_PM = pd.DataFrame({'TimeStep': timestep_value, 'Station_PM': PM_values})"
   ],
   "metadata": {
    "collapsed": false,
    "ExecuteTime": {
     "end_time": "2024-10-23T15:34:42.955928Z",
     "start_time": "2024-10-23T15:34:42.895284Z"
    }
   }
  },
  {
   "cell_type": "code",
   "execution_count": 33,
   "outputs": [],
   "source": [
    "Occupancy_all = pd.merge(Time_PM, Occupancy, on=['TimeStep', 'Station_PM'] , how='left')\n",
    "Flow_all = pd.merge(Time_PM, Flow, on=['TimeStep', 'Station_PM'] , how='left')\n",
    "Speed_all = pd.merge(Time_PM, Speed, on=['TimeStep', 'Station_PM'] , how='left')"
   ],
   "metadata": {
    "collapsed": false,
    "ExecuteTime": {
     "end_time": "2024-10-23T15:34:45.742487Z",
     "start_time": "2024-10-23T15:34:45.718001Z"
    }
   }
  },
  {
   "cell_type": "code",
   "execution_count": 34,
   "outputs": [],
   "source": [
    "Occupancy_all_wide = Occupancy_all.pivot(index='Station_PM', columns='TimeStep', values='occu')\n",
    "Flow_all_wide = Flow_all.pivot(index='Station_PM', columns='TimeStep', values='flow')\n",
    "Speed_all_wide = Speed_all.pivot(index='Station_PM', columns='TimeStep', values='speed')"
   ],
   "metadata": {
    "collapsed": false,
    "ExecuteTime": {
     "end_time": "2024-10-23T15:34:46.753269Z",
     "start_time": "2024-10-23T15:34:46.723117Z"
    }
   }
  },
  {
   "cell_type": "code",
   "execution_count": 35,
   "outputs": [],
   "source": [
    "Flow_wide = Flow.pivot(index='Station_PM', columns='TimeStep', values='flow')\n",
    "Occupancy_wide = Occupancy.pivot(index='Station_PM', columns='TimeStep', values='occu')\n",
    "Speed_wide = Speed.pivot(index='Station_PM', columns='TimeStep', values='speed')"
   ],
   "metadata": {
    "collapsed": false,
    "ExecuteTime": {
     "end_time": "2024-10-23T15:34:46.765670Z",
     "start_time": "2024-10-23T15:34:46.754273Z"
    }
   }
  },
  {
   "cell_type": "code",
   "outputs": [
    {
     "data": {
      "text/plain": "TimeStep    1     2     3     4     5     6     7     8     9     10    ...  \\\nStation_PM                                                              ...   \n0           19.0  34.0  27.0  23.0  17.0  24.0  23.0  18.0  21.0  20.0  ...   \n1           21.0  26.0  35.0  19.0  16.0  16.0  22.0  25.0  15.0  27.0  ...   \n4           17.0  18.0  21.0  14.0  36.0  33.0  18.0  20.0  19.0  15.0  ...   \n7           18.0  21.0  26.0  22.0  19.0  27.0  32.0  16.0  24.0  15.0  ...   \n9           38.0  27.0  25.0  16.0  36.0  20.0  25.0  29.0  27.0  14.0  ...   \n11          31.0  41.0  25.0  24.0  20.0  36.0  21.0  22.0  39.0  24.0  ...   \n13          44.0  29.0  27.0  33.0  29.0  22.0  22.0  32.0  21.0  31.0  ...   \n14          35.0  41.0  28.0  34.0  32.0  24.0  18.0  26.0  25.0  29.0  ...   \n15          32.0  43.0  33.0  34.0  29.0  28.0  26.0  23.0  30.0  23.0  ...   \n16          40.0  30.0  46.0  25.0  37.0  27.0  29.0  22.0  25.0  32.0  ...   \n\nTimeStep    3351  3352  3353  3354  3355  3356  3357  3358  3359  3360  \nStation_PM                                                              \n0           24.0  21.0  25.0  21.0  15.0  28.0  20.0  14.0  23.0  27.0  \n1           20.0  20.0  20.0  31.0  18.0  27.0  20.0  15.0  18.0  23.0  \n4           17.0  25.0  20.0  23.0  22.0  28.0  20.0  25.0  22.0  18.0  \n7           18.0  19.0  19.0  30.0  20.0  16.0  25.0  28.0  16.0  31.0  \n9           27.0  29.0  22.0  24.0  20.0  27.0  21.0  25.0  27.0  23.0  \n11          20.0  30.0  27.0  21.0  21.0  22.0  25.0  19.0  28.0  23.0  \n13          22.0  24.0  25.0  28.0  22.0  19.0  21.0  23.0  16.0  21.0  \n14          13.0  28.0  24.0  32.0  20.0  21.0  15.0  28.0  17.0  21.0  \n15          26.0  23.0  27.0  19.0  30.0  21.0  24.0  18.0  21.0  21.0  \n16          26.0  22.0  25.0  22.0  24.0  32.0  19.0  23.0  28.0  21.0  \n\n[10 rows x 3360 columns]",
      "text/html": "<div>\n<style scoped>\n    .dataframe tbody tr th:only-of-type {\n        vertical-align: middle;\n    }\n\n    .dataframe tbody tr th {\n        vertical-align: top;\n    }\n\n    .dataframe thead th {\n        text-align: right;\n    }\n</style>\n<table border=\"1\" class=\"dataframe\">\n  <thead>\n    <tr style=\"text-align: right;\">\n      <th>TimeStep</th>\n      <th>1</th>\n      <th>2</th>\n      <th>3</th>\n      <th>4</th>\n      <th>5</th>\n      <th>6</th>\n      <th>7</th>\n      <th>8</th>\n      <th>9</th>\n      <th>10</th>\n      <th>...</th>\n      <th>3351</th>\n      <th>3352</th>\n      <th>3353</th>\n      <th>3354</th>\n      <th>3355</th>\n      <th>3356</th>\n      <th>3357</th>\n      <th>3358</th>\n      <th>3359</th>\n      <th>3360</th>\n    </tr>\n    <tr>\n      <th>Station_PM</th>\n      <th></th>\n      <th></th>\n      <th></th>\n      <th></th>\n      <th></th>\n      <th></th>\n      <th></th>\n      <th></th>\n      <th></th>\n      <th></th>\n      <th></th>\n      <th></th>\n      <th></th>\n      <th></th>\n      <th></th>\n      <th></th>\n      <th></th>\n      <th></th>\n      <th></th>\n      <th></th>\n      <th></th>\n    </tr>\n  </thead>\n  <tbody>\n    <tr>\n      <th>0</th>\n      <td>19.0</td>\n      <td>34.0</td>\n      <td>27.0</td>\n      <td>23.0</td>\n      <td>17.0</td>\n      <td>24.0</td>\n      <td>23.0</td>\n      <td>18.0</td>\n      <td>21.0</td>\n      <td>20.0</td>\n      <td>...</td>\n      <td>24.0</td>\n      <td>21.0</td>\n      <td>25.0</td>\n      <td>21.0</td>\n      <td>15.0</td>\n      <td>28.0</td>\n      <td>20.0</td>\n      <td>14.0</td>\n      <td>23.0</td>\n      <td>27.0</td>\n    </tr>\n    <tr>\n      <th>1</th>\n      <td>21.0</td>\n      <td>26.0</td>\n      <td>35.0</td>\n      <td>19.0</td>\n      <td>16.0</td>\n      <td>16.0</td>\n      <td>22.0</td>\n      <td>25.0</td>\n      <td>15.0</td>\n      <td>27.0</td>\n      <td>...</td>\n      <td>20.0</td>\n      <td>20.0</td>\n      <td>20.0</td>\n      <td>31.0</td>\n      <td>18.0</td>\n      <td>27.0</td>\n      <td>20.0</td>\n      <td>15.0</td>\n      <td>18.0</td>\n      <td>23.0</td>\n    </tr>\n    <tr>\n      <th>4</th>\n      <td>17.0</td>\n      <td>18.0</td>\n      <td>21.0</td>\n      <td>14.0</td>\n      <td>36.0</td>\n      <td>33.0</td>\n      <td>18.0</td>\n      <td>20.0</td>\n      <td>19.0</td>\n      <td>15.0</td>\n      <td>...</td>\n      <td>17.0</td>\n      <td>25.0</td>\n      <td>20.0</td>\n      <td>23.0</td>\n      <td>22.0</td>\n      <td>28.0</td>\n      <td>20.0</td>\n      <td>25.0</td>\n      <td>22.0</td>\n      <td>18.0</td>\n    </tr>\n    <tr>\n      <th>7</th>\n      <td>18.0</td>\n      <td>21.0</td>\n      <td>26.0</td>\n      <td>22.0</td>\n      <td>19.0</td>\n      <td>27.0</td>\n      <td>32.0</td>\n      <td>16.0</td>\n      <td>24.0</td>\n      <td>15.0</td>\n      <td>...</td>\n      <td>18.0</td>\n      <td>19.0</td>\n      <td>19.0</td>\n      <td>30.0</td>\n      <td>20.0</td>\n      <td>16.0</td>\n      <td>25.0</td>\n      <td>28.0</td>\n      <td>16.0</td>\n      <td>31.0</td>\n    </tr>\n    <tr>\n      <th>9</th>\n      <td>38.0</td>\n      <td>27.0</td>\n      <td>25.0</td>\n      <td>16.0</td>\n      <td>36.0</td>\n      <td>20.0</td>\n      <td>25.0</td>\n      <td>29.0</td>\n      <td>27.0</td>\n      <td>14.0</td>\n      <td>...</td>\n      <td>27.0</td>\n      <td>29.0</td>\n      <td>22.0</td>\n      <td>24.0</td>\n      <td>20.0</td>\n      <td>27.0</td>\n      <td>21.0</td>\n      <td>25.0</td>\n      <td>27.0</td>\n      <td>23.0</td>\n    </tr>\n    <tr>\n      <th>11</th>\n      <td>31.0</td>\n      <td>41.0</td>\n      <td>25.0</td>\n      <td>24.0</td>\n      <td>20.0</td>\n      <td>36.0</td>\n      <td>21.0</td>\n      <td>22.0</td>\n      <td>39.0</td>\n      <td>24.0</td>\n      <td>...</td>\n      <td>20.0</td>\n      <td>30.0</td>\n      <td>27.0</td>\n      <td>21.0</td>\n      <td>21.0</td>\n      <td>22.0</td>\n      <td>25.0</td>\n      <td>19.0</td>\n      <td>28.0</td>\n      <td>23.0</td>\n    </tr>\n    <tr>\n      <th>13</th>\n      <td>44.0</td>\n      <td>29.0</td>\n      <td>27.0</td>\n      <td>33.0</td>\n      <td>29.0</td>\n      <td>22.0</td>\n      <td>22.0</td>\n      <td>32.0</td>\n      <td>21.0</td>\n      <td>31.0</td>\n      <td>...</td>\n      <td>22.0</td>\n      <td>24.0</td>\n      <td>25.0</td>\n      <td>28.0</td>\n      <td>22.0</td>\n      <td>19.0</td>\n      <td>21.0</td>\n      <td>23.0</td>\n      <td>16.0</td>\n      <td>21.0</td>\n    </tr>\n    <tr>\n      <th>14</th>\n      <td>35.0</td>\n      <td>41.0</td>\n      <td>28.0</td>\n      <td>34.0</td>\n      <td>32.0</td>\n      <td>24.0</td>\n      <td>18.0</td>\n      <td>26.0</td>\n      <td>25.0</td>\n      <td>29.0</td>\n      <td>...</td>\n      <td>13.0</td>\n      <td>28.0</td>\n      <td>24.0</td>\n      <td>32.0</td>\n      <td>20.0</td>\n      <td>21.0</td>\n      <td>15.0</td>\n      <td>28.0</td>\n      <td>17.0</td>\n      <td>21.0</td>\n    </tr>\n    <tr>\n      <th>15</th>\n      <td>32.0</td>\n      <td>43.0</td>\n      <td>33.0</td>\n      <td>34.0</td>\n      <td>29.0</td>\n      <td>28.0</td>\n      <td>26.0</td>\n      <td>23.0</td>\n      <td>30.0</td>\n      <td>23.0</td>\n      <td>...</td>\n      <td>26.0</td>\n      <td>23.0</td>\n      <td>27.0</td>\n      <td>19.0</td>\n      <td>30.0</td>\n      <td>21.0</td>\n      <td>24.0</td>\n      <td>18.0</td>\n      <td>21.0</td>\n      <td>21.0</td>\n    </tr>\n    <tr>\n      <th>16</th>\n      <td>40.0</td>\n      <td>30.0</td>\n      <td>46.0</td>\n      <td>25.0</td>\n      <td>37.0</td>\n      <td>27.0</td>\n      <td>29.0</td>\n      <td>22.0</td>\n      <td>25.0</td>\n      <td>32.0</td>\n      <td>...</td>\n      <td>26.0</td>\n      <td>22.0</td>\n      <td>25.0</td>\n      <td>22.0</td>\n      <td>24.0</td>\n      <td>32.0</td>\n      <td>19.0</td>\n      <td>23.0</td>\n      <td>28.0</td>\n      <td>21.0</td>\n    </tr>\n  </tbody>\n</table>\n<p>10 rows × 3360 columns</p>\n</div>"
     },
     "execution_count": 38,
     "metadata": {},
     "output_type": "execute_result"
    }
   ],
   "source": [
    "Flow_wide"
   ],
   "metadata": {
    "collapsed": false,
    "ExecuteTime": {
     "end_time": "2024-10-23T15:37:29.878396Z",
     "start_time": "2024-10-23T15:37:29.863423Z"
    }
   },
   "execution_count": 38
  },
  {
   "cell_type": "code",
   "execution_count": 42,
   "outputs": [],
   "source": [
    "Flow_all_wide.to_csv('Data_Clean/Flow_all.csv')\n",
    "Occupancy_all_wide.to_csv('Data_Clean/Occupancy_all.csv')\n",
    "Speed_all_wide.to_csv('Data_Clean/Speed_all.csv')"
   ],
   "metadata": {
    "collapsed": false,
    "ExecuteTime": {
     "end_time": "2024-10-18T19:40:08.504386Z",
     "start_time": "2024-10-18T19:40:08.347300Z"
    }
   }
  },
  {
   "cell_type": "code",
   "execution_count": 43,
   "outputs": [],
   "source": [
    "Flow_wide.to_csv('Data_Clean/Flow.csv')\n",
    "Occupancy_wide.to_csv('Data_Clean/Occupancy.csv')\n",
    "Speed_wide.to_csv('Data_Clean/Speed.csv')"
   ],
   "metadata": {
    "collapsed": false,
    "ExecuteTime": {
     "end_time": "2024-10-18T19:40:08.564529Z",
     "start_time": "2024-10-18T19:40:08.504890Z"
    }
   }
  },
  {
   "cell_type": "code",
   "execution_count": 44,
   "outputs": [],
   "source": [
    "Flow.to_csv('Data_Clean/Flow_Long.csv', index=False)\n",
    "Occupancy.to_csv('Data_Clean/Occupancy_Long.csv', index=False)\n",
    "Speed.to_csv('Data_Clean/Speed_Long.csv', index=False)"
   ],
   "metadata": {
    "collapsed": false,
    "ExecuteTime": {
     "end_time": "2024-10-18T19:40:09.559590Z",
     "start_time": "2024-10-18T19:40:09.484358Z"
    }
   }
  },
  {
   "cell_type": "code",
   "execution_count": 45,
   "outputs": [],
   "source": [
    "Flow_all.to_csv('Data_Clean/Flow_all_Long.csv', index=False)\n",
    "Occupancy_all.to_csv('Data_Clean/Occupancy_all_Long.csv', index=False)\n",
    "Speed_all.to_csv('Data_Clean/Speed_all_Long.csv', index=False)"
   ],
   "metadata": {
    "collapsed": false,
    "ExecuteTime": {
     "end_time": "2024-10-18T19:40:10.649468Z",
     "start_time": "2024-10-18T19:40:10.528791Z"
    }
   }
  },
  {
   "cell_type": "code",
   "execution_count": null,
   "outputs": [],
   "source": [],
   "metadata": {
    "collapsed": false
   }
  }
 ],
 "metadata": {
  "kernelspec": {
   "display_name": "Python 3",
   "language": "python",
   "name": "python3"
  },
  "language_info": {
   "codemirror_mode": {
    "name": "ipython",
    "version": 2
   },
   "file_extension": ".py",
   "mimetype": "text/x-python",
   "name": "python",
   "nbconvert_exporter": "python",
   "pygments_lexer": "ipython2",
   "version": "2.7.6"
  }
 },
 "nbformat": 4,
 "nbformat_minor": 0
}
