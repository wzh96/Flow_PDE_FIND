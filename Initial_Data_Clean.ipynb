{
 "cells": [
  {
   "cell_type": "code",
   "execution_count": 1,
   "outputs": [],
   "source": [
    "import pandas as pd\n",
    "import os\n",
    "import numpy as np"
   ],
   "metadata": {
    "collapsed": false,
    "ExecuteTime": {
     "end_time": "2024-10-03T16:59:44.534802Z",
     "start_time": "2024-10-03T16:59:44.532821Z"
    }
   }
  },
  {
   "cell_type": "code",
   "execution_count": 2,
   "outputs": [],
   "source": [
    "file_list = [f for f in os.listdir(\"C:/Users/weizi/OneDrive - Texas A&M University/Publishing_Paper/PDE_Network_Modeling/2_RawData/District6_Raw\") if f.endswith('.txt')]"
   ],
   "metadata": {
    "collapsed": false,
    "ExecuteTime": {
     "end_time": "2024-10-03T16:59:44.538365Z",
     "start_time": "2024-10-03T16:59:44.536307Z"
    }
   }
  },
  {
   "cell_type": "code",
   "outputs": [
    {
     "name": "stdout",
     "output_type": "stream",
     "text": [
      "['d06_text_station_raw_2023_08_15.txt', 'd06_text_station_raw_2023_08_16.txt', 'd06_text_station_raw_2023_08_17.txt', 'd06_text_station_raw_2023_08_18.txt', 'd06_text_station_raw_2023_08_19.txt', 'd06_text_station_raw_2023_08_20.txt', 'd06_text_station_raw_2023_08_21.txt']\n"
     ]
    }
   ],
   "source": [
    "print(file_list)"
   ],
   "metadata": {
    "collapsed": false,
    "ExecuteTime": {
     "end_time": "2024-10-03T16:59:44.541803Z",
     "start_time": "2024-10-03T16:59:44.538870Z"
    }
   },
   "execution_count": 3
  },
  {
   "cell_type": "code",
   "execution_count": 4,
   "outputs": [],
   "source": [
    "delimiter = ','  # Change this to the actual delimiter if it's different\n",
    "data_all = pd.DataFrame()\n",
    "for file_path in file_list:\n",
    "    # Read the text file into a Pandas DataFrame\n",
    "    df = pd.read_csv('C:/Users/weizi/OneDrive - Texas A&M University/Publishing_Paper/PDE_Network_Modeling/2_RawData/District6_Raw/' + file_path, delimiter=delimiter, header=None)\n",
    "    # df = df.iloc[:, :12]\n",
    "    # names = ['TimeStamp', 'Station', 'District', 'Freeway_#', 'Dir_Travel', 'Type', 'Length', 'Samples',\n",
    "    #          'Observed_%', 'Total_Flow', 'Occupancy', 'Speed']\n",
    "    names = ['TimeStamp', 'Station', 'flow_0', 'occu_0', 'speed_0', \n",
    "             'flow_1', 'occu_1', 'speed_1', 'flow_2', 'occu_2', 'speed_2',\n",
    "             'flow_3', 'occu_3', 'speed_3','flow_4', 'occu_4', 'speed_4',\n",
    "             'flow_5', 'occu_5', 'speed_5', 'flow_6', 'occu_6', 'speed_6', \n",
    "             'flow_7', 'occu_7', 'speed_7']\n",
    "    df.columns = names\n",
    "    # df = df[df['Type']==\"ML\"]\n",
    "\n",
    "    data_all = pd.concat([data_all, df], ignore_index=True)"
   ],
   "metadata": {
    "collapsed": false,
    "ExecuteTime": {
     "end_time": "2024-10-03T16:59:53.529213Z",
     "start_time": "2024-10-03T16:59:44.542811Z"
    }
   }
  },
  {
   "cell_type": "code",
   "execution_count": 5,
   "outputs": [],
   "source": [
    "# data_all_observed = data_all[data_all['Observed_%'] > 0]\n",
    "# summary_observed = data_all_observed.groupby('Station').size().reset_index(name='Count')"
   ],
   "metadata": {
    "collapsed": false,
    "ExecuteTime": {
     "end_time": "2024-10-03T16:59:53.532494Z",
     "start_time": "2024-10-03T16:59:53.530218Z"
    }
   }
  },
  {
   "cell_type": "code",
   "execution_count": 6,
   "outputs": [],
   "source": [
    "# metadata = pd.read_csv('Data_Raw/Archive/d06_text_meta_2023_08_08.txt', delimiter='\\t')\n",
    "# metadata = metadata[metadata['Type']==\"ML\"]"
   ],
   "metadata": {
    "collapsed": false,
    "ExecuteTime": {
     "end_time": "2024-10-03T16:59:53.535322Z",
     "start_time": "2024-10-03T16:59:53.532998Z"
    }
   }
  },
  {
   "cell_type": "code",
   "execution_count": 7,
   "outputs": [],
   "source": [
    "# metadata_obs = pd.merge(metadata, summary_observed, left_on='ID', right_on='Station' , how='left')"
   ],
   "metadata": {
    "collapsed": false,
    "ExecuteTime": {
     "end_time": "2024-10-03T16:59:53.538335Z",
     "start_time": "2024-10-03T16:59:53.535825Z"
    }
   }
  },
  {
   "cell_type": "code",
   "execution_count": 8,
   "outputs": [],
   "source": [
    "# data_all_observed"
   ],
   "metadata": {
    "collapsed": false,
    "ExecuteTime": {
     "end_time": "2024-10-03T16:59:53.540548Z",
     "start_time": "2024-10-03T16:59:53.538834Z"
    }
   }
  },
  {
   "cell_type": "markdown",
   "source": [
    "## Station Selection"
   ],
   "metadata": {
    "collapsed": false
   }
  },
  {
   "cell_type": "code",
   "execution_count": 9,
   "outputs": [],
   "source": [
    "# metadata_obs.to_csv('Data_Raw/Station_MetaData_d06.csv', index=False)"
   ],
   "metadata": {
    "collapsed": false,
    "ExecuteTime": {
     "end_time": "2024-10-03T16:59:53.543465Z",
     "start_time": "2024-10-03T16:59:53.541553Z"
    }
   }
  },
  {
   "cell_type": "code",
   "execution_count": 10,
   "outputs": [],
   "source": [
    "station_selected = pd.read_csv('Data_Raw/I5N_Exported.csv')\n",
    "station_selected = station_selected[station_selected['Count'] == 2016]"
   ],
   "metadata": {
    "collapsed": false,
    "ExecuteTime": {
     "end_time": "2024-10-03T16:59:53.547976Z",
     "start_time": "2024-10-03T16:59:53.543969Z"
    }
   }
  },
  {
   "cell_type": "code",
   "outputs": [
    {
     "data": {
      "text/plain": "        ID  Fwy Dir  District  County  City  State_PM   Abs_PM   Latitude  \\\n1   601189    5   N         6      29   NaN   82.4070  287.524  35.732730   \n2   601241    5   N         6      29   NaN   61.1820  266.299  35.486091   \n3   601277    5   N         6      29   NaN   70.5540  275.671  35.587296   \n5   601279    5   N         6      29   NaN   62.9240  268.041  35.503831   \n6   601280    5   N         6      29   NaN   52.5700  257.687  35.403061   \n7   601281    5   N         6      29   NaN   29.8660  234.983  35.170050   \n10  601284    5   N         6      29   NaN   16.1740  221.291  35.022381   \n12  601286    5   N         6      29   NaN    8.3310  213.448  34.914506   \n14  601310    5   N         6      29   NaN   39.1680  244.285  35.271319   \n15  601315    5   N         6      29   NaN   56.6220  261.739  35.442203   \n17  601326    5   N         6      31   NaN    7.1205  299.262  35.875808   \n18  601335    5   N         6      19   NaN   30.6600  349.526  36.444085   \n22  601339    5   N         6      29   NaN   13.9930  219.110  34.993067   \n25  601357    5   N         6      29   NaN   32.0720  237.189  35.193824   \n28  601386    5   N         6      19   NaN   26.3100  345.176  36.392954   \n30  601388    5   N         6      19   NaN    8.4500  327.316  36.172384   \n32  601390    5   N         6      31   NaN    9.4450  301.587  35.902098   \n34  601392    5   N         6      29   NaN   58.8030  263.920  35.463229   \n36  601506    5   N         6      31   NaN   13.5180  305.660  35.947505   \n37  601510    5   N         6      29   NaN   10.1730  215.290  34.939412   \n38  601516    5   N         6      29   NaN   43.9270  249.044  35.320704   \n39  601518    5   N         6      29   NaN   48.6420  253.759  35.365470   \n41  601589    5   N         6      31   NaN   25.1000  317.242  36.060874   \n42  601590    5   N         6      19   NaN    0.2400  319.106  36.077043   \n45  601731    5   N         6      19   NaN   23.6200  342.486  36.361347   \n46  601732    5   N         6      19   NaN   25.6300  344.496  36.384978   \n47  601734    5   N         6      31   NaN    4.0005  296.142  35.839368   \n48  619972    5   N         6      29   NaN   84.5000  289.617  35.758773   \n49  619991    5   N         6      29   NaN   67.9980  273.115  35.559089   \n\n     Longitude  Length Type  Lanes                              Name  \\\n1  -119.739642   3.547   ML      2                TWISSELMAN RD - NB   \n2  -119.516913   2.060   ML      2             S/O LERDO HWY - I5 NB   \n3  -119.627630   3.778   ML      2                S/O RTE 46 - I5 NB   \n5  -119.538840   2.020   ML      2             N/O LERDO HWY - I5 NB   \n6  -119.402843   2.604   ML      2                JNO RTE 58 - I5 NB   \n7  -119.120044   1.917   ML      2       3.62 MI S/O RTE 223 - I5 NB   \n10 -118.960142   2.988   ML      2            JNO RTE 99 JCT - I5 NB   \n12 -118.923609   3.421   ML      4  1.84 MI S/O GRAPEVINE RD - I5 NB   \n14 -119.228751   1.995   ML      2                  RTE 119 SEP 5 NB   \n15 -119.456402   2.475   ML      2              7TH STANDARD RD 5 NB   \n17 -119.852701   2.722   ML      2           WATERLOO AVE OC - IB NB   \n18 -120.401418   4.675   ML      2    JNO RTE 33 (NEXT TO CMS 26) NB   \n22 -118.947281   1.981   ML      4          WHEELER RIDGE RD - I5 NB   \n25 -119.146126   1.827   ML      2  1.34 MI S OF RTE 223 NB (BEAR BL   \n28 -120.355701   2.515   ML      2             3.17 MI S/O JCT 33 NB   \n30 -120.190231   3.970   ML      2                 N OF JAYNE AVE NB   \n32 -119.878616   2.619   ML      2                 SOUTH OF UTICA NB   \n34 -119.485311   2.280   ML      2      0.5 MI NO BUTON WILLOW DR NB   \n36 -119.925032   3.079   ML      2                        N OF UTICA   \n37 -118.929744   1.941   ML      4              GRAPEVINE RD - I5 NB   \n38 -119.287451   3.669   ML      2               N OF RTE 43 - I5 NB   \n39 -119.350584   4.321   ML      2        N OF STOCKDALE HWY - I5 NB   \n41 -120.075363   2.682   ML      2         I-5 1.9 MI S/O RTE 269 NB   \n42 -120.102109   2.706   ML      2                 I-5 AT RTE 269 NB   \n45 -120.327406   2.950   ML      2   I5 NB SOUTH OF COALINGA-MENDOTA   \n46 -120.348524   0.895   ML      2   I5 NB NORTH OF COALINGA-MENDOTA   \n47 -119.819753   2.970   ML      2          I5 8 MILES SO UTICA - NB   \n48 -119.758794   3.546   ML      2      2 MILE NO TWISSELMAN RD - NB   \n49 -119.598218   2.665   ML      2  5.4 MI NO LERDO HWY (AT CANAL) N   \n\n    User_ID_1  User_ID_2  User_ID_3  User_ID_4   Station   Count  \n1           1        NaN        NaN        NaN  601189.0  2016.0  \n2           1        NaN        NaN        NaN  601241.0  2016.0  \n3           1        NaN        NaN        NaN  601277.0  2016.0  \n5           1        NaN        NaN        NaN  601279.0  2016.0  \n6           1        NaN        NaN        NaN  601280.0  2016.0  \n7           1        NaN        NaN        NaN  601281.0  2016.0  \n10          1        NaN        NaN        NaN  601284.0  2016.0  \n12          1        NaN        NaN        NaN  601286.0  2016.0  \n14          1        NaN        NaN        NaN  601310.0  2016.0  \n15          1        NaN        NaN        NaN  601315.0  2016.0  \n17          1        NaN        NaN        NaN  601326.0  2016.0  \n18          1        NaN        NaN        NaN  601335.0  2016.0  \n22          1        NaN        NaN        NaN  601339.0  2016.0  \n25          1        NaN        NaN        NaN  601357.0  2016.0  \n28          1        NaN        NaN        NaN  601386.0  2016.0  \n30          1        NaN        NaN        NaN  601388.0  2016.0  \n32          1        NaN        NaN        NaN  601390.0  2016.0  \n34          1        NaN        NaN        NaN  601392.0  2016.0  \n36          1        NaN        NaN        NaN  601506.0  2016.0  \n37          1        NaN        NaN        NaN  601510.0  2016.0  \n38          1        NaN        NaN        NaN  601516.0  2016.0  \n39          1        NaN        NaN        NaN  601518.0  2016.0  \n41          1        NaN        NaN        NaN  601589.0  2016.0  \n42          1        NaN        NaN        NaN  601590.0  2016.0  \n45          1        NaN        NaN        NaN  601731.0  2016.0  \n46          1        NaN        NaN        NaN  601732.0  2016.0  \n47          1        NaN        NaN        NaN  601734.0  2016.0  \n48          1        NaN        NaN        NaN  619972.0  2016.0  \n49          1        NaN        NaN        NaN  619991.0  2016.0  ",
      "text/html": "<div>\n<style scoped>\n    .dataframe tbody tr th:only-of-type {\n        vertical-align: middle;\n    }\n\n    .dataframe tbody tr th {\n        vertical-align: top;\n    }\n\n    .dataframe thead th {\n        text-align: right;\n    }\n</style>\n<table border=\"1\" class=\"dataframe\">\n  <thead>\n    <tr style=\"text-align: right;\">\n      <th></th>\n      <th>ID</th>\n      <th>Fwy</th>\n      <th>Dir</th>\n      <th>District</th>\n      <th>County</th>\n      <th>City</th>\n      <th>State_PM</th>\n      <th>Abs_PM</th>\n      <th>Latitude</th>\n      <th>Longitude</th>\n      <th>Length</th>\n      <th>Type</th>\n      <th>Lanes</th>\n      <th>Name</th>\n      <th>User_ID_1</th>\n      <th>User_ID_2</th>\n      <th>User_ID_3</th>\n      <th>User_ID_4</th>\n      <th>Station</th>\n      <th>Count</th>\n    </tr>\n  </thead>\n  <tbody>\n    <tr>\n      <th>1</th>\n      <td>601189</td>\n      <td>5</td>\n      <td>N</td>\n      <td>6</td>\n      <td>29</td>\n      <td>NaN</td>\n      <td>82.4070</td>\n      <td>287.524</td>\n      <td>35.732730</td>\n      <td>-119.739642</td>\n      <td>3.547</td>\n      <td>ML</td>\n      <td>2</td>\n      <td>TWISSELMAN RD - NB</td>\n      <td>1</td>\n      <td>NaN</td>\n      <td>NaN</td>\n      <td>NaN</td>\n      <td>601189.0</td>\n      <td>2016.0</td>\n    </tr>\n    <tr>\n      <th>2</th>\n      <td>601241</td>\n      <td>5</td>\n      <td>N</td>\n      <td>6</td>\n      <td>29</td>\n      <td>NaN</td>\n      <td>61.1820</td>\n      <td>266.299</td>\n      <td>35.486091</td>\n      <td>-119.516913</td>\n      <td>2.060</td>\n      <td>ML</td>\n      <td>2</td>\n      <td>S/O LERDO HWY - I5 NB</td>\n      <td>1</td>\n      <td>NaN</td>\n      <td>NaN</td>\n      <td>NaN</td>\n      <td>601241.0</td>\n      <td>2016.0</td>\n    </tr>\n    <tr>\n      <th>3</th>\n      <td>601277</td>\n      <td>5</td>\n      <td>N</td>\n      <td>6</td>\n      <td>29</td>\n      <td>NaN</td>\n      <td>70.5540</td>\n      <td>275.671</td>\n      <td>35.587296</td>\n      <td>-119.627630</td>\n      <td>3.778</td>\n      <td>ML</td>\n      <td>2</td>\n      <td>S/O RTE 46 - I5 NB</td>\n      <td>1</td>\n      <td>NaN</td>\n      <td>NaN</td>\n      <td>NaN</td>\n      <td>601277.0</td>\n      <td>2016.0</td>\n    </tr>\n    <tr>\n      <th>5</th>\n      <td>601279</td>\n      <td>5</td>\n      <td>N</td>\n      <td>6</td>\n      <td>29</td>\n      <td>NaN</td>\n      <td>62.9240</td>\n      <td>268.041</td>\n      <td>35.503831</td>\n      <td>-119.538840</td>\n      <td>2.020</td>\n      <td>ML</td>\n      <td>2</td>\n      <td>N/O LERDO HWY - I5 NB</td>\n      <td>1</td>\n      <td>NaN</td>\n      <td>NaN</td>\n      <td>NaN</td>\n      <td>601279.0</td>\n      <td>2016.0</td>\n    </tr>\n    <tr>\n      <th>6</th>\n      <td>601280</td>\n      <td>5</td>\n      <td>N</td>\n      <td>6</td>\n      <td>29</td>\n      <td>NaN</td>\n      <td>52.5700</td>\n      <td>257.687</td>\n      <td>35.403061</td>\n      <td>-119.402843</td>\n      <td>2.604</td>\n      <td>ML</td>\n      <td>2</td>\n      <td>JNO RTE 58 - I5 NB</td>\n      <td>1</td>\n      <td>NaN</td>\n      <td>NaN</td>\n      <td>NaN</td>\n      <td>601280.0</td>\n      <td>2016.0</td>\n    </tr>\n    <tr>\n      <th>7</th>\n      <td>601281</td>\n      <td>5</td>\n      <td>N</td>\n      <td>6</td>\n      <td>29</td>\n      <td>NaN</td>\n      <td>29.8660</td>\n      <td>234.983</td>\n      <td>35.170050</td>\n      <td>-119.120044</td>\n      <td>1.917</td>\n      <td>ML</td>\n      <td>2</td>\n      <td>3.62 MI S/O RTE 223 - I5 NB</td>\n      <td>1</td>\n      <td>NaN</td>\n      <td>NaN</td>\n      <td>NaN</td>\n      <td>601281.0</td>\n      <td>2016.0</td>\n    </tr>\n    <tr>\n      <th>10</th>\n      <td>601284</td>\n      <td>5</td>\n      <td>N</td>\n      <td>6</td>\n      <td>29</td>\n      <td>NaN</td>\n      <td>16.1740</td>\n      <td>221.291</td>\n      <td>35.022381</td>\n      <td>-118.960142</td>\n      <td>2.988</td>\n      <td>ML</td>\n      <td>2</td>\n      <td>JNO RTE 99 JCT - I5 NB</td>\n      <td>1</td>\n      <td>NaN</td>\n      <td>NaN</td>\n      <td>NaN</td>\n      <td>601284.0</td>\n      <td>2016.0</td>\n    </tr>\n    <tr>\n      <th>12</th>\n      <td>601286</td>\n      <td>5</td>\n      <td>N</td>\n      <td>6</td>\n      <td>29</td>\n      <td>NaN</td>\n      <td>8.3310</td>\n      <td>213.448</td>\n      <td>34.914506</td>\n      <td>-118.923609</td>\n      <td>3.421</td>\n      <td>ML</td>\n      <td>4</td>\n      <td>1.84 MI S/O GRAPEVINE RD - I5 NB</td>\n      <td>1</td>\n      <td>NaN</td>\n      <td>NaN</td>\n      <td>NaN</td>\n      <td>601286.0</td>\n      <td>2016.0</td>\n    </tr>\n    <tr>\n      <th>14</th>\n      <td>601310</td>\n      <td>5</td>\n      <td>N</td>\n      <td>6</td>\n      <td>29</td>\n      <td>NaN</td>\n      <td>39.1680</td>\n      <td>244.285</td>\n      <td>35.271319</td>\n      <td>-119.228751</td>\n      <td>1.995</td>\n      <td>ML</td>\n      <td>2</td>\n      <td>RTE 119 SEP 5 NB</td>\n      <td>1</td>\n      <td>NaN</td>\n      <td>NaN</td>\n      <td>NaN</td>\n      <td>601310.0</td>\n      <td>2016.0</td>\n    </tr>\n    <tr>\n      <th>15</th>\n      <td>601315</td>\n      <td>5</td>\n      <td>N</td>\n      <td>6</td>\n      <td>29</td>\n      <td>NaN</td>\n      <td>56.6220</td>\n      <td>261.739</td>\n      <td>35.442203</td>\n      <td>-119.456402</td>\n      <td>2.475</td>\n      <td>ML</td>\n      <td>2</td>\n      <td>7TH STANDARD RD 5 NB</td>\n      <td>1</td>\n      <td>NaN</td>\n      <td>NaN</td>\n      <td>NaN</td>\n      <td>601315.0</td>\n      <td>2016.0</td>\n    </tr>\n    <tr>\n      <th>17</th>\n      <td>601326</td>\n      <td>5</td>\n      <td>N</td>\n      <td>6</td>\n      <td>31</td>\n      <td>NaN</td>\n      <td>7.1205</td>\n      <td>299.262</td>\n      <td>35.875808</td>\n      <td>-119.852701</td>\n      <td>2.722</td>\n      <td>ML</td>\n      <td>2</td>\n      <td>WATERLOO AVE OC - IB NB</td>\n      <td>1</td>\n      <td>NaN</td>\n      <td>NaN</td>\n      <td>NaN</td>\n      <td>601326.0</td>\n      <td>2016.0</td>\n    </tr>\n    <tr>\n      <th>18</th>\n      <td>601335</td>\n      <td>5</td>\n      <td>N</td>\n      <td>6</td>\n      <td>19</td>\n      <td>NaN</td>\n      <td>30.6600</td>\n      <td>349.526</td>\n      <td>36.444085</td>\n      <td>-120.401418</td>\n      <td>4.675</td>\n      <td>ML</td>\n      <td>2</td>\n      <td>JNO RTE 33 (NEXT TO CMS 26) NB</td>\n      <td>1</td>\n      <td>NaN</td>\n      <td>NaN</td>\n      <td>NaN</td>\n      <td>601335.0</td>\n      <td>2016.0</td>\n    </tr>\n    <tr>\n      <th>22</th>\n      <td>601339</td>\n      <td>5</td>\n      <td>N</td>\n      <td>6</td>\n      <td>29</td>\n      <td>NaN</td>\n      <td>13.9930</td>\n      <td>219.110</td>\n      <td>34.993067</td>\n      <td>-118.947281</td>\n      <td>1.981</td>\n      <td>ML</td>\n      <td>4</td>\n      <td>WHEELER RIDGE RD - I5 NB</td>\n      <td>1</td>\n      <td>NaN</td>\n      <td>NaN</td>\n      <td>NaN</td>\n      <td>601339.0</td>\n      <td>2016.0</td>\n    </tr>\n    <tr>\n      <th>25</th>\n      <td>601357</td>\n      <td>5</td>\n      <td>N</td>\n      <td>6</td>\n      <td>29</td>\n      <td>NaN</td>\n      <td>32.0720</td>\n      <td>237.189</td>\n      <td>35.193824</td>\n      <td>-119.146126</td>\n      <td>1.827</td>\n      <td>ML</td>\n      <td>2</td>\n      <td>1.34 MI S OF RTE 223 NB (BEAR BL</td>\n      <td>1</td>\n      <td>NaN</td>\n      <td>NaN</td>\n      <td>NaN</td>\n      <td>601357.0</td>\n      <td>2016.0</td>\n    </tr>\n    <tr>\n      <th>28</th>\n      <td>601386</td>\n      <td>5</td>\n      <td>N</td>\n      <td>6</td>\n      <td>19</td>\n      <td>NaN</td>\n      <td>26.3100</td>\n      <td>345.176</td>\n      <td>36.392954</td>\n      <td>-120.355701</td>\n      <td>2.515</td>\n      <td>ML</td>\n      <td>2</td>\n      <td>3.17 MI S/O JCT 33 NB</td>\n      <td>1</td>\n      <td>NaN</td>\n      <td>NaN</td>\n      <td>NaN</td>\n      <td>601386.0</td>\n      <td>2016.0</td>\n    </tr>\n    <tr>\n      <th>30</th>\n      <td>601388</td>\n      <td>5</td>\n      <td>N</td>\n      <td>6</td>\n      <td>19</td>\n      <td>NaN</td>\n      <td>8.4500</td>\n      <td>327.316</td>\n      <td>36.172384</td>\n      <td>-120.190231</td>\n      <td>3.970</td>\n      <td>ML</td>\n      <td>2</td>\n      <td>N OF JAYNE AVE NB</td>\n      <td>1</td>\n      <td>NaN</td>\n      <td>NaN</td>\n      <td>NaN</td>\n      <td>601388.0</td>\n      <td>2016.0</td>\n    </tr>\n    <tr>\n      <th>32</th>\n      <td>601390</td>\n      <td>5</td>\n      <td>N</td>\n      <td>6</td>\n      <td>31</td>\n      <td>NaN</td>\n      <td>9.4450</td>\n      <td>301.587</td>\n      <td>35.902098</td>\n      <td>-119.878616</td>\n      <td>2.619</td>\n      <td>ML</td>\n      <td>2</td>\n      <td>SOUTH OF UTICA NB</td>\n      <td>1</td>\n      <td>NaN</td>\n      <td>NaN</td>\n      <td>NaN</td>\n      <td>601390.0</td>\n      <td>2016.0</td>\n    </tr>\n    <tr>\n      <th>34</th>\n      <td>601392</td>\n      <td>5</td>\n      <td>N</td>\n      <td>6</td>\n      <td>29</td>\n      <td>NaN</td>\n      <td>58.8030</td>\n      <td>263.920</td>\n      <td>35.463229</td>\n      <td>-119.485311</td>\n      <td>2.280</td>\n      <td>ML</td>\n      <td>2</td>\n      <td>0.5 MI NO BUTON WILLOW DR NB</td>\n      <td>1</td>\n      <td>NaN</td>\n      <td>NaN</td>\n      <td>NaN</td>\n      <td>601392.0</td>\n      <td>2016.0</td>\n    </tr>\n    <tr>\n      <th>36</th>\n      <td>601506</td>\n      <td>5</td>\n      <td>N</td>\n      <td>6</td>\n      <td>31</td>\n      <td>NaN</td>\n      <td>13.5180</td>\n      <td>305.660</td>\n      <td>35.947505</td>\n      <td>-119.925032</td>\n      <td>3.079</td>\n      <td>ML</td>\n      <td>2</td>\n      <td>N OF UTICA</td>\n      <td>1</td>\n      <td>NaN</td>\n      <td>NaN</td>\n      <td>NaN</td>\n      <td>601506.0</td>\n      <td>2016.0</td>\n    </tr>\n    <tr>\n      <th>37</th>\n      <td>601510</td>\n      <td>5</td>\n      <td>N</td>\n      <td>6</td>\n      <td>29</td>\n      <td>NaN</td>\n      <td>10.1730</td>\n      <td>215.290</td>\n      <td>34.939412</td>\n      <td>-118.929744</td>\n      <td>1.941</td>\n      <td>ML</td>\n      <td>4</td>\n      <td>GRAPEVINE RD - I5 NB</td>\n      <td>1</td>\n      <td>NaN</td>\n      <td>NaN</td>\n      <td>NaN</td>\n      <td>601510.0</td>\n      <td>2016.0</td>\n    </tr>\n    <tr>\n      <th>38</th>\n      <td>601516</td>\n      <td>5</td>\n      <td>N</td>\n      <td>6</td>\n      <td>29</td>\n      <td>NaN</td>\n      <td>43.9270</td>\n      <td>249.044</td>\n      <td>35.320704</td>\n      <td>-119.287451</td>\n      <td>3.669</td>\n      <td>ML</td>\n      <td>2</td>\n      <td>N OF RTE 43 - I5 NB</td>\n      <td>1</td>\n      <td>NaN</td>\n      <td>NaN</td>\n      <td>NaN</td>\n      <td>601516.0</td>\n      <td>2016.0</td>\n    </tr>\n    <tr>\n      <th>39</th>\n      <td>601518</td>\n      <td>5</td>\n      <td>N</td>\n      <td>6</td>\n      <td>29</td>\n      <td>NaN</td>\n      <td>48.6420</td>\n      <td>253.759</td>\n      <td>35.365470</td>\n      <td>-119.350584</td>\n      <td>4.321</td>\n      <td>ML</td>\n      <td>2</td>\n      <td>N OF STOCKDALE HWY - I5 NB</td>\n      <td>1</td>\n      <td>NaN</td>\n      <td>NaN</td>\n      <td>NaN</td>\n      <td>601518.0</td>\n      <td>2016.0</td>\n    </tr>\n    <tr>\n      <th>41</th>\n      <td>601589</td>\n      <td>5</td>\n      <td>N</td>\n      <td>6</td>\n      <td>31</td>\n      <td>NaN</td>\n      <td>25.1000</td>\n      <td>317.242</td>\n      <td>36.060874</td>\n      <td>-120.075363</td>\n      <td>2.682</td>\n      <td>ML</td>\n      <td>2</td>\n      <td>I-5 1.9 MI S/O RTE 269 NB</td>\n      <td>1</td>\n      <td>NaN</td>\n      <td>NaN</td>\n      <td>NaN</td>\n      <td>601589.0</td>\n      <td>2016.0</td>\n    </tr>\n    <tr>\n      <th>42</th>\n      <td>601590</td>\n      <td>5</td>\n      <td>N</td>\n      <td>6</td>\n      <td>19</td>\n      <td>NaN</td>\n      <td>0.2400</td>\n      <td>319.106</td>\n      <td>36.077043</td>\n      <td>-120.102109</td>\n      <td>2.706</td>\n      <td>ML</td>\n      <td>2</td>\n      <td>I-5 AT RTE 269 NB</td>\n      <td>1</td>\n      <td>NaN</td>\n      <td>NaN</td>\n      <td>NaN</td>\n      <td>601590.0</td>\n      <td>2016.0</td>\n    </tr>\n    <tr>\n      <th>45</th>\n      <td>601731</td>\n      <td>5</td>\n      <td>N</td>\n      <td>6</td>\n      <td>19</td>\n      <td>NaN</td>\n      <td>23.6200</td>\n      <td>342.486</td>\n      <td>36.361347</td>\n      <td>-120.327406</td>\n      <td>2.950</td>\n      <td>ML</td>\n      <td>2</td>\n      <td>I5 NB SOUTH OF COALINGA-MENDOTA</td>\n      <td>1</td>\n      <td>NaN</td>\n      <td>NaN</td>\n      <td>NaN</td>\n      <td>601731.0</td>\n      <td>2016.0</td>\n    </tr>\n    <tr>\n      <th>46</th>\n      <td>601732</td>\n      <td>5</td>\n      <td>N</td>\n      <td>6</td>\n      <td>19</td>\n      <td>NaN</td>\n      <td>25.6300</td>\n      <td>344.496</td>\n      <td>36.384978</td>\n      <td>-120.348524</td>\n      <td>0.895</td>\n      <td>ML</td>\n      <td>2</td>\n      <td>I5 NB NORTH OF COALINGA-MENDOTA</td>\n      <td>1</td>\n      <td>NaN</td>\n      <td>NaN</td>\n      <td>NaN</td>\n      <td>601732.0</td>\n      <td>2016.0</td>\n    </tr>\n    <tr>\n      <th>47</th>\n      <td>601734</td>\n      <td>5</td>\n      <td>N</td>\n      <td>6</td>\n      <td>31</td>\n      <td>NaN</td>\n      <td>4.0005</td>\n      <td>296.142</td>\n      <td>35.839368</td>\n      <td>-119.819753</td>\n      <td>2.970</td>\n      <td>ML</td>\n      <td>2</td>\n      <td>I5 8 MILES SO UTICA - NB</td>\n      <td>1</td>\n      <td>NaN</td>\n      <td>NaN</td>\n      <td>NaN</td>\n      <td>601734.0</td>\n      <td>2016.0</td>\n    </tr>\n    <tr>\n      <th>48</th>\n      <td>619972</td>\n      <td>5</td>\n      <td>N</td>\n      <td>6</td>\n      <td>29</td>\n      <td>NaN</td>\n      <td>84.5000</td>\n      <td>289.617</td>\n      <td>35.758773</td>\n      <td>-119.758794</td>\n      <td>3.546</td>\n      <td>ML</td>\n      <td>2</td>\n      <td>2 MILE NO TWISSELMAN RD - NB</td>\n      <td>1</td>\n      <td>NaN</td>\n      <td>NaN</td>\n      <td>NaN</td>\n      <td>619972.0</td>\n      <td>2016.0</td>\n    </tr>\n    <tr>\n      <th>49</th>\n      <td>619991</td>\n      <td>5</td>\n      <td>N</td>\n      <td>6</td>\n      <td>29</td>\n      <td>NaN</td>\n      <td>67.9980</td>\n      <td>273.115</td>\n      <td>35.559089</td>\n      <td>-119.598218</td>\n      <td>2.665</td>\n      <td>ML</td>\n      <td>2</td>\n      <td>5.4 MI NO LERDO HWY (AT CANAL) N</td>\n      <td>1</td>\n      <td>NaN</td>\n      <td>NaN</td>\n      <td>NaN</td>\n      <td>619991.0</td>\n      <td>2016.0</td>\n    </tr>\n  </tbody>\n</table>\n</div>"
     },
     "execution_count": 11,
     "metadata": {},
     "output_type": "execute_result"
    }
   ],
   "source": [
    "station_selected"
   ],
   "metadata": {
    "collapsed": false,
    "ExecuteTime": {
     "end_time": "2024-10-03T16:59:53.567990Z",
     "start_time": "2024-10-03T16:59:53.548482Z"
    }
   },
   "execution_count": 11
  },
  {
   "cell_type": "code",
   "execution_count": 12,
   "outputs": [],
   "source": [
    "station_selected['PM_Dir'] = station_selected['Abs_PM'] - station_selected['Abs_PM'].min()\n",
    "#station_selected['PM_Dir_round0.5'] = station_selected['PM_Dir'].apply(lambda x: round(x * 2) / 2)\n",
    "#station_selected['Station_PM'] = station_selected['PM_Dir'].round(0)\n",
    "\n",
    "station_selected['Station_PM'] = np.round(station_selected['PM_Dir'] / 2) * 2\n",
    "station_selected['PM_Deviation'] = abs(station_selected['PM_Dir'] - station_selected['Station_PM'])"
   ],
   "metadata": {
    "collapsed": false,
    "ExecuteTime": {
     "end_time": "2024-10-03T16:59:53.572239Z",
     "start_time": "2024-10-03T16:59:53.568494Z"
    }
   }
  },
  {
   "cell_type": "code",
   "execution_count": 13,
   "outputs": [],
   "source": [
    "# select the stations where the deviation from integer mile is the smallest.\n",
    "min_index = station_selected.groupby('Station_PM')['PM_Deviation'].idxmin()\n",
    "station_selected = station_selected.loc[min_index]"
   ],
   "metadata": {
    "collapsed": false,
    "ExecuteTime": {
     "end_time": "2024-10-03T16:59:53.575976Z",
     "start_time": "2024-10-03T16:59:53.572747Z"
    }
   }
  },
  {
   "cell_type": "code",
   "execution_count": 14,
   "outputs": [],
   "source": [
    "station_selected['location_step'] = station_selected['Station_PM']/2\n",
    "station_selected['Station_Number'] = station_selected['Station_PM'].rank(ascending=True)"
   ],
   "metadata": {
    "collapsed": false,
    "ExecuteTime": {
     "end_time": "2024-10-03T16:59:53.580744Z",
     "start_time": "2024-10-03T16:59:53.577984Z"
    }
   }
  },
  {
   "cell_type": "code",
   "execution_count": 15,
   "outputs": [],
   "source": [
    "# select the first 60 miles of I-5 North\n",
    "station_selected = station_selected[(station_selected['Station_PM'] < 60) & (station_selected['Station_PM'] > 20)]"
   ],
   "metadata": {
    "collapsed": false,
    "ExecuteTime": {
     "end_time": "2024-10-03T16:59:53.583888Z",
     "start_time": "2024-10-03T16:59:53.581248Z"
    }
   }
  },
  {
   "cell_type": "code",
   "execution_count": 16,
   "outputs": [],
   "source": [
    "# station_selected.to_csv('Data_Raw/Station_Selected_I5N.csv', index=False)"
   ],
   "metadata": {
    "collapsed": false,
    "ExecuteTime": {
     "end_time": "2024-10-03T16:59:53.587157Z",
     "start_time": "2024-10-03T16:59:53.584895Z"
    }
   }
  },
  {
   "cell_type": "code",
   "execution_count": 17,
   "outputs": [],
   "source": [
    "order_match = station_selected[['ID', 'location_step']]\n",
    "order_match = order_match.rename(columns={'location_step': 'Station_PM'})"
   ],
   "metadata": {
    "collapsed": false,
    "ExecuteTime": {
     "end_time": "2024-10-03T16:59:53.590668Z",
     "start_time": "2024-10-03T16:59:53.587157Z"
    }
   }
  },
  {
   "cell_type": "code",
   "execution_count": 18,
   "outputs": [],
   "source": [
    "ID_selected = station_selected['ID']\n",
    "data_all_select = data_all[data_all['Station'].isin(ID_selected)].reset_index(drop=True)\n",
    "data_all_select.loc[:, 'TimeStamp'] = pd.to_datetime(data_all_select['TimeStamp'])"
   ],
   "metadata": {
    "collapsed": false,
    "ExecuteTime": {
     "end_time": "2024-10-03T16:59:54.273090Z",
     "start_time": "2024-10-03T16:59:53.591172Z"
    }
   }
  },
  {
   "cell_type": "code",
   "outputs": [],
   "source": [
    "data_all_select.loc[:,'flow'] = data_all_select.filter(like='flow_').sum(axis=1)"
   ],
   "metadata": {
    "collapsed": false,
    "ExecuteTime": {
     "end_time": "2024-10-03T16:59:54.297762Z",
     "start_time": "2024-10-03T16:59:54.273595Z"
    }
   },
   "execution_count": 19
  },
  {
   "cell_type": "code",
   "outputs": [],
   "source": [
    "data_all_select.loc[:,'occu'] = data_all_select.filter(like='occu_').mean(axis=1)"
   ],
   "metadata": {
    "collapsed": false,
    "ExecuteTime": {
     "end_time": "2024-10-03T16:59:54.322179Z",
     "start_time": "2024-10-03T16:59:54.298268Z"
    }
   },
   "execution_count": 20
  },
  {
   "cell_type": "code",
   "outputs": [],
   "source": [
    "weighted_speed = data_all_select[[f'speed_{i}' for i in range(8)]].multiply(data_all_select[[f'flow_{i}' for i in range(8)]].values, axis=0)\n",
    "data_all_select.loc[:,'speed'] = weighted_speed.sum(axis=1, skipna=True) / data_all_select[[f'flow_{i}' for i in range(8)]].sum(axis=1, skipna=True)"
   ],
   "metadata": {
    "collapsed": false,
    "ExecuteTime": {
     "end_time": "2024-10-03T16:59:54.377101Z",
     "start_time": "2024-10-03T16:59:54.323186Z"
    }
   },
   "execution_count": 21
  },
  {
   "cell_type": "code",
   "outputs": [],
   "source": [
    "data_all_select = data_all_select[['TimeStamp', 'Station', 'flow', 'occu', 'speed']]\n",
    "data_all_select['TimeStamp'] = pd.to_datetime(data_all_select['TimeStamp'])\n",
    "data_all_select.set_index('TimeStamp', inplace=True)"
   ],
   "metadata": {
    "collapsed": false,
    "ExecuteTime": {
     "end_time": "2024-10-03T16:59:54.460076Z",
     "start_time": "2024-10-03T16:59:54.377101Z"
    }
   },
   "execution_count": 22
  },
  {
   "cell_type": "code",
   "outputs": [],
   "source": [
    "data_all_select['flow_speed'] = data_all_select['flow'] * data_all_select['speed']"
   ],
   "metadata": {
    "collapsed": false,
    "ExecuteTime": {
     "end_time": "2024-10-03T16:59:54.464161Z",
     "start_time": "2024-10-03T16:59:54.461082Z"
    }
   },
   "execution_count": 23
  },
  {
   "cell_type": "code",
   "outputs": [],
   "source": [
    "data_all_select_resampled = data_all_select.groupby('Station').resample('2min').agg({\n",
    "    'flow': 'sum',        # Sum for flow\n",
    "    'occu': 'mean',   # Average for occupancy\n",
    "    'flow_speed': 'sum'\n",
    "})"
   ],
   "metadata": {
    "collapsed": false,
    "ExecuteTime": {
     "end_time": "2024-10-03T16:59:54.504838Z",
     "start_time": "2024-10-03T16:59:54.464666Z"
    }
   },
   "execution_count": 24
  },
  {
   "cell_type": "code",
   "outputs": [],
   "source": [
    "data_all_select_resampled['speed'] = data_all_select_resampled['flow_speed']/data_all_select_resampled['flow']\n",
    "data_all_select_resampled = data_all_select_resampled.drop(columns=['flow_speed'])\n",
    "data_all_select_resampled.reset_index(inplace=True)"
   ],
   "metadata": {
    "collapsed": false,
    "ExecuteTime": {
     "end_time": "2024-10-03T16:59:54.509816Z",
     "start_time": "2024-10-03T16:59:54.505343Z"
    }
   },
   "execution_count": 25
  },
  {
   "cell_type": "code",
   "outputs": [],
   "source": [
    "data_all_select_resampled['TimeDiff'] = ((data_all_select_resampled['TimeStamp'] - data_all_select_resampled['TimeStamp'].min()).dt.total_seconds())/60\n",
    "data_all_select_resampled['TimeStep'] = 1 + (data_all_select_resampled['TimeDiff'] // 2)"
   ],
   "metadata": {
    "collapsed": false,
    "ExecuteTime": {
     "end_time": "2024-10-03T16:59:54.515412Z",
     "start_time": "2024-10-03T16:59:54.510322Z"
    }
   },
   "execution_count": 26
  },
  {
   "cell_type": "code",
   "execution_count": 27,
   "outputs": [],
   "source": [
    "#station_selected[station_selected['PM_Dir_round'].duplicated(keep=False)]"
   ],
   "metadata": {
    "collapsed": false,
    "ExecuteTime": {
     "end_time": "2024-10-03T16:59:54.518430Z",
     "start_time": "2024-10-03T16:59:54.515918Z"
    }
   }
  },
  {
   "cell_type": "code",
   "execution_count": 28,
   "outputs": [],
   "source": [
    "data_all_select = pd.merge(data_all_select_resampled, order_match, left_on='Station', right_on='ID' , how='left')"
   ],
   "metadata": {
    "collapsed": false,
    "ExecuteTime": {
     "end_time": "2024-10-03T16:59:54.525227Z",
     "start_time": "2024-10-03T16:59:54.519430Z"
    }
   }
  },
  {
   "cell_type": "code",
   "execution_count": 29,
   "outputs": [
    {
     "name": "stderr",
     "output_type": "stream",
     "text": [
      "C:\\Users\\weizi\\AppData\\Local\\Temp\\ipykernel_100948\\2773514643.py:2: SettingWithCopyWarning: \n",
      "A value is trying to be set on a copy of a slice from a DataFrame.\n",
      "Try using .loc[row_indexer,col_indexer] = value instead\n",
      "\n",
      "See the caveats in the documentation: https://pandas.pydata.org/pandas-docs/stable/user_guide/indexing.html#returning-a-view-versus-a-copy\n",
      "  Flow['TimeStep'] = Flow['TimeStep'].astype(int)\n",
      "C:\\Users\\weizi\\AppData\\Local\\Temp\\ipykernel_100948\\2773514643.py:3: SettingWithCopyWarning: \n",
      "A value is trying to be set on a copy of a slice from a DataFrame.\n",
      "Try using .loc[row_indexer,col_indexer] = value instead\n",
      "\n",
      "See the caveats in the documentation: https://pandas.pydata.org/pandas-docs/stable/user_guide/indexing.html#returning-a-view-versus-a-copy\n",
      "  Flow['Station_PM'] = Flow['Station_PM'].astype(int)\n",
      "C:\\Users\\weizi\\AppData\\Local\\Temp\\ipykernel_100948\\2773514643.py:6: SettingWithCopyWarning: \n",
      "A value is trying to be set on a copy of a slice from a DataFrame.\n",
      "Try using .loc[row_indexer,col_indexer] = value instead\n",
      "\n",
      "See the caveats in the documentation: https://pandas.pydata.org/pandas-docs/stable/user_guide/indexing.html#returning-a-view-versus-a-copy\n",
      "  Occupancy['TimeStep'] = Occupancy['TimeStep'].astype(int)\n",
      "C:\\Users\\weizi\\AppData\\Local\\Temp\\ipykernel_100948\\2773514643.py:7: SettingWithCopyWarning: \n",
      "A value is trying to be set on a copy of a slice from a DataFrame.\n",
      "Try using .loc[row_indexer,col_indexer] = value instead\n",
      "\n",
      "See the caveats in the documentation: https://pandas.pydata.org/pandas-docs/stable/user_guide/indexing.html#returning-a-view-versus-a-copy\n",
      "  Occupancy['Station_PM'] = Occupancy['Station_PM'].astype(int)\n",
      "C:\\Users\\weizi\\AppData\\Local\\Temp\\ipykernel_100948\\2773514643.py:10: SettingWithCopyWarning: \n",
      "A value is trying to be set on a copy of a slice from a DataFrame.\n",
      "Try using .loc[row_indexer,col_indexer] = value instead\n",
      "\n",
      "See the caveats in the documentation: https://pandas.pydata.org/pandas-docs/stable/user_guide/indexing.html#returning-a-view-versus-a-copy\n",
      "  Speed['TimeStep'] = Speed['TimeStep'].astype(int)\n",
      "C:\\Users\\weizi\\AppData\\Local\\Temp\\ipykernel_100948\\2773514643.py:11: SettingWithCopyWarning: \n",
      "A value is trying to be set on a copy of a slice from a DataFrame.\n",
      "Try using .loc[row_indexer,col_indexer] = value instead\n",
      "\n",
      "See the caveats in the documentation: https://pandas.pydata.org/pandas-docs/stable/user_guide/indexing.html#returning-a-view-versus-a-copy\n",
      "  Speed['Station_PM'] = Speed['Station_PM'].astype(int)\n"
     ]
    }
   ],
   "source": [
    "Flow = data_all_select[['TimeStep', 'Station_PM', 'flow']]\n",
    "Flow['TimeStep'] = Flow['TimeStep'].astype(int)\n",
    "Flow['Station_PM'] = Flow['Station_PM'].astype(int)\n",
    "\n",
    "Occupancy = data_all_select[['TimeStep', 'Station_PM', 'occu']]\n",
    "Occupancy['TimeStep'] = Occupancy['TimeStep'].astype(int)\n",
    "Occupancy['Station_PM'] = Occupancy['Station_PM'].astype(int)\n",
    "\n",
    "Speed = data_all_select[['TimeStep', 'Station_PM', 'speed']]\n",
    "Speed['TimeStep'] = Speed['TimeStep'].astype(int)\n",
    "Speed['Station_PM'] = Speed['Station_PM'].astype(int)"
   ],
   "metadata": {
    "collapsed": false,
    "ExecuteTime": {
     "end_time": "2024-10-03T16:59:54.532020Z",
     "start_time": "2024-10-03T16:59:54.525732Z"
    }
   }
  },
  {
   "cell_type": "code",
   "outputs": [
    {
     "name": "stderr",
     "output_type": "stream",
     "text": [
      "C:\\Users\\weizi\\AppData\\Local\\Temp\\ipykernel_100948\\170357285.py:2: SettingWithCopyWarning: \n",
      "A value is trying to be set on a copy of a slice from a DataFrame.\n",
      "Try using .loc[row_indexer,col_indexer] = value instead\n",
      "\n",
      "See the caveats in the documentation: https://pandas.pydata.org/pandas-docs/stable/user_guide/indexing.html#returning-a-view-versus-a-copy\n",
      "  Flow['Station_PM'] = Flow['Station_PM'] - Flow['Station_PM'].min()\n",
      "C:\\Users\\weizi\\AppData\\Local\\Temp\\ipykernel_100948\\170357285.py:3: SettingWithCopyWarning: \n",
      "A value is trying to be set on a copy of a slice from a DataFrame.\n",
      "Try using .loc[row_indexer,col_indexer] = value instead\n",
      "\n",
      "See the caveats in the documentation: https://pandas.pydata.org/pandas-docs/stable/user_guide/indexing.html#returning-a-view-versus-a-copy\n",
      "  Occupancy['Station_PM'] = Occupancy['Station_PM'] - Occupancy['Station_PM'].min()\n",
      "C:\\Users\\weizi\\AppData\\Local\\Temp\\ipykernel_100948\\170357285.py:4: SettingWithCopyWarning: \n",
      "A value is trying to be set on a copy of a slice from a DataFrame.\n",
      "Try using .loc[row_indexer,col_indexer] = value instead\n",
      "\n",
      "See the caveats in the documentation: https://pandas.pydata.org/pandas-docs/stable/user_guide/indexing.html#returning-a-view-versus-a-copy\n",
      "  Speed['Station_PM'] = Speed['Station_PM'] - Speed['Station_PM'].min()\n"
     ]
    }
   ],
   "source": [
    "# renumber the station PM field from 0.\n",
    "Flow['Station_PM'] = Flow['Station_PM'] - Flow['Station_PM'].min()\n",
    "Occupancy['Station_PM'] = Occupancy['Station_PM'] - Occupancy['Station_PM'].min()\n",
    "Speed['Station_PM'] = Speed['Station_PM'] - Speed['Station_PM'].min()"
   ],
   "metadata": {
    "collapsed": false,
    "ExecuteTime": {
     "end_time": "2024-10-03T16:59:54.536571Z",
     "start_time": "2024-10-03T16:59:54.532525Z"
    }
   },
   "execution_count": 30
  },
  {
   "cell_type": "markdown",
   "source": [
    "## Final Data Cleaning"
   ],
   "metadata": {
    "collapsed": false
   }
  },
  {
   "cell_type": "code",
   "execution_count": 31,
   "outputs": [],
   "source": [
    "\"\"\"\n",
    "Create a table with timestep and PM (posted Miles) as one-one match\n",
    "\"\"\"\n",
    "timestep_value = [i for i in range(1, Occupancy['TimeStep'].max() + 1) for _ in range(Occupancy['Station_PM'].max() + 1)]\n",
    "PM_values = list(range(Occupancy['Station_PM'].max() + 1)) * Occupancy['TimeStep'].max()\n",
    "Time_PM = pd.DataFrame({'TimeStep': timestep_value, 'Station_PM': PM_values})"
   ],
   "metadata": {
    "collapsed": false,
    "ExecuteTime": {
     "end_time": "2024-10-03T17:00:05.361940Z",
     "start_time": "2024-10-03T17:00:05.291906Z"
    }
   }
  },
  {
   "cell_type": "code",
   "execution_count": 32,
   "outputs": [],
   "source": [
    "Occupancy_all = pd.merge(Time_PM, Occupancy, on=['TimeStep', 'Station_PM'] , how='left')\n",
    "Flow_all = pd.merge(Time_PM, Flow, on=['TimeStep', 'Station_PM'] , how='left')\n",
    "Speed_all = pd.merge(Time_PM, Speed, on=['TimeStep', 'Station_PM'] , how='left')"
   ],
   "metadata": {
    "collapsed": false,
    "ExecuteTime": {
     "end_time": "2024-10-03T17:00:08.290029Z",
     "start_time": "2024-10-03T17:00:08.263668Z"
    }
   }
  },
  {
   "cell_type": "code",
   "execution_count": 33,
   "outputs": [],
   "source": [
    "Occupancy_all_wide = Occupancy_all.pivot(index='Station_PM', columns='TimeStep', values='occu')\n",
    "Flow_all_wide = Flow_all.pivot(index='Station_PM', columns='TimeStep', values='flow')\n",
    "Speed_all_wide = Speed_all.pivot(index='Station_PM', columns='TimeStep', values='speed')"
   ],
   "metadata": {
    "collapsed": false,
    "ExecuteTime": {
     "end_time": "2024-10-03T17:00:09.110184Z",
     "start_time": "2024-10-03T17:00:09.072961Z"
    }
   }
  },
  {
   "cell_type": "code",
   "execution_count": 34,
   "outputs": [],
   "source": [
    "Flow_wide = Flow.pivot(index='Station_PM', columns='TimeStep', values='flow')\n",
    "Occupancy_wide = Occupancy.pivot(index='Station_PM', columns='TimeStep', values='occu')\n",
    "Speed_wide = Speed.pivot(index='Station_PM', columns='TimeStep', values='speed')"
   ],
   "metadata": {
    "collapsed": false,
    "ExecuteTime": {
     "end_time": "2024-10-03T17:00:09.125110Z",
     "start_time": "2024-10-03T17:00:09.110690Z"
    }
   }
  },
  {
   "cell_type": "code",
   "execution_count": 35,
   "outputs": [],
   "source": [
    "Flow_all_wide.to_csv('Data_Clean/Flow_all.csv')\n",
    "Occupancy_all_wide.to_csv('Data_Clean/Occupancy_all.csv')\n",
    "Speed_all_wide.to_csv('Data_Clean/Speed_all.csv')"
   ],
   "metadata": {
    "collapsed": false,
    "ExecuteTime": {
     "end_time": "2024-10-03T17:00:09.243903Z",
     "start_time": "2024-10-03T17:00:09.126114Z"
    }
   }
  },
  {
   "cell_type": "code",
   "execution_count": 36,
   "outputs": [],
   "source": [
    "Flow_wide.to_csv('Data_Clean/Flow.csv')\n",
    "Occupancy_wide.to_csv('Data_Clean/Occupancy.csv')\n",
    "Speed_wide.to_csv('Data_Clean/Speed.csv')"
   ],
   "metadata": {
    "collapsed": false,
    "ExecuteTime": {
     "end_time": "2024-10-03T17:00:09.344683Z",
     "start_time": "2024-10-03T17:00:09.245412Z"
    }
   }
  },
  {
   "cell_type": "code",
   "execution_count": 37,
   "outputs": [],
   "source": [
    "Flow.to_csv('Data_Clean/Flow_Long.csv', index=False)\n",
    "Occupancy.to_csv('Data_Clean/Occupancy_Long.csv', index=False)\n",
    "Speed.to_csv('Data_Clean/Speed_Long.csv', index=False)"
   ],
   "metadata": {
    "collapsed": false,
    "ExecuteTime": {
     "end_time": "2024-10-03T17:00:10.259984Z",
     "start_time": "2024-10-03T17:00:10.145635Z"
    }
   }
  },
  {
   "cell_type": "code",
   "execution_count": 38,
   "outputs": [],
   "source": [
    "Flow_all.to_csv('Data_Clean/Flow_all_Long.csv', index=False)\n",
    "Occupancy_all.to_csv('Data_Clean/Occupancy_all_Long.csv', index=False)\n",
    "Speed_all.to_csv('Data_Clean/Speed_all_Long.csv', index=False)"
   ],
   "metadata": {
    "collapsed": false,
    "ExecuteTime": {
     "end_time": "2024-10-03T17:00:10.405508Z",
     "start_time": "2024-10-03T17:00:10.260986Z"
    }
   }
  },
  {
   "cell_type": "code",
   "execution_count": null,
   "outputs": [],
   "source": [],
   "metadata": {
    "collapsed": false
   }
  }
 ],
 "metadata": {
  "kernelspec": {
   "display_name": "Python 3",
   "language": "python",
   "name": "python3"
  },
  "language_info": {
   "codemirror_mode": {
    "name": "ipython",
    "version": 2
   },
   "file_extension": ".py",
   "mimetype": "text/x-python",
   "name": "python",
   "nbconvert_exporter": "python",
   "pygments_lexer": "ipython2",
   "version": "2.7.6"
  }
 },
 "nbformat": 4,
 "nbformat_minor": 0
}
