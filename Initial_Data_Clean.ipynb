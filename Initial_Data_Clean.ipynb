{
 "cells": [
  {
   "cell_type": "code",
   "execution_count": 1,
   "outputs": [],
   "source": [
    "import pandas as pd\n",
    "import os\n",
    "import numpy as np"
   ],
   "metadata": {
    "collapsed": false
   }
  },
  {
   "cell_type": "code",
   "execution_count": 2,
   "outputs": [],
   "source": [
    "file_list = [f for f in os.listdir('/Users/zihangwei/Library/CloudStorage/OneDrive-TexasA&MUniversity/Publishing_Paper/PDE_Network_Modeling/2_RawData/District6') if f.endswith('.txt')]"
   ],
   "metadata": {
    "collapsed": false
   }
  },
  {
   "cell_type": "code",
   "execution_count": 3,
   "outputs": [],
   "source": [
    "delimiter = ','  # Change this to the actual delimiter if it's different\n",
    "data_all = pd.DataFrame()\n",
    "for file_path in file_list:\n",
    "    # Read the text file into a Pandas DataFrame\n",
    "    df = pd.read_csv('/Users/zihangwei/Library/CloudStorage/OneDrive-TexasA&MUniversity/Publishing_Paper/PDE_Network_Modeling/2_RawData/District6/' + file_path, delimiter=delimiter, header=None)\n",
    "    df = df.iloc[:, :12]\n",
    "    names = ['TimeStamp', 'Station', 'District', 'Freeway_#', 'Dir_Travel', 'Type', 'Length', 'Samples',\n",
    "             'Observed_%', 'Total_Flow', 'Occupancy', 'Speed']\n",
    "    df.columns = names\n",
    "    df = df[df['Type']==\"ML\"]\n",
    "\n",
    "    data_all = pd.concat([data_all, df], ignore_index=True)"
   ],
   "metadata": {
    "collapsed": false
   }
  },
  {
   "cell_type": "code",
   "execution_count": 4,
   "outputs": [],
   "source": [
    "data_all_observed = data_all[data_all['Observed_%'] > 0]\n",
    "summary_observed = data_all_observed.groupby('Station').size().reset_index(name='Count')"
   ],
   "metadata": {
    "collapsed": false
   }
  },
  {
   "cell_type": "code",
   "execution_count": 5,
   "outputs": [],
   "source": [
    "metadata = pd.read_csv('Data_Raw/Archive/d06_text_meta_2023_08_08.txt', delimiter='\\t')\n",
    "metadata = metadata[metadata['Type']==\"ML\"]"
   ],
   "metadata": {
    "collapsed": false
   }
  },
  {
   "cell_type": "code",
   "execution_count": 6,
   "outputs": [],
   "source": [
    "metadata_obs = pd.merge(metadata, summary_observed, left_on='ID', right_on='Station' , how='left')"
   ],
   "metadata": {
    "collapsed": false
   }
  },
  {
   "cell_type": "code",
   "execution_count": 7,
   "outputs": [
    {
     "data": {
      "text/plain": "                   TimeStamp  Station  District  Freeway_# Dir_Travel Type  \\\n0        08/20/2023 00:00:00   601100         6        180          W   ML   \n1        08/20/2023 00:00:00   601101         6         41          S   ML   \n2        08/20/2023 00:00:00   601102         6         41          S   ML   \n3        08/20/2023 00:00:00   601103         6        180          E   ML   \n4        08/20/2023 00:00:00   601105         6         99          N   ML   \n...                      ...      ...       ...        ...        ...  ...   \n1237817  08/15/2023 23:55:00   629977         6         99          N   ML   \n1237819  08/15/2023 23:55:00   629989         6         99          N   ML   \n1237820  08/15/2023 23:55:00   629990         6         99          S   ML   \n1237821  08/15/2023 23:55:00   629991         6          5          S   ML   \n1237823  08/15/2023 23:55:00   629999         6          5          S   ML   \n\n         Length  Samples  Observed_%  Total_Flow  Occupancy  Speed  \n0         0.205       10         100         4.0     0.0033   65.0  \n1         0.436       19         100        32.0     0.0140   67.2  \n2         2.585       16         100        26.0     0.0094   68.1  \n3         0.460       20         100        20.0     0.0075   68.5  \n4         0.620       30         100        89.0     0.0225   68.7  \n...         ...      ...         ...         ...        ...    ...  \n1237817   1.711       27          33        61.0     0.0171   68.1  \n1237819   0.632       27         100        26.0     0.0074   66.2  \n1237820   1.269       27         100        61.0     0.0171   65.5  \n1237821   2.668       18         100        30.0     0.0122   67.4  \n1237823   2.817       18         100        43.0     0.0163   68.2  \n\n[1048808 rows x 12 columns]",
      "text/html": "<div>\n<style scoped>\n    .dataframe tbody tr th:only-of-type {\n        vertical-align: middle;\n    }\n\n    .dataframe tbody tr th {\n        vertical-align: top;\n    }\n\n    .dataframe thead th {\n        text-align: right;\n    }\n</style>\n<table border=\"1\" class=\"dataframe\">\n  <thead>\n    <tr style=\"text-align: right;\">\n      <th></th>\n      <th>TimeStamp</th>\n      <th>Station</th>\n      <th>District</th>\n      <th>Freeway_#</th>\n      <th>Dir_Travel</th>\n      <th>Type</th>\n      <th>Length</th>\n      <th>Samples</th>\n      <th>Observed_%</th>\n      <th>Total_Flow</th>\n      <th>Occupancy</th>\n      <th>Speed</th>\n    </tr>\n  </thead>\n  <tbody>\n    <tr>\n      <th>0</th>\n      <td>08/20/2023 00:00:00</td>\n      <td>601100</td>\n      <td>6</td>\n      <td>180</td>\n      <td>W</td>\n      <td>ML</td>\n      <td>0.205</td>\n      <td>10</td>\n      <td>100</td>\n      <td>4.0</td>\n      <td>0.0033</td>\n      <td>65.0</td>\n    </tr>\n    <tr>\n      <th>1</th>\n      <td>08/20/2023 00:00:00</td>\n      <td>601101</td>\n      <td>6</td>\n      <td>41</td>\n      <td>S</td>\n      <td>ML</td>\n      <td>0.436</td>\n      <td>19</td>\n      <td>100</td>\n      <td>32.0</td>\n      <td>0.0140</td>\n      <td>67.2</td>\n    </tr>\n    <tr>\n      <th>2</th>\n      <td>08/20/2023 00:00:00</td>\n      <td>601102</td>\n      <td>6</td>\n      <td>41</td>\n      <td>S</td>\n      <td>ML</td>\n      <td>2.585</td>\n      <td>16</td>\n      <td>100</td>\n      <td>26.0</td>\n      <td>0.0094</td>\n      <td>68.1</td>\n    </tr>\n    <tr>\n      <th>3</th>\n      <td>08/20/2023 00:00:00</td>\n      <td>601103</td>\n      <td>6</td>\n      <td>180</td>\n      <td>E</td>\n      <td>ML</td>\n      <td>0.460</td>\n      <td>20</td>\n      <td>100</td>\n      <td>20.0</td>\n      <td>0.0075</td>\n      <td>68.5</td>\n    </tr>\n    <tr>\n      <th>4</th>\n      <td>08/20/2023 00:00:00</td>\n      <td>601105</td>\n      <td>6</td>\n      <td>99</td>\n      <td>N</td>\n      <td>ML</td>\n      <td>0.620</td>\n      <td>30</td>\n      <td>100</td>\n      <td>89.0</td>\n      <td>0.0225</td>\n      <td>68.7</td>\n    </tr>\n    <tr>\n      <th>...</th>\n      <td>...</td>\n      <td>...</td>\n      <td>...</td>\n      <td>...</td>\n      <td>...</td>\n      <td>...</td>\n      <td>...</td>\n      <td>...</td>\n      <td>...</td>\n      <td>...</td>\n      <td>...</td>\n      <td>...</td>\n    </tr>\n    <tr>\n      <th>1237817</th>\n      <td>08/15/2023 23:55:00</td>\n      <td>629977</td>\n      <td>6</td>\n      <td>99</td>\n      <td>N</td>\n      <td>ML</td>\n      <td>1.711</td>\n      <td>27</td>\n      <td>33</td>\n      <td>61.0</td>\n      <td>0.0171</td>\n      <td>68.1</td>\n    </tr>\n    <tr>\n      <th>1237819</th>\n      <td>08/15/2023 23:55:00</td>\n      <td>629989</td>\n      <td>6</td>\n      <td>99</td>\n      <td>N</td>\n      <td>ML</td>\n      <td>0.632</td>\n      <td>27</td>\n      <td>100</td>\n      <td>26.0</td>\n      <td>0.0074</td>\n      <td>66.2</td>\n    </tr>\n    <tr>\n      <th>1237820</th>\n      <td>08/15/2023 23:55:00</td>\n      <td>629990</td>\n      <td>6</td>\n      <td>99</td>\n      <td>S</td>\n      <td>ML</td>\n      <td>1.269</td>\n      <td>27</td>\n      <td>100</td>\n      <td>61.0</td>\n      <td>0.0171</td>\n      <td>65.5</td>\n    </tr>\n    <tr>\n      <th>1237821</th>\n      <td>08/15/2023 23:55:00</td>\n      <td>629991</td>\n      <td>6</td>\n      <td>5</td>\n      <td>S</td>\n      <td>ML</td>\n      <td>2.668</td>\n      <td>18</td>\n      <td>100</td>\n      <td>30.0</td>\n      <td>0.0122</td>\n      <td>67.4</td>\n    </tr>\n    <tr>\n      <th>1237823</th>\n      <td>08/15/2023 23:55:00</td>\n      <td>629999</td>\n      <td>6</td>\n      <td>5</td>\n      <td>S</td>\n      <td>ML</td>\n      <td>2.817</td>\n      <td>18</td>\n      <td>100</td>\n      <td>43.0</td>\n      <td>0.0163</td>\n      <td>68.2</td>\n    </tr>\n  </tbody>\n</table>\n<p>1048808 rows × 12 columns</p>\n</div>"
     },
     "execution_count": 7,
     "metadata": {},
     "output_type": "execute_result"
    }
   ],
   "source": [
    "data_all_observed"
   ],
   "metadata": {
    "collapsed": false
   }
  },
  {
   "cell_type": "markdown",
   "source": [
    "## Station Selection"
   ],
   "metadata": {
    "collapsed": false
   }
  },
  {
   "cell_type": "code",
   "execution_count": 7,
   "outputs": [],
   "source": [
    "metadata_obs.to_csv('Data_Raw/Station_MetaData_d06.csv', index=False)"
   ],
   "metadata": {
    "collapsed": false
   }
  },
  {
   "cell_type": "code",
   "execution_count": 8,
   "outputs": [],
   "source": [
    "station_selected = pd.read_csv('Data_Raw/I5N_Exported.csv')\n",
    "station_selected = station_selected[station_selected['Count'] == 2016]"
   ],
   "metadata": {
    "collapsed": false
   }
  },
  {
   "cell_type": "code",
   "execution_count": 9,
   "outputs": [],
   "source": [
    "station_selected['PM_Dir'] = station_selected['Abs_PM'] - station_selected['Abs_PM'].min()\n",
    "#station_selected['PM_Dir_round0.5'] = station_selected['PM_Dir'].apply(lambda x: round(x * 2) / 2)\n",
    "#station_selected['Station_PM'] = station_selected['PM_Dir'].round(0)\n",
    "\n",
    "station_selected['Station_PM'] = np.round(station_selected['PM_Dir'] / 2) * 2\n",
    "station_selected['PM_Deviation'] = abs(station_selected['PM_Dir'] - station_selected['Station_PM'])"
   ],
   "metadata": {
    "collapsed": false
   }
  },
  {
   "cell_type": "code",
   "execution_count": 10,
   "outputs": [],
   "source": [
    "# select the stations where the deviation from integer mile is the smallest.\n",
    "min_index = station_selected.groupby('Station_PM')['PM_Deviation'].idxmin()\n",
    "station_selected = station_selected.loc[min_index]"
   ],
   "metadata": {
    "collapsed": false
   }
  },
  {
   "cell_type": "code",
   "execution_count": 11,
   "outputs": [],
   "source": [
    "station_selected['location_step'] = station_selected['Station_PM']/2\n",
    "station_selected['Station_Number'] = station_selected['Station_PM'].rank(ascending=True)"
   ],
   "metadata": {
    "collapsed": false
   }
  },
  {
   "cell_type": "code",
   "execution_count": 12,
   "outputs": [],
   "source": [
    "# select the first 60 miles of I-5 North\n",
    "station_selected = station_selected[station_selected['Station_PM'] < 60]"
   ],
   "metadata": {
    "collapsed": false
   }
  },
  {
   "cell_type": "code",
   "execution_count": 13,
   "outputs": [
    {
     "data": {
      "text/plain": "        ID  Fwy Dir  District  County  City  State_PM   Abs_PM   Latitude  \\\n12  601286    5   N         6      29   NaN     8.331  213.448  34.914506   \n37  601510    5   N         6      29   NaN    10.173  215.290  34.939412   \n22  601339    5   N         6      29   NaN    13.993  219.110  34.993067   \n10  601284    5   N         6      29   NaN    16.174  221.291  35.022381   \n7   601281    5   N         6      29   NaN    29.866  234.983  35.170050   \n25  601357    5   N         6      29   NaN    32.072  237.189  35.193824   \n14  601310    5   N         6      29   NaN    39.168  244.285  35.271319   \n38  601516    5   N         6      29   NaN    43.927  249.044  35.320704   \n39  601518    5   N         6      29   NaN    48.642  253.759  35.365470   \n6   601280    5   N         6      29   NaN    52.570  257.687  35.403061   \n15  601315    5   N         6      29   NaN    56.622  261.739  35.442203   \n34  601392    5   N         6      29   NaN    58.803  263.920  35.463229   \n2   601241    5   N         6      29   NaN    61.182  266.299  35.486091   \n5   601279    5   N         6      29   NaN    62.924  268.041  35.503831   \n\n     Longitude  ...  User_ID_2 User_ID_3  User_ID_4   Station   Count  PM_Dir  \\\n12 -118.923609  ...        NaN       NaN        NaN  601286.0  2016.0   0.000   \n37 -118.929744  ...        NaN       NaN        NaN  601510.0  2016.0   1.842   \n22 -118.947281  ...        NaN       NaN        NaN  601339.0  2016.0   5.662   \n10 -118.960142  ...        NaN       NaN        NaN  601284.0  2016.0   7.843   \n7  -119.120044  ...        NaN       NaN        NaN  601281.0  2016.0  21.535   \n25 -119.146126  ...        NaN       NaN        NaN  601357.0  2016.0  23.741   \n14 -119.228751  ...        NaN       NaN        NaN  601310.0  2016.0  30.837   \n38 -119.287451  ...        NaN       NaN        NaN  601516.0  2016.0  35.596   \n39 -119.350584  ...        NaN       NaN        NaN  601518.0  2016.0  40.311   \n6  -119.402843  ...        NaN       NaN        NaN  601280.0  2016.0  44.239   \n15 -119.456402  ...        NaN       NaN        NaN  601315.0  2016.0  48.291   \n34 -119.485311  ...        NaN       NaN        NaN  601392.0  2016.0  50.472   \n2  -119.516913  ...        NaN       NaN        NaN  601241.0  2016.0  52.851   \n5  -119.538840  ...        NaN       NaN        NaN  601279.0  2016.0  54.593   \n\n    Station_PM  PM_Deviation  location_step  Station_Number  \n12         0.0         0.000            0.0             1.0  \n37         2.0         0.158            1.0             2.0  \n22         6.0         0.338            3.0             3.0  \n10         8.0         0.157            4.0             4.0  \n7         22.0         0.465           11.0             5.0  \n25        24.0         0.259           12.0             6.0  \n14        30.0         0.837           15.0             7.0  \n38        36.0         0.404           18.0             8.0  \n39        40.0         0.311           20.0             9.0  \n6         44.0         0.239           22.0            10.0  \n15        48.0         0.291           24.0            11.0  \n34        50.0         0.472           25.0            12.0  \n2         52.0         0.851           26.0            13.0  \n5         54.0         0.593           27.0            14.0  \n\n[14 rows x 25 columns]",
      "text/html": "<div>\n<style scoped>\n    .dataframe tbody tr th:only-of-type {\n        vertical-align: middle;\n    }\n\n    .dataframe tbody tr th {\n        vertical-align: top;\n    }\n\n    .dataframe thead th {\n        text-align: right;\n    }\n</style>\n<table border=\"1\" class=\"dataframe\">\n  <thead>\n    <tr style=\"text-align: right;\">\n      <th></th>\n      <th>ID</th>\n      <th>Fwy</th>\n      <th>Dir</th>\n      <th>District</th>\n      <th>County</th>\n      <th>City</th>\n      <th>State_PM</th>\n      <th>Abs_PM</th>\n      <th>Latitude</th>\n      <th>Longitude</th>\n      <th>...</th>\n      <th>User_ID_2</th>\n      <th>User_ID_3</th>\n      <th>User_ID_4</th>\n      <th>Station</th>\n      <th>Count</th>\n      <th>PM_Dir</th>\n      <th>Station_PM</th>\n      <th>PM_Deviation</th>\n      <th>location_step</th>\n      <th>Station_Number</th>\n    </tr>\n  </thead>\n  <tbody>\n    <tr>\n      <th>12</th>\n      <td>601286</td>\n      <td>5</td>\n      <td>N</td>\n      <td>6</td>\n      <td>29</td>\n      <td>NaN</td>\n      <td>8.331</td>\n      <td>213.448</td>\n      <td>34.914506</td>\n      <td>-118.923609</td>\n      <td>...</td>\n      <td>NaN</td>\n      <td>NaN</td>\n      <td>NaN</td>\n      <td>601286.0</td>\n      <td>2016.0</td>\n      <td>0.000</td>\n      <td>0.0</td>\n      <td>0.000</td>\n      <td>0.0</td>\n      <td>1.0</td>\n    </tr>\n    <tr>\n      <th>37</th>\n      <td>601510</td>\n      <td>5</td>\n      <td>N</td>\n      <td>6</td>\n      <td>29</td>\n      <td>NaN</td>\n      <td>10.173</td>\n      <td>215.290</td>\n      <td>34.939412</td>\n      <td>-118.929744</td>\n      <td>...</td>\n      <td>NaN</td>\n      <td>NaN</td>\n      <td>NaN</td>\n      <td>601510.0</td>\n      <td>2016.0</td>\n      <td>1.842</td>\n      <td>2.0</td>\n      <td>0.158</td>\n      <td>1.0</td>\n      <td>2.0</td>\n    </tr>\n    <tr>\n      <th>22</th>\n      <td>601339</td>\n      <td>5</td>\n      <td>N</td>\n      <td>6</td>\n      <td>29</td>\n      <td>NaN</td>\n      <td>13.993</td>\n      <td>219.110</td>\n      <td>34.993067</td>\n      <td>-118.947281</td>\n      <td>...</td>\n      <td>NaN</td>\n      <td>NaN</td>\n      <td>NaN</td>\n      <td>601339.0</td>\n      <td>2016.0</td>\n      <td>5.662</td>\n      <td>6.0</td>\n      <td>0.338</td>\n      <td>3.0</td>\n      <td>3.0</td>\n    </tr>\n    <tr>\n      <th>10</th>\n      <td>601284</td>\n      <td>5</td>\n      <td>N</td>\n      <td>6</td>\n      <td>29</td>\n      <td>NaN</td>\n      <td>16.174</td>\n      <td>221.291</td>\n      <td>35.022381</td>\n      <td>-118.960142</td>\n      <td>...</td>\n      <td>NaN</td>\n      <td>NaN</td>\n      <td>NaN</td>\n      <td>601284.0</td>\n      <td>2016.0</td>\n      <td>7.843</td>\n      <td>8.0</td>\n      <td>0.157</td>\n      <td>4.0</td>\n      <td>4.0</td>\n    </tr>\n    <tr>\n      <th>7</th>\n      <td>601281</td>\n      <td>5</td>\n      <td>N</td>\n      <td>6</td>\n      <td>29</td>\n      <td>NaN</td>\n      <td>29.866</td>\n      <td>234.983</td>\n      <td>35.170050</td>\n      <td>-119.120044</td>\n      <td>...</td>\n      <td>NaN</td>\n      <td>NaN</td>\n      <td>NaN</td>\n      <td>601281.0</td>\n      <td>2016.0</td>\n      <td>21.535</td>\n      <td>22.0</td>\n      <td>0.465</td>\n      <td>11.0</td>\n      <td>5.0</td>\n    </tr>\n    <tr>\n      <th>25</th>\n      <td>601357</td>\n      <td>5</td>\n      <td>N</td>\n      <td>6</td>\n      <td>29</td>\n      <td>NaN</td>\n      <td>32.072</td>\n      <td>237.189</td>\n      <td>35.193824</td>\n      <td>-119.146126</td>\n      <td>...</td>\n      <td>NaN</td>\n      <td>NaN</td>\n      <td>NaN</td>\n      <td>601357.0</td>\n      <td>2016.0</td>\n      <td>23.741</td>\n      <td>24.0</td>\n      <td>0.259</td>\n      <td>12.0</td>\n      <td>6.0</td>\n    </tr>\n    <tr>\n      <th>14</th>\n      <td>601310</td>\n      <td>5</td>\n      <td>N</td>\n      <td>6</td>\n      <td>29</td>\n      <td>NaN</td>\n      <td>39.168</td>\n      <td>244.285</td>\n      <td>35.271319</td>\n      <td>-119.228751</td>\n      <td>...</td>\n      <td>NaN</td>\n      <td>NaN</td>\n      <td>NaN</td>\n      <td>601310.0</td>\n      <td>2016.0</td>\n      <td>30.837</td>\n      <td>30.0</td>\n      <td>0.837</td>\n      <td>15.0</td>\n      <td>7.0</td>\n    </tr>\n    <tr>\n      <th>38</th>\n      <td>601516</td>\n      <td>5</td>\n      <td>N</td>\n      <td>6</td>\n      <td>29</td>\n      <td>NaN</td>\n      <td>43.927</td>\n      <td>249.044</td>\n      <td>35.320704</td>\n      <td>-119.287451</td>\n      <td>...</td>\n      <td>NaN</td>\n      <td>NaN</td>\n      <td>NaN</td>\n      <td>601516.0</td>\n      <td>2016.0</td>\n      <td>35.596</td>\n      <td>36.0</td>\n      <td>0.404</td>\n      <td>18.0</td>\n      <td>8.0</td>\n    </tr>\n    <tr>\n      <th>39</th>\n      <td>601518</td>\n      <td>5</td>\n      <td>N</td>\n      <td>6</td>\n      <td>29</td>\n      <td>NaN</td>\n      <td>48.642</td>\n      <td>253.759</td>\n      <td>35.365470</td>\n      <td>-119.350584</td>\n      <td>...</td>\n      <td>NaN</td>\n      <td>NaN</td>\n      <td>NaN</td>\n      <td>601518.0</td>\n      <td>2016.0</td>\n      <td>40.311</td>\n      <td>40.0</td>\n      <td>0.311</td>\n      <td>20.0</td>\n      <td>9.0</td>\n    </tr>\n    <tr>\n      <th>6</th>\n      <td>601280</td>\n      <td>5</td>\n      <td>N</td>\n      <td>6</td>\n      <td>29</td>\n      <td>NaN</td>\n      <td>52.570</td>\n      <td>257.687</td>\n      <td>35.403061</td>\n      <td>-119.402843</td>\n      <td>...</td>\n      <td>NaN</td>\n      <td>NaN</td>\n      <td>NaN</td>\n      <td>601280.0</td>\n      <td>2016.0</td>\n      <td>44.239</td>\n      <td>44.0</td>\n      <td>0.239</td>\n      <td>22.0</td>\n      <td>10.0</td>\n    </tr>\n    <tr>\n      <th>15</th>\n      <td>601315</td>\n      <td>5</td>\n      <td>N</td>\n      <td>6</td>\n      <td>29</td>\n      <td>NaN</td>\n      <td>56.622</td>\n      <td>261.739</td>\n      <td>35.442203</td>\n      <td>-119.456402</td>\n      <td>...</td>\n      <td>NaN</td>\n      <td>NaN</td>\n      <td>NaN</td>\n      <td>601315.0</td>\n      <td>2016.0</td>\n      <td>48.291</td>\n      <td>48.0</td>\n      <td>0.291</td>\n      <td>24.0</td>\n      <td>11.0</td>\n    </tr>\n    <tr>\n      <th>34</th>\n      <td>601392</td>\n      <td>5</td>\n      <td>N</td>\n      <td>6</td>\n      <td>29</td>\n      <td>NaN</td>\n      <td>58.803</td>\n      <td>263.920</td>\n      <td>35.463229</td>\n      <td>-119.485311</td>\n      <td>...</td>\n      <td>NaN</td>\n      <td>NaN</td>\n      <td>NaN</td>\n      <td>601392.0</td>\n      <td>2016.0</td>\n      <td>50.472</td>\n      <td>50.0</td>\n      <td>0.472</td>\n      <td>25.0</td>\n      <td>12.0</td>\n    </tr>\n    <tr>\n      <th>2</th>\n      <td>601241</td>\n      <td>5</td>\n      <td>N</td>\n      <td>6</td>\n      <td>29</td>\n      <td>NaN</td>\n      <td>61.182</td>\n      <td>266.299</td>\n      <td>35.486091</td>\n      <td>-119.516913</td>\n      <td>...</td>\n      <td>NaN</td>\n      <td>NaN</td>\n      <td>NaN</td>\n      <td>601241.0</td>\n      <td>2016.0</td>\n      <td>52.851</td>\n      <td>52.0</td>\n      <td>0.851</td>\n      <td>26.0</td>\n      <td>13.0</td>\n    </tr>\n    <tr>\n      <th>5</th>\n      <td>601279</td>\n      <td>5</td>\n      <td>N</td>\n      <td>6</td>\n      <td>29</td>\n      <td>NaN</td>\n      <td>62.924</td>\n      <td>268.041</td>\n      <td>35.503831</td>\n      <td>-119.538840</td>\n      <td>...</td>\n      <td>NaN</td>\n      <td>NaN</td>\n      <td>NaN</td>\n      <td>601279.0</td>\n      <td>2016.0</td>\n      <td>54.593</td>\n      <td>54.0</td>\n      <td>0.593</td>\n      <td>27.0</td>\n      <td>14.0</td>\n    </tr>\n  </tbody>\n</table>\n<p>14 rows × 25 columns</p>\n</div>"
     },
     "execution_count": 13,
     "metadata": {},
     "output_type": "execute_result"
    }
   ],
   "source": [
    "station_selected"
   ],
   "metadata": {
    "collapsed": false
   }
  },
  {
   "cell_type": "code",
   "execution_count": 14,
   "outputs": [],
   "source": [
    "station_selected.to_csv('Data_Raw/Station_Selected_I5N.csv', index=False)"
   ],
   "metadata": {
    "collapsed": false
   }
  },
  {
   "cell_type": "code",
   "execution_count": 14,
   "outputs": [],
   "source": [
    "order_match = station_selected[['ID', 'location_step']]\n",
    "order_match = order_match.rename(columns={'location_step': 'Station_PM'})"
   ],
   "metadata": {
    "collapsed": false
   }
  },
  {
   "cell_type": "code",
   "execution_count": 15,
   "outputs": [
    {
     "name": "stderr",
     "output_type": "stream",
     "text": [
      "/var/folders/g5/yg5rt0h52kxc5z_0zd7jrqbh0000gn/T/ipykernel_13582/440614197.py:3: SettingWithCopyWarning: \n",
      "A value is trying to be set on a copy of a slice from a DataFrame.\n",
      "Try using .loc[row_indexer,col_indexer] = value instead\n",
      "\n",
      "See the caveats in the documentation: https://pandas.pydata.org/pandas-docs/stable/user_guide/indexing.html#returning-a-view-versus-a-copy\n",
      "  data_all_select['TimeStamp'] = pd.to_datetime(data_all_select['TimeStamp'])\n",
      "/var/folders/g5/yg5rt0h52kxc5z_0zd7jrqbh0000gn/T/ipykernel_13582/440614197.py:4: SettingWithCopyWarning: \n",
      "A value is trying to be set on a copy of a slice from a DataFrame.\n",
      "Try using .loc[row_indexer,col_indexer] = value instead\n",
      "\n",
      "See the caveats in the documentation: https://pandas.pydata.org/pandas-docs/stable/user_guide/indexing.html#returning-a-view-versus-a-copy\n",
      "  data_all_select['TimeDiff'] = ((data_all_select['TimeStamp'] - data_all_select['TimeStamp'].min()).dt.total_seconds())/60\n",
      "/var/folders/g5/yg5rt0h52kxc5z_0zd7jrqbh0000gn/T/ipykernel_13582/440614197.py:5: SettingWithCopyWarning: \n",
      "A value is trying to be set on a copy of a slice from a DataFrame.\n",
      "Try using .loc[row_indexer,col_indexer] = value instead\n",
      "\n",
      "See the caveats in the documentation: https://pandas.pydata.org/pandas-docs/stable/user_guide/indexing.html#returning-a-view-versus-a-copy\n",
      "  data_all_select['TimeStep'] = 1 + (data_all_select['TimeDiff'] // 5)\n"
     ]
    }
   ],
   "source": [
    "ID_selected = station_selected['ID']\n",
    "data_all_select = data_all[data_all['Station'].isin(ID_selected)]\n",
    "data_all_select['TimeStamp'] = pd.to_datetime(data_all_select['TimeStamp'])\n",
    "data_all_select['TimeDiff'] = ((data_all_select['TimeStamp'] - data_all_select['TimeStamp'].min()).dt.total_seconds())/60\n",
    "data_all_select['TimeStep'] = 1 + (data_all_select['TimeDiff'] // 5)"
   ],
   "metadata": {
    "collapsed": false
   }
  },
  {
   "cell_type": "code",
   "execution_count": 16,
   "outputs": [],
   "source": [
    "#station_selected[station_selected['PM_Dir_round'].duplicated(keep=False)]"
   ],
   "metadata": {
    "collapsed": false
   }
  },
  {
   "cell_type": "code",
   "execution_count": 17,
   "outputs": [],
   "source": [
    "data_all_select = pd.merge(data_all_select, order_match, left_on='Station', right_on='ID' , how='left')"
   ],
   "metadata": {
    "collapsed": false
   }
  },
  {
   "cell_type": "code",
   "execution_count": 18,
   "outputs": [
    {
     "name": "stderr",
     "output_type": "stream",
     "text": [
      "/var/folders/g5/yg5rt0h52kxc5z_0zd7jrqbh0000gn/T/ipykernel_13582/3535391722.py:2: SettingWithCopyWarning: \n",
      "A value is trying to be set on a copy of a slice from a DataFrame.\n",
      "Try using .loc[row_indexer,col_indexer] = value instead\n",
      "\n",
      "See the caveats in the documentation: https://pandas.pydata.org/pandas-docs/stable/user_guide/indexing.html#returning-a-view-versus-a-copy\n",
      "  Flow['TimeStep'] = Flow['TimeStep'].astype(int)\n",
      "/var/folders/g5/yg5rt0h52kxc5z_0zd7jrqbh0000gn/T/ipykernel_13582/3535391722.py:3: SettingWithCopyWarning: \n",
      "A value is trying to be set on a copy of a slice from a DataFrame.\n",
      "Try using .loc[row_indexer,col_indexer] = value instead\n",
      "\n",
      "See the caveats in the documentation: https://pandas.pydata.org/pandas-docs/stable/user_guide/indexing.html#returning-a-view-versus-a-copy\n",
      "  Flow['Station_PM'] = Flow['Station_PM'].astype(int)\n",
      "/var/folders/g5/yg5rt0h52kxc5z_0zd7jrqbh0000gn/T/ipykernel_13582/3535391722.py:6: SettingWithCopyWarning: \n",
      "A value is trying to be set on a copy of a slice from a DataFrame.\n",
      "Try using .loc[row_indexer,col_indexer] = value instead\n",
      "\n",
      "See the caveats in the documentation: https://pandas.pydata.org/pandas-docs/stable/user_guide/indexing.html#returning-a-view-versus-a-copy\n",
      "  Occupancy['TimeStep'] = Occupancy['TimeStep'].astype(int)\n",
      "/var/folders/g5/yg5rt0h52kxc5z_0zd7jrqbh0000gn/T/ipykernel_13582/3535391722.py:7: SettingWithCopyWarning: \n",
      "A value is trying to be set on a copy of a slice from a DataFrame.\n",
      "Try using .loc[row_indexer,col_indexer] = value instead\n",
      "\n",
      "See the caveats in the documentation: https://pandas.pydata.org/pandas-docs/stable/user_guide/indexing.html#returning-a-view-versus-a-copy\n",
      "  Occupancy['Station_PM'] = Occupancy['Station_PM'].astype(int)\n",
      "/var/folders/g5/yg5rt0h52kxc5z_0zd7jrqbh0000gn/T/ipykernel_13582/3535391722.py:10: SettingWithCopyWarning: \n",
      "A value is trying to be set on a copy of a slice from a DataFrame.\n",
      "Try using .loc[row_indexer,col_indexer] = value instead\n",
      "\n",
      "See the caveats in the documentation: https://pandas.pydata.org/pandas-docs/stable/user_guide/indexing.html#returning-a-view-versus-a-copy\n",
      "  Speed['TimeStep'] = Speed['TimeStep'].astype(int)\n",
      "/var/folders/g5/yg5rt0h52kxc5z_0zd7jrqbh0000gn/T/ipykernel_13582/3535391722.py:11: SettingWithCopyWarning: \n",
      "A value is trying to be set on a copy of a slice from a DataFrame.\n",
      "Try using .loc[row_indexer,col_indexer] = value instead\n",
      "\n",
      "See the caveats in the documentation: https://pandas.pydata.org/pandas-docs/stable/user_guide/indexing.html#returning-a-view-versus-a-copy\n",
      "  Speed['Station_PM'] = Speed['Station_PM'].astype(int)\n"
     ]
    }
   ],
   "source": [
    "Flow = data_all_select[['TimeStep', 'Station_PM', 'Total_Flow']]\n",
    "Flow['TimeStep'] = Flow['TimeStep'].astype(int)\n",
    "Flow['Station_PM'] = Flow['Station_PM'].astype(int)\n",
    "\n",
    "Occupancy = data_all_select[['TimeStep', 'Station_PM', 'Occupancy']]\n",
    "Occupancy['TimeStep'] = Occupancy['TimeStep'].astype(int)\n",
    "Occupancy['Station_PM'] = Occupancy['Station_PM'].astype(int)\n",
    "\n",
    "Speed = data_all_select[['TimeStep', 'Station_PM', 'Speed']]\n",
    "Speed['TimeStep'] = Speed['TimeStep'].astype(int)\n",
    "Speed['Station_PM'] = Speed['Station_PM'].astype(int)"
   ],
   "metadata": {
    "collapsed": false
   }
  },
  {
   "cell_type": "code",
   "execution_count": 20,
   "outputs": [
    {
     "data": {
      "text/plain": "                TimeStamp  Station  District  Freeway_# Dir_Travel Type  \\\n0     2023-08-20 00:00:00   601241         6          5          N   ML   \n1     2023-08-20 00:00:00   601279         6          5          N   ML   \n2     2023-08-20 00:00:00   601280         6          5          N   ML   \n3     2023-08-20 00:00:00   601281         6          5          N   ML   \n4     2023-08-20 00:00:00   601284         6          5          N   ML   \n...                   ...      ...       ...        ...        ...  ...   \n28219 2023-08-15 23:55:00   601357         6          5          N   ML   \n28220 2023-08-15 23:55:00   601392         6          5          N   ML   \n28221 2023-08-15 23:55:00   601510         6          5          N   ML   \n28222 2023-08-15 23:55:00   601516         6          5          N   ML   \n28223 2023-08-15 23:55:00   601518         6          5          N   ML   \n\n       Length  Samples  Observed_%  Total_Flow  Occupancy  Speed  TimeDiff  \\\n0       2.060       20         100        31.0     0.0165   67.7    7200.0   \n1       2.020       20         100        30.0     0.0158   67.7    7200.0   \n2       2.604       20         100        40.0     0.0277   68.0    7200.0   \n3       1.917       20         100        39.0     0.0214   68.1    7200.0   \n4       2.988       20         100        37.0     0.0227   68.7    7200.0   \n...       ...      ...         ...         ...        ...    ...       ...   \n28219   1.827       16         100        44.0     0.0508   60.1    1435.0   \n28220   2.280       16         100        27.0     0.0291   68.7    1435.0   \n28221   1.941       35         100        69.0     0.0363   69.8    1435.0   \n28222   3.669       16         100        42.0     0.0456   65.8    1435.0   \n28223   4.321       16         100        49.0     0.0556   67.1    1435.0   \n\n       TimeStep      ID  Station_PM  \n0        1441.0  601241        26.0  \n1        1441.0  601279        27.0  \n2        1441.0  601280        22.0  \n3        1441.0  601281        11.0  \n4        1441.0  601284         4.0  \n...         ...     ...         ...  \n28219     288.0  601357        12.0  \n28220     288.0  601392        25.0  \n28221     288.0  601510         1.0  \n28222     288.0  601516        18.0  \n28223     288.0  601518        20.0  \n\n[28224 rows x 16 columns]",
      "text/html": "<div>\n<style scoped>\n    .dataframe tbody tr th:only-of-type {\n        vertical-align: middle;\n    }\n\n    .dataframe tbody tr th {\n        vertical-align: top;\n    }\n\n    .dataframe thead th {\n        text-align: right;\n    }\n</style>\n<table border=\"1\" class=\"dataframe\">\n  <thead>\n    <tr style=\"text-align: right;\">\n      <th></th>\n      <th>TimeStamp</th>\n      <th>Station</th>\n      <th>District</th>\n      <th>Freeway_#</th>\n      <th>Dir_Travel</th>\n      <th>Type</th>\n      <th>Length</th>\n      <th>Samples</th>\n      <th>Observed_%</th>\n      <th>Total_Flow</th>\n      <th>Occupancy</th>\n      <th>Speed</th>\n      <th>TimeDiff</th>\n      <th>TimeStep</th>\n      <th>ID</th>\n      <th>Station_PM</th>\n    </tr>\n  </thead>\n  <tbody>\n    <tr>\n      <th>0</th>\n      <td>2023-08-20 00:00:00</td>\n      <td>601241</td>\n      <td>6</td>\n      <td>5</td>\n      <td>N</td>\n      <td>ML</td>\n      <td>2.060</td>\n      <td>20</td>\n      <td>100</td>\n      <td>31.0</td>\n      <td>0.0165</td>\n      <td>67.7</td>\n      <td>7200.0</td>\n      <td>1441.0</td>\n      <td>601241</td>\n      <td>26.0</td>\n    </tr>\n    <tr>\n      <th>1</th>\n      <td>2023-08-20 00:00:00</td>\n      <td>601279</td>\n      <td>6</td>\n      <td>5</td>\n      <td>N</td>\n      <td>ML</td>\n      <td>2.020</td>\n      <td>20</td>\n      <td>100</td>\n      <td>30.0</td>\n      <td>0.0158</td>\n      <td>67.7</td>\n      <td>7200.0</td>\n      <td>1441.0</td>\n      <td>601279</td>\n      <td>27.0</td>\n    </tr>\n    <tr>\n      <th>2</th>\n      <td>2023-08-20 00:00:00</td>\n      <td>601280</td>\n      <td>6</td>\n      <td>5</td>\n      <td>N</td>\n      <td>ML</td>\n      <td>2.604</td>\n      <td>20</td>\n      <td>100</td>\n      <td>40.0</td>\n      <td>0.0277</td>\n      <td>68.0</td>\n      <td>7200.0</td>\n      <td>1441.0</td>\n      <td>601280</td>\n      <td>22.0</td>\n    </tr>\n    <tr>\n      <th>3</th>\n      <td>2023-08-20 00:00:00</td>\n      <td>601281</td>\n      <td>6</td>\n      <td>5</td>\n      <td>N</td>\n      <td>ML</td>\n      <td>1.917</td>\n      <td>20</td>\n      <td>100</td>\n      <td>39.0</td>\n      <td>0.0214</td>\n      <td>68.1</td>\n      <td>7200.0</td>\n      <td>1441.0</td>\n      <td>601281</td>\n      <td>11.0</td>\n    </tr>\n    <tr>\n      <th>4</th>\n      <td>2023-08-20 00:00:00</td>\n      <td>601284</td>\n      <td>6</td>\n      <td>5</td>\n      <td>N</td>\n      <td>ML</td>\n      <td>2.988</td>\n      <td>20</td>\n      <td>100</td>\n      <td>37.0</td>\n      <td>0.0227</td>\n      <td>68.7</td>\n      <td>7200.0</td>\n      <td>1441.0</td>\n      <td>601284</td>\n      <td>4.0</td>\n    </tr>\n    <tr>\n      <th>...</th>\n      <td>...</td>\n      <td>...</td>\n      <td>...</td>\n      <td>...</td>\n      <td>...</td>\n      <td>...</td>\n      <td>...</td>\n      <td>...</td>\n      <td>...</td>\n      <td>...</td>\n      <td>...</td>\n      <td>...</td>\n      <td>...</td>\n      <td>...</td>\n      <td>...</td>\n      <td>...</td>\n    </tr>\n    <tr>\n      <th>28219</th>\n      <td>2023-08-15 23:55:00</td>\n      <td>601357</td>\n      <td>6</td>\n      <td>5</td>\n      <td>N</td>\n      <td>ML</td>\n      <td>1.827</td>\n      <td>16</td>\n      <td>100</td>\n      <td>44.0</td>\n      <td>0.0508</td>\n      <td>60.1</td>\n      <td>1435.0</td>\n      <td>288.0</td>\n      <td>601357</td>\n      <td>12.0</td>\n    </tr>\n    <tr>\n      <th>28220</th>\n      <td>2023-08-15 23:55:00</td>\n      <td>601392</td>\n      <td>6</td>\n      <td>5</td>\n      <td>N</td>\n      <td>ML</td>\n      <td>2.280</td>\n      <td>16</td>\n      <td>100</td>\n      <td>27.0</td>\n      <td>0.0291</td>\n      <td>68.7</td>\n      <td>1435.0</td>\n      <td>288.0</td>\n      <td>601392</td>\n      <td>25.0</td>\n    </tr>\n    <tr>\n      <th>28221</th>\n      <td>2023-08-15 23:55:00</td>\n      <td>601510</td>\n      <td>6</td>\n      <td>5</td>\n      <td>N</td>\n      <td>ML</td>\n      <td>1.941</td>\n      <td>35</td>\n      <td>100</td>\n      <td>69.0</td>\n      <td>0.0363</td>\n      <td>69.8</td>\n      <td>1435.0</td>\n      <td>288.0</td>\n      <td>601510</td>\n      <td>1.0</td>\n    </tr>\n    <tr>\n      <th>28222</th>\n      <td>2023-08-15 23:55:00</td>\n      <td>601516</td>\n      <td>6</td>\n      <td>5</td>\n      <td>N</td>\n      <td>ML</td>\n      <td>3.669</td>\n      <td>16</td>\n      <td>100</td>\n      <td>42.0</td>\n      <td>0.0456</td>\n      <td>65.8</td>\n      <td>1435.0</td>\n      <td>288.0</td>\n      <td>601516</td>\n      <td>18.0</td>\n    </tr>\n    <tr>\n      <th>28223</th>\n      <td>2023-08-15 23:55:00</td>\n      <td>601518</td>\n      <td>6</td>\n      <td>5</td>\n      <td>N</td>\n      <td>ML</td>\n      <td>4.321</td>\n      <td>16</td>\n      <td>100</td>\n      <td>49.0</td>\n      <td>0.0556</td>\n      <td>67.1</td>\n      <td>1435.0</td>\n      <td>288.0</td>\n      <td>601518</td>\n      <td>20.0</td>\n    </tr>\n  </tbody>\n</table>\n<p>28224 rows × 16 columns</p>\n</div>"
     },
     "execution_count": 20,
     "metadata": {},
     "output_type": "execute_result"
    }
   ],
   "source": [
    "data_all_select"
   ],
   "metadata": {
    "collapsed": false
   }
  },
  {
   "cell_type": "markdown",
   "source": [
    "## Final Data Cleaning"
   ],
   "metadata": {
    "collapsed": false
   }
  },
  {
   "cell_type": "code",
   "execution_count": 33,
   "outputs": [],
   "source": [
    "\"\"\"\n",
    "Create a table with timestep and PM (posted Miles) as one-one match\n",
    "\"\"\"\n",
    "timestep_value = [i for i in range(1, Occupancy['TimeStep'].max() + 1) for _ in range(Occupancy['Station_PM'].max() + 1)]\n",
    "PM_values = list(range(Occupancy['Station_PM'].max() + 1)) * Occupancy['TimeStep'].max()\n",
    "Time_PM = pd.DataFrame({'TimeStep': timestep_value, 'Station_PM': PM_values})"
   ],
   "metadata": {
    "collapsed": false
   }
  },
  {
   "cell_type": "code",
   "execution_count": 34,
   "outputs": [],
   "source": [
    "Occupancy_all = pd.merge(Time_PM, Occupancy, on=['TimeStep', 'Station_PM'] , how='left')\n",
    "Flow_all = pd.merge(Time_PM, Flow, on=['TimeStep', 'Station_PM'] , how='left')\n",
    "Speed_all = pd.merge(Time_PM, Speed, on=['TimeStep', 'Station_PM'] , how='left')"
   ],
   "metadata": {
    "collapsed": false
   }
  },
  {
   "cell_type": "code",
   "execution_count": 36,
   "outputs": [],
   "source": [
    "Occupancy_all_wide = Occupancy_all.pivot(index='Station_PM', columns='TimeStep', values='Occupancy')\n",
    "Flow_all_wide = Flow_all.pivot(index='Station_PM', columns='TimeStep', values='Total_Flow')\n",
    "Speed_all_wide = Speed_all.pivot(index='Station_PM', columns='TimeStep', values='Speed')"
   ],
   "metadata": {
    "collapsed": false
   }
  },
  {
   "cell_type": "code",
   "execution_count": 37,
   "outputs": [],
   "source": [
    "Flow_wide = Flow.pivot(index='Station_PM', columns='TimeStep', values='Total_Flow')\n",
    "Occupancy_wide = Occupancy.pivot(index='Station_PM', columns='TimeStep', values='Occupancy')\n",
    "Speed_wide = Speed.pivot(index='Station_PM', columns='TimeStep', values='Speed')"
   ],
   "metadata": {
    "collapsed": false
   }
  },
  {
   "cell_type": "code",
   "execution_count": 38,
   "outputs": [],
   "source": [
    "Flow_all_wide.to_csv('Data_Clean/Flow_all.csv')\n",
    "Occupancy_all_wide.to_csv('Data_Clean/Occupancy_all.csv')\n",
    "Speed_all_wide.to_csv('Data_Clean/Speed_all.csv')"
   ],
   "metadata": {
    "collapsed": false
   }
  },
  {
   "cell_type": "code",
   "execution_count": 39,
   "outputs": [],
   "source": [
    "Flow_wide.to_csv('Data_Clean/Flow.csv')\n",
    "Occupancy_wide.to_csv('Data_Clean/Occupancy.csv')\n",
    "Speed_wide.to_csv('Data_Clean/Speed.csv')"
   ],
   "metadata": {
    "collapsed": false
   }
  },
  {
   "cell_type": "code",
   "execution_count": 40,
   "outputs": [],
   "source": [
    "Flow.to_csv('Data_Clean/Flow_Long.csv', index=False)\n",
    "Occupancy.to_csv('Data_Clean/Occupancy_Long.csv', index=False)\n",
    "Speed.to_csv('Data_Clean/Speed_Long.csv', index=False)"
   ],
   "metadata": {
    "collapsed": false
   }
  },
  {
   "cell_type": "code",
   "execution_count": 41,
   "outputs": [],
   "source": [
    "Flow_all.to_csv('Data_Clean/Flow_all_Long.csv', index=False)\n",
    "Occupancy_all.to_csv('Data_Clean/Occupancy_all_Long.csv', index=False)\n",
    "Speed_all.to_csv('Data_Clean/Speed_all_Long.csv', index=False)"
   ],
   "metadata": {
    "collapsed": false
   }
  },
  {
   "cell_type": "code",
   "execution_count": null,
   "outputs": [],
   "source": [],
   "metadata": {
    "collapsed": false
   }
  }
 ],
 "metadata": {
  "kernelspec": {
   "display_name": "Python 3",
   "language": "python",
   "name": "python3"
  },
  "language_info": {
   "codemirror_mode": {
    "name": "ipython",
    "version": 2
   },
   "file_extension": ".py",
   "mimetype": "text/x-python",
   "name": "python",
   "nbconvert_exporter": "python",
   "pygments_lexer": "ipython2",
   "version": "2.7.6"
  }
 },
 "nbformat": 4,
 "nbformat_minor": 0
}
