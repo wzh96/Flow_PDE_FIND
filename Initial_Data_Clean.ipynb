{
 "cells": [
  {
   "cell_type": "code",
   "execution_count": 1,
   "outputs": [],
   "source": [
    "import pandas as pd\n",
    "import os\n",
    "import numpy as np"
   ],
   "metadata": {
    "collapsed": false
   }
  },
  {
   "cell_type": "code",
   "execution_count": 2,
   "outputs": [],
   "source": [
    "file_list = [f for f in os.listdir('Data_Raw') if f.endswith('.txt')]"
   ],
   "metadata": {
    "collapsed": false
   }
  },
  {
   "cell_type": "code",
   "execution_count": 3,
   "outputs": [],
   "source": [
    "delimiter = ','  # Change this to the actual delimiter if it's different\n",
    "data_all = pd.DataFrame()\n",
    "for file_path in file_list:\n",
    "    # Read the text file into a Pandas DataFrame\n",
    "    df = pd.read_csv('Data_Raw/' + file_path, delimiter=delimiter, header=None)\n",
    "    df = df.iloc[:, :12]\n",
    "    names = ['TimeStamp', 'Station', 'District', 'Freeway_#', 'Dir_Travel', 'Type', 'Length', 'Samples',\n",
    "             'Observed_%', 'Total_Flow', 'Occupancy', 'Speed']\n",
    "    df.columns = names\n",
    "    df = df[df['Type']==\"ML\"]\n",
    "\n",
    "    data_all = pd.concat([data_all, df], ignore_index=True)"
   ],
   "metadata": {
    "collapsed": false
   }
  },
  {
   "cell_type": "code",
   "execution_count": 4,
   "outputs": [],
   "source": [
    "data_all_observed = data_all[data_all['Observed_%'] > 0]\n",
    "summary_observed = data_all_observed.groupby('Station').size().reset_index(name='Count')"
   ],
   "metadata": {
    "collapsed": false
   }
  },
  {
   "cell_type": "code",
   "execution_count": 5,
   "outputs": [],
   "source": [
    "metadata = pd.read_csv('Data_Raw/Archive/d07_text_meta_2022_07_15.txt', delimiter='\\t')\n",
    "metadata = metadata[metadata['Type']==\"ML\"]"
   ],
   "metadata": {
    "collapsed": false
   }
  },
  {
   "cell_type": "code",
   "execution_count": 6,
   "outputs": [],
   "source": [
    "metadata_obs = pd.merge(metadata, summary_observed, left_on='ID', right_on='Station' , how='left')"
   ],
   "metadata": {
    "collapsed": false
   }
  },
  {
   "cell_type": "code",
   "execution_count": 7,
   "outputs": [],
   "source": [
    "#metadata_obs.to_csv('Data_Raw/Station_MetaData.csv', index=False)"
   ],
   "metadata": {
    "collapsed": false
   }
  },
  {
   "cell_type": "markdown",
   "source": [
    "## Station Selection"
   ],
   "metadata": {
    "collapsed": false
   }
  },
  {
   "cell_type": "code",
   "execution_count": 8,
   "outputs": [],
   "source": [
    "station_selected = pd.read_csv('Data_Raw/CA60_Exported.csv')"
   ],
   "metadata": {
    "collapsed": false
   }
  },
  {
   "cell_type": "code",
   "execution_count": 9,
   "outputs": [],
   "source": [
    "station_selected['PM_Dir'] = station_selected['Abs_PM'].max()-station_selected['Abs_PM']"
   ],
   "metadata": {
    "collapsed": false
   }
  },
  {
   "cell_type": "code",
   "execution_count": 10,
   "outputs": [],
   "source": [
    "station_selected['Station_Number'] = station_selected['Abs_PM'].rank(ascending=False)\n",
    "station_selected['Station_PM'] = station_selected['PM_Dir'].round(1) * 10\n",
    "\n",
    "ID_to_remove = [774125, 773246, 717282]\n",
    "station_selected = station_selected[~station_selected['ID'].isin(ID_to_remove)]"
   ],
   "metadata": {
    "collapsed": false
   }
  },
  {
   "cell_type": "code",
   "execution_count": 11,
   "outputs": [],
   "source": [
    "order_match = station_selected[['ID', 'Station_PM']]"
   ],
   "metadata": {
    "collapsed": false
   }
  },
  {
   "cell_type": "code",
   "execution_count": 12,
   "outputs": [
    {
     "name": "stderr",
     "output_type": "stream",
     "text": [
      "/var/folders/g5/yg5rt0h52kxc5z_0zd7jrqbh0000gn/T/ipykernel_54429/440614197.py:3: SettingWithCopyWarning: \n",
      "A value is trying to be set on a copy of a slice from a DataFrame.\n",
      "Try using .loc[row_indexer,col_indexer] = value instead\n",
      "\n",
      "See the caveats in the documentation: https://pandas.pydata.org/pandas-docs/stable/user_guide/indexing.html#returning-a-view-versus-a-copy\n",
      "  data_all_select['TimeStamp'] = pd.to_datetime(data_all_select['TimeStamp'])\n",
      "/var/folders/g5/yg5rt0h52kxc5z_0zd7jrqbh0000gn/T/ipykernel_54429/440614197.py:4: SettingWithCopyWarning: \n",
      "A value is trying to be set on a copy of a slice from a DataFrame.\n",
      "Try using .loc[row_indexer,col_indexer] = value instead\n",
      "\n",
      "See the caveats in the documentation: https://pandas.pydata.org/pandas-docs/stable/user_guide/indexing.html#returning-a-view-versus-a-copy\n",
      "  data_all_select['TimeDiff'] = ((data_all_select['TimeStamp'] - data_all_select['TimeStamp'].min()).dt.total_seconds())/60\n",
      "/var/folders/g5/yg5rt0h52kxc5z_0zd7jrqbh0000gn/T/ipykernel_54429/440614197.py:5: SettingWithCopyWarning: \n",
      "A value is trying to be set on a copy of a slice from a DataFrame.\n",
      "Try using .loc[row_indexer,col_indexer] = value instead\n",
      "\n",
      "See the caveats in the documentation: https://pandas.pydata.org/pandas-docs/stable/user_guide/indexing.html#returning-a-view-versus-a-copy\n",
      "  data_all_select['TimeStep'] = 1 + (data_all_select['TimeDiff'] // 5)\n"
     ]
    }
   ],
   "source": [
    "ID_selected = station_selected['ID']\n",
    "data_all_select = data_all[data_all['Station'].isin(ID_selected)]\n",
    "data_all_select['TimeStamp'] = pd.to_datetime(data_all_select['TimeStamp'])\n",
    "data_all_select['TimeDiff'] = ((data_all_select['TimeStamp'] - data_all_select['TimeStamp'].min()).dt.total_seconds())/60\n",
    "data_all_select['TimeStep'] = 1 + (data_all_select['TimeDiff'] // 5)"
   ],
   "metadata": {
    "collapsed": false
   }
  },
  {
   "cell_type": "code",
   "execution_count": 13,
   "outputs": [],
   "source": [
    "#station_selected[station_selected['PM_Dir_round'].duplicated(keep=False)]"
   ],
   "metadata": {
    "collapsed": false
   }
  },
  {
   "cell_type": "code",
   "execution_count": 14,
   "outputs": [],
   "source": [
    "data_all_select = pd.merge(data_all_select, order_match, left_on='Station', right_on='ID' , how='left')"
   ],
   "metadata": {
    "collapsed": false
   }
  },
  {
   "cell_type": "code",
   "execution_count": 15,
   "outputs": [
    {
     "name": "stderr",
     "output_type": "stream",
     "text": [
      "/var/folders/g5/yg5rt0h52kxc5z_0zd7jrqbh0000gn/T/ipykernel_54429/3535391722.py:2: SettingWithCopyWarning: \n",
      "A value is trying to be set on a copy of a slice from a DataFrame.\n",
      "Try using .loc[row_indexer,col_indexer] = value instead\n",
      "\n",
      "See the caveats in the documentation: https://pandas.pydata.org/pandas-docs/stable/user_guide/indexing.html#returning-a-view-versus-a-copy\n",
      "  Flow['TimeStep'] = Flow['TimeStep'].astype(int)\n",
      "/var/folders/g5/yg5rt0h52kxc5z_0zd7jrqbh0000gn/T/ipykernel_54429/3535391722.py:3: SettingWithCopyWarning: \n",
      "A value is trying to be set on a copy of a slice from a DataFrame.\n",
      "Try using .loc[row_indexer,col_indexer] = value instead\n",
      "\n",
      "See the caveats in the documentation: https://pandas.pydata.org/pandas-docs/stable/user_guide/indexing.html#returning-a-view-versus-a-copy\n",
      "  Flow['Station_PM'] = Flow['Station_PM'].astype(int)\n",
      "/var/folders/g5/yg5rt0h52kxc5z_0zd7jrqbh0000gn/T/ipykernel_54429/3535391722.py:6: SettingWithCopyWarning: \n",
      "A value is trying to be set on a copy of a slice from a DataFrame.\n",
      "Try using .loc[row_indexer,col_indexer] = value instead\n",
      "\n",
      "See the caveats in the documentation: https://pandas.pydata.org/pandas-docs/stable/user_guide/indexing.html#returning-a-view-versus-a-copy\n",
      "  Occupancy['TimeStep'] = Occupancy['TimeStep'].astype(int)\n",
      "/var/folders/g5/yg5rt0h52kxc5z_0zd7jrqbh0000gn/T/ipykernel_54429/3535391722.py:7: SettingWithCopyWarning: \n",
      "A value is trying to be set on a copy of a slice from a DataFrame.\n",
      "Try using .loc[row_indexer,col_indexer] = value instead\n",
      "\n",
      "See the caveats in the documentation: https://pandas.pydata.org/pandas-docs/stable/user_guide/indexing.html#returning-a-view-versus-a-copy\n",
      "  Occupancy['Station_PM'] = Occupancy['Station_PM'].astype(int)\n",
      "/var/folders/g5/yg5rt0h52kxc5z_0zd7jrqbh0000gn/T/ipykernel_54429/3535391722.py:10: SettingWithCopyWarning: \n",
      "A value is trying to be set on a copy of a slice from a DataFrame.\n",
      "Try using .loc[row_indexer,col_indexer] = value instead\n",
      "\n",
      "See the caveats in the documentation: https://pandas.pydata.org/pandas-docs/stable/user_guide/indexing.html#returning-a-view-versus-a-copy\n",
      "  Speed['TimeStep'] = Speed['TimeStep'].astype(int)\n",
      "/var/folders/g5/yg5rt0h52kxc5z_0zd7jrqbh0000gn/T/ipykernel_54429/3535391722.py:11: SettingWithCopyWarning: \n",
      "A value is trying to be set on a copy of a slice from a DataFrame.\n",
      "Try using .loc[row_indexer,col_indexer] = value instead\n",
      "\n",
      "See the caveats in the documentation: https://pandas.pydata.org/pandas-docs/stable/user_guide/indexing.html#returning-a-view-versus-a-copy\n",
      "  Speed['Station_PM'] = Speed['Station_PM'].astype(int)\n"
     ]
    }
   ],
   "source": [
    "Flow = data_all_select[['TimeStep', 'Station_PM', 'Total_Flow']]\n",
    "Flow['TimeStep'] = Flow['TimeStep'].astype(int)\n",
    "Flow['Station_PM'] = Flow['Station_PM'].astype(int)\n",
    "\n",
    "Occupancy = data_all_select[['TimeStep', 'Station_PM', 'Occupancy']]\n",
    "Occupancy['TimeStep'] = Occupancy['TimeStep'].astype(int)\n",
    "Occupancy['Station_PM'] = Occupancy['Station_PM'].astype(int)\n",
    "\n",
    "Speed = data_all_select[['TimeStep', 'Station_PM', 'Speed']]\n",
    "Speed['TimeStep'] = Speed['TimeStep'].astype(int)\n",
    "Speed['Station_PM'] = Speed['Station_PM'].astype(int)"
   ],
   "metadata": {
    "collapsed": false
   }
  },
  {
   "cell_type": "markdown",
   "source": [
    "## Final Data Cleaning"
   ],
   "metadata": {
    "collapsed": false
   }
  },
  {
   "cell_type": "code",
   "execution_count": 16,
   "outputs": [],
   "source": [
    "\"\"\"\n",
    "Create a table with timestep and PM (posted Miles) as one-one match\n",
    "\"\"\"\n",
    "timestep_value = [i for i in range(1, Occupancy['TimeStep'].max() + 1) for _ in range(Occupancy['Station_PM'].max() + 1)]\n",
    "PM_values = list(range(Occupancy['Station_PM'].max() + 1)) * Occupancy['TimeStep'].max()\n",
    "Time_PM = pd.DataFrame({'TimeStep': timestep_value, 'Station_PM': PM_values})"
   ],
   "metadata": {
    "collapsed": false
   }
  },
  {
   "cell_type": "code",
   "execution_count": 17,
   "outputs": [],
   "source": [
    "Occupancy_all = pd.merge(Time_PM, Occupancy, on=['TimeStep', 'Station_PM'] , how='left')\n",
    "Flow_all = pd.merge(Time_PM, Flow, on=['TimeStep', 'Station_PM'] , how='left')\n",
    "Speed_all = pd.merge(Time_PM, Speed, on=['TimeStep', 'Station_PM'] , how='left')"
   ],
   "metadata": {
    "collapsed": false
   }
  },
  {
   "cell_type": "code",
   "execution_count": 19,
   "outputs": [],
   "source": [
    "Occupancy_all_wide = Occupancy_all.pivot(index='Station_PM', columns='TimeStep', values='Occupancy')\n",
    "Flow_all_wide = Flow_all.pivot(index='Station_PM', columns='TimeStep', values='Total_Flow')\n",
    "Speed_all_wide = Speed_all.pivot(index='Station_PM', columns='TimeStep', values='Speed')"
   ],
   "metadata": {
    "collapsed": false
   }
  },
  {
   "cell_type": "code",
   "execution_count": 20,
   "outputs": [],
   "source": [
    "Flow_wide = Flow.pivot(index='Station_PM', columns='TimeStep', values='Total_Flow')\n",
    "Occupancy_wide = Occupancy.pivot(index='Station_PM', columns='TimeStep', values='Occupancy')\n",
    "Speed_wide = Speed.pivot(index='Station_PM', columns='TimeStep', values='Speed')"
   ],
   "metadata": {
    "collapsed": false
   }
  },
  {
   "cell_type": "code",
   "execution_count": 21,
   "outputs": [],
   "source": [
    "Flow_all_wide.to_csv('Data_Clean/Flow_all.csv')\n",
    "Occupancy_all_wide.to_csv('Data_Clean/Occupancy_all.csv')\n",
    "Speed_all_wide.to_csv('Data_Clean/Speed_all.csv')"
   ],
   "metadata": {
    "collapsed": false
   }
  },
  {
   "cell_type": "code",
   "execution_count": 22,
   "outputs": [],
   "source": [
    "Flow_wide.to_csv('Data_Clean/Flow.csv')\n",
    "Occupancy_wide.to_csv('Data_Clean/Occupancy.csv')\n",
    "Speed_wide.to_csv('Data_Clean/Speed.csv')"
   ],
   "metadata": {
    "collapsed": false
   }
  },
  {
   "cell_type": "code",
   "execution_count": 24,
   "outputs": [],
   "source": [
    "Flow.to_csv('Data_Clean/Flow_Long.csv', index=False)\n",
    "Occupancy.to_csv('Data_Clean/Occupancy_Long.csv', index=False)\n",
    "Speed.to_csv('Data_Clean/Speed_Long.csv', index=False)"
   ],
   "metadata": {
    "collapsed": false
   }
  },
  {
   "cell_type": "code",
   "execution_count": 25,
   "outputs": [],
   "source": [
    "Flow_all.to_csv('Data_Clean/Flow_all_Long.csv', index=False)\n",
    "Occupancy_all.to_csv('Data_Clean/Occupancy_all_Long.csv', index=False)\n",
    "Speed_all.to_csv('Data_Clean/Speed_all_Long.csv', index=False)"
   ],
   "metadata": {
    "collapsed": false
   }
  },
  {
   "cell_type": "code",
   "execution_count": null,
   "outputs": [],
   "source": [],
   "metadata": {
    "collapsed": false
   }
  }
 ],
 "metadata": {
  "kernelspec": {
   "display_name": "Python 3",
   "language": "python",
   "name": "python3"
  },
  "language_info": {
   "codemirror_mode": {
    "name": "ipython",
    "version": 2
   },
   "file_extension": ".py",
   "mimetype": "text/x-python",
   "name": "python",
   "nbconvert_exporter": "python",
   "pygments_lexer": "ipython2",
   "version": "2.7.6"
  }
 },
 "nbformat": 4,
 "nbformat_minor": 0
}
