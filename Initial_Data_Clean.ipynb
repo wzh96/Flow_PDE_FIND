{
 "cells": [
  {
   "cell_type": "code",
   "execution_count": 1,
   "outputs": [],
   "source": [
    "import pandas as pd\n",
    "import os\n",
    "import numpy as np"
   ],
   "metadata": {
    "collapsed": false
   }
  },
  {
   "cell_type": "code",
   "execution_count": 2,
   "outputs": [],
   "source": [
    "file_list = [f for f in os.listdir('/Users/zihangwei/Library/CloudStorage/OneDrive-TexasA&MUniversity/Publishing_Paper/PDE_Network_Modeling/2_RawData') if f.endswith('.txt')]"
   ],
   "metadata": {
    "collapsed": false
   }
  },
  {
   "cell_type": "code",
   "execution_count": 3,
   "outputs": [],
   "source": [
    "delimiter = ','  # Change this to the actual delimiter if it's different\n",
    "data_all = pd.DataFrame()\n",
    "for file_path in file_list:\n",
    "    # Read the text file into a Pandas DataFrame\n",
    "    df = pd.read_csv('/Users/zihangwei/Library/CloudStorage/OneDrive-TexasA&MUniversity/Publishing_Paper/PDE_Network_Modeling/2_RawData/' + file_path, delimiter=delimiter, header=None)\n",
    "    df = df.iloc[:, :12]\n",
    "    names = ['TimeStamp', 'Station', 'District', 'Freeway_#', 'Dir_Travel', 'Type', 'Length', 'Samples',\n",
    "             'Observed_%', 'Total_Flow', 'Occupancy', 'Speed']\n",
    "    df.columns = names\n",
    "    df = df[df['Type']==\"ML\"]\n",
    "\n",
    "    data_all = pd.concat([data_all, df], ignore_index=True)"
   ],
   "metadata": {
    "collapsed": false
   }
  },
  {
   "cell_type": "code",
   "execution_count": 4,
   "outputs": [],
   "source": [
    "data_all_observed = data_all[data_all['Observed_%'] > 0]\n",
    "summary_observed = data_all_observed.groupby('Station').size().reset_index(name='Count')"
   ],
   "metadata": {
    "collapsed": false
   }
  },
  {
   "cell_type": "code",
   "execution_count": 5,
   "outputs": [],
   "source": [
    "metadata = pd.read_csv('Data_Raw/Archive/d07_text_meta_2022_07_15.txt', delimiter='\\t')\n",
    "metadata = metadata[metadata['Type']==\"ML\"]"
   ],
   "metadata": {
    "collapsed": false
   }
  },
  {
   "cell_type": "code",
   "execution_count": 6,
   "outputs": [],
   "source": [
    "metadata_obs = pd.merge(metadata, summary_observed, left_on='ID', right_on='Station' , how='left')"
   ],
   "metadata": {
    "collapsed": false
   }
  },
  {
   "cell_type": "code",
   "execution_count": 7,
   "outputs": [],
   "source": [
    "#metadata_obs.to_csv('Data_Raw/Station_MetaData.csv', index=False)"
   ],
   "metadata": {
    "collapsed": false
   }
  },
  {
   "cell_type": "markdown",
   "source": [
    "## Station Selection"
   ],
   "metadata": {
    "collapsed": false
   }
  },
  {
   "cell_type": "code",
   "execution_count": 32,
   "outputs": [],
   "source": [
    "station_selected = pd.read_csv('Data_Raw/I605_Exported.csv')\n",
    "station_selected = station_selected[station_selected['Count'] == 2016]"
   ],
   "metadata": {
    "collapsed": false
   }
  },
  {
   "cell_type": "code",
   "execution_count": 33,
   "outputs": [],
   "source": [
    "station_selected['PM_Dir'] = station_selected['Abs_PM'] - station_selected['Abs_PM'].min()\n",
    "#station_selected['PM_Dir_round0.5'] = station_selected['PM_Dir'].apply(lambda x: round(x * 2) / 2)\n",
    "station_selected['Station_PM'] = station_selected['PM_Dir'].round(0)\n",
    "station_selected['PM_Deviation'] = abs(station_selected['PM_Dir'] - station_selected['Station_PM'])"
   ],
   "metadata": {
    "collapsed": false
   }
  },
  {
   "cell_type": "code",
   "execution_count": 34,
   "outputs": [],
   "source": [
    "# select the stations where the deviation from integer mile is the smallest.\n",
    "min_index = station_selected.groupby('Station_PM')['PM_Deviation'].idxmin()\n",
    "station_selected = station_selected.loc[min_index]"
   ],
   "metadata": {
    "collapsed": false
   }
  },
  {
   "cell_type": "code",
   "execution_count": 35,
   "outputs": [],
   "source": [
    "station_selected['Station_Number'] = station_selected['Station_PM'].rank(ascending=True)"
   ],
   "metadata": {
    "collapsed": false
   }
  },
  {
   "cell_type": "code",
   "execution_count": 36,
   "outputs": [
    {
     "data": {
      "text/plain": "        ID  Fwy Dir  District  County     City State_PM  Abs_PM   Latitude  \\\n0   717831  605   N         7      37  70686.0     R.23   2.282  33.809588   \n2   761844  605   N         7      37  43000.0    R1.03   3.082  33.821171   \n6   716760  605   N         7      37  39892.0    R2.28   4.332  33.838278   \n9   773736  605   N         7      37  12552.0     R3.3   5.352  33.851922   \n12  717854  605   N         7      37  12552.0    R4.31   6.362  33.866120   \n15  773749  605   N         7      37  12552.0     R5.2   7.252  33.878493   \n19  716784  605   N         7      37  12552.0    R6.29   8.342  33.894297   \n22  717864  605   N         7      37  52526.0    R7.33   9.382  33.909354   \n24  718466  605   N         7      37  52526.0     R8.2  10.252  33.921930   \n27  717879  605   N         7      37  19766.0    R9.75  11.802  33.942882   \n30  717888  605   N         7      37      NaN   R11.51  13.562  33.966404   \n32  717897  605   N         7      37      NaN   R12.48  14.532  33.979377   \n33  717903  605   N         7      37      NaN      R13  15.052  33.985500   \n37  717922  605   N         7      37  56924.0   R14.51  16.562  34.005361   \n38  716819  605   N         7      37      NaN   R14.89  16.942  34.009316   \n42  717940  605   N         7      37  36490.0   R16.76  18.812  34.028108   \n45  716834  605   N         7      37      NaN  R19.365  21.417  34.053746   \n47  763683  605   N         7      37   3666.0   R19.99  22.042  34.062218   \n49  776487  605   N         7      37   3666.0   21.231  23.283  34.079858   \n51  717956  605   N         7      37   3666.0   22.366  24.418  34.093924   \n53  767678  605   N         7      37  36826.0     23.3  25.352  34.106202   \n56  773795  605   N         7      37  36826.0     24.5  26.552  34.120060   \n\n     Longitude  ...  User_ID_1 User_ID_2  User_ID_3 User_ID_4   Station  \\\n0  -118.081304  ...       3435       NaN        NaN       NaN  717831.0   \n2  -118.081273  ...       2137       NaN        NaN       NaN  761844.0   \n6  -118.087885  ...       2138       NaN        NaN       NaN  716760.0   \n9  -118.094520  ...       2660       NaN        NaN       NaN  773736.0   \n12 -118.098646  ...       2139       NaN        NaN       NaN  717854.0   \n15 -118.103113  ...       2439       NaN        NaN       NaN  773749.0   \n19 -118.104669  ...       2140       NaN        NaN       NaN  716784.0   \n22 -118.104924  ...       2141       NaN        NaN       NaN  717864.0   \n24 -118.104318  ...       2910       NaN        NaN       NaN  718466.0   \n27 -118.095620  ...       2454       NaN        NaN       NaN  717879.0   \n30 -118.083604  ...       3350       NaN        NaN       NaN  717888.0   \n32 -118.077076  ...       3335       NaN        NaN       NaN  717897.0   \n33 -118.071807  ...       2145       NaN        NaN       NaN  717903.0   \n37 -118.062480  ...       3338       NaN        NaN       NaN  717922.0   \n38 -118.057906  ...       2146       NaN        NaN       NaN  716819.0   \n42 -118.035925  ...       3340       NaN        NaN       NaN  717940.0   \n45 -118.004464  ...       4424       NaN        NaN       NaN  716834.0   \n47 -118.000416  ...       2447       NaN        NaN       NaN  763683.0   \n49 -117.997784  ...       4426       NaN        NaN       NaN  776487.0   \n51 -117.988767  ...       4427       NaN        NaN       NaN  717956.0   \n53 -117.982407  ...       4432       NaN        NaN       NaN  767678.0   \n56 -117.970742  ...       2152       NaN        NaN       NaN  773795.0   \n\n     Count  PM_Dir  Station_PM  PM_Deviation  Station_Number  \n0   2016.0   0.000         0.0         0.000             1.0  \n2   2016.0   0.800         1.0         0.200             2.0  \n6   2016.0   2.050         2.0         0.050             3.0  \n9   2016.0   3.070         3.0         0.070             4.0  \n12  2016.0   4.080         4.0         0.080             5.0  \n15  2016.0   4.970         5.0         0.030             6.0  \n19  2016.0   6.060         6.0         0.060             7.0  \n22  2016.0   7.100         7.0         0.100             8.0  \n24  2016.0   7.970         8.0         0.030             9.0  \n27  2016.0   9.520        10.0         0.480            10.0  \n30  2016.0  11.280        11.0         0.280            11.0  \n32  2016.0  12.250        12.0         0.250            12.0  \n33  2016.0  12.770        13.0         0.230            13.0  \n37  2016.0  14.280        14.0         0.280            14.0  \n38  2016.0  14.660        15.0         0.340            15.0  \n42  2016.0  16.530        17.0         0.470            16.0  \n45  2016.0  19.135        19.0         0.135            17.0  \n47  2016.0  19.760        20.0         0.240            18.0  \n49  2016.0  21.001        21.0         0.001            19.0  \n51  2016.0  22.136        22.0         0.136            20.0  \n53  2016.0  23.070        23.0         0.070            21.0  \n56  2016.0  24.270        24.0         0.270            22.0  \n\n[22 rows x 24 columns]",
      "text/html": "<div>\n<style scoped>\n    .dataframe tbody tr th:only-of-type {\n        vertical-align: middle;\n    }\n\n    .dataframe tbody tr th {\n        vertical-align: top;\n    }\n\n    .dataframe thead th {\n        text-align: right;\n    }\n</style>\n<table border=\"1\" class=\"dataframe\">\n  <thead>\n    <tr style=\"text-align: right;\">\n      <th></th>\n      <th>ID</th>\n      <th>Fwy</th>\n      <th>Dir</th>\n      <th>District</th>\n      <th>County</th>\n      <th>City</th>\n      <th>State_PM</th>\n      <th>Abs_PM</th>\n      <th>Latitude</th>\n      <th>Longitude</th>\n      <th>...</th>\n      <th>User_ID_1</th>\n      <th>User_ID_2</th>\n      <th>User_ID_3</th>\n      <th>User_ID_4</th>\n      <th>Station</th>\n      <th>Count</th>\n      <th>PM_Dir</th>\n      <th>Station_PM</th>\n      <th>PM_Deviation</th>\n      <th>Station_Number</th>\n    </tr>\n  </thead>\n  <tbody>\n    <tr>\n      <th>0</th>\n      <td>717831</td>\n      <td>605</td>\n      <td>N</td>\n      <td>7</td>\n      <td>37</td>\n      <td>70686.0</td>\n      <td>R.23</td>\n      <td>2.282</td>\n      <td>33.809588</td>\n      <td>-118.081304</td>\n      <td>...</td>\n      <td>3435</td>\n      <td>NaN</td>\n      <td>NaN</td>\n      <td>NaN</td>\n      <td>717831.0</td>\n      <td>2016.0</td>\n      <td>0.000</td>\n      <td>0.0</td>\n      <td>0.000</td>\n      <td>1.0</td>\n    </tr>\n    <tr>\n      <th>2</th>\n      <td>761844</td>\n      <td>605</td>\n      <td>N</td>\n      <td>7</td>\n      <td>37</td>\n      <td>43000.0</td>\n      <td>R1.03</td>\n      <td>3.082</td>\n      <td>33.821171</td>\n      <td>-118.081273</td>\n      <td>...</td>\n      <td>2137</td>\n      <td>NaN</td>\n      <td>NaN</td>\n      <td>NaN</td>\n      <td>761844.0</td>\n      <td>2016.0</td>\n      <td>0.800</td>\n      <td>1.0</td>\n      <td>0.200</td>\n      <td>2.0</td>\n    </tr>\n    <tr>\n      <th>6</th>\n      <td>716760</td>\n      <td>605</td>\n      <td>N</td>\n      <td>7</td>\n      <td>37</td>\n      <td>39892.0</td>\n      <td>R2.28</td>\n      <td>4.332</td>\n      <td>33.838278</td>\n      <td>-118.087885</td>\n      <td>...</td>\n      <td>2138</td>\n      <td>NaN</td>\n      <td>NaN</td>\n      <td>NaN</td>\n      <td>716760.0</td>\n      <td>2016.0</td>\n      <td>2.050</td>\n      <td>2.0</td>\n      <td>0.050</td>\n      <td>3.0</td>\n    </tr>\n    <tr>\n      <th>9</th>\n      <td>773736</td>\n      <td>605</td>\n      <td>N</td>\n      <td>7</td>\n      <td>37</td>\n      <td>12552.0</td>\n      <td>R3.3</td>\n      <td>5.352</td>\n      <td>33.851922</td>\n      <td>-118.094520</td>\n      <td>...</td>\n      <td>2660</td>\n      <td>NaN</td>\n      <td>NaN</td>\n      <td>NaN</td>\n      <td>773736.0</td>\n      <td>2016.0</td>\n      <td>3.070</td>\n      <td>3.0</td>\n      <td>0.070</td>\n      <td>4.0</td>\n    </tr>\n    <tr>\n      <th>12</th>\n      <td>717854</td>\n      <td>605</td>\n      <td>N</td>\n      <td>7</td>\n      <td>37</td>\n      <td>12552.0</td>\n      <td>R4.31</td>\n      <td>6.362</td>\n      <td>33.866120</td>\n      <td>-118.098646</td>\n      <td>...</td>\n      <td>2139</td>\n      <td>NaN</td>\n      <td>NaN</td>\n      <td>NaN</td>\n      <td>717854.0</td>\n      <td>2016.0</td>\n      <td>4.080</td>\n      <td>4.0</td>\n      <td>0.080</td>\n      <td>5.0</td>\n    </tr>\n    <tr>\n      <th>15</th>\n      <td>773749</td>\n      <td>605</td>\n      <td>N</td>\n      <td>7</td>\n      <td>37</td>\n      <td>12552.0</td>\n      <td>R5.2</td>\n      <td>7.252</td>\n      <td>33.878493</td>\n      <td>-118.103113</td>\n      <td>...</td>\n      <td>2439</td>\n      <td>NaN</td>\n      <td>NaN</td>\n      <td>NaN</td>\n      <td>773749.0</td>\n      <td>2016.0</td>\n      <td>4.970</td>\n      <td>5.0</td>\n      <td>0.030</td>\n      <td>6.0</td>\n    </tr>\n    <tr>\n      <th>19</th>\n      <td>716784</td>\n      <td>605</td>\n      <td>N</td>\n      <td>7</td>\n      <td>37</td>\n      <td>12552.0</td>\n      <td>R6.29</td>\n      <td>8.342</td>\n      <td>33.894297</td>\n      <td>-118.104669</td>\n      <td>...</td>\n      <td>2140</td>\n      <td>NaN</td>\n      <td>NaN</td>\n      <td>NaN</td>\n      <td>716784.0</td>\n      <td>2016.0</td>\n      <td>6.060</td>\n      <td>6.0</td>\n      <td>0.060</td>\n      <td>7.0</td>\n    </tr>\n    <tr>\n      <th>22</th>\n      <td>717864</td>\n      <td>605</td>\n      <td>N</td>\n      <td>7</td>\n      <td>37</td>\n      <td>52526.0</td>\n      <td>R7.33</td>\n      <td>9.382</td>\n      <td>33.909354</td>\n      <td>-118.104924</td>\n      <td>...</td>\n      <td>2141</td>\n      <td>NaN</td>\n      <td>NaN</td>\n      <td>NaN</td>\n      <td>717864.0</td>\n      <td>2016.0</td>\n      <td>7.100</td>\n      <td>7.0</td>\n      <td>0.100</td>\n      <td>8.0</td>\n    </tr>\n    <tr>\n      <th>24</th>\n      <td>718466</td>\n      <td>605</td>\n      <td>N</td>\n      <td>7</td>\n      <td>37</td>\n      <td>52526.0</td>\n      <td>R8.2</td>\n      <td>10.252</td>\n      <td>33.921930</td>\n      <td>-118.104318</td>\n      <td>...</td>\n      <td>2910</td>\n      <td>NaN</td>\n      <td>NaN</td>\n      <td>NaN</td>\n      <td>718466.0</td>\n      <td>2016.0</td>\n      <td>7.970</td>\n      <td>8.0</td>\n      <td>0.030</td>\n      <td>9.0</td>\n    </tr>\n    <tr>\n      <th>27</th>\n      <td>717879</td>\n      <td>605</td>\n      <td>N</td>\n      <td>7</td>\n      <td>37</td>\n      <td>19766.0</td>\n      <td>R9.75</td>\n      <td>11.802</td>\n      <td>33.942882</td>\n      <td>-118.095620</td>\n      <td>...</td>\n      <td>2454</td>\n      <td>NaN</td>\n      <td>NaN</td>\n      <td>NaN</td>\n      <td>717879.0</td>\n      <td>2016.0</td>\n      <td>9.520</td>\n      <td>10.0</td>\n      <td>0.480</td>\n      <td>10.0</td>\n    </tr>\n    <tr>\n      <th>30</th>\n      <td>717888</td>\n      <td>605</td>\n      <td>N</td>\n      <td>7</td>\n      <td>37</td>\n      <td>NaN</td>\n      <td>R11.51</td>\n      <td>13.562</td>\n      <td>33.966404</td>\n      <td>-118.083604</td>\n      <td>...</td>\n      <td>3350</td>\n      <td>NaN</td>\n      <td>NaN</td>\n      <td>NaN</td>\n      <td>717888.0</td>\n      <td>2016.0</td>\n      <td>11.280</td>\n      <td>11.0</td>\n      <td>0.280</td>\n      <td>11.0</td>\n    </tr>\n    <tr>\n      <th>32</th>\n      <td>717897</td>\n      <td>605</td>\n      <td>N</td>\n      <td>7</td>\n      <td>37</td>\n      <td>NaN</td>\n      <td>R12.48</td>\n      <td>14.532</td>\n      <td>33.979377</td>\n      <td>-118.077076</td>\n      <td>...</td>\n      <td>3335</td>\n      <td>NaN</td>\n      <td>NaN</td>\n      <td>NaN</td>\n      <td>717897.0</td>\n      <td>2016.0</td>\n      <td>12.250</td>\n      <td>12.0</td>\n      <td>0.250</td>\n      <td>12.0</td>\n    </tr>\n    <tr>\n      <th>33</th>\n      <td>717903</td>\n      <td>605</td>\n      <td>N</td>\n      <td>7</td>\n      <td>37</td>\n      <td>NaN</td>\n      <td>R13</td>\n      <td>15.052</td>\n      <td>33.985500</td>\n      <td>-118.071807</td>\n      <td>...</td>\n      <td>2145</td>\n      <td>NaN</td>\n      <td>NaN</td>\n      <td>NaN</td>\n      <td>717903.0</td>\n      <td>2016.0</td>\n      <td>12.770</td>\n      <td>13.0</td>\n      <td>0.230</td>\n      <td>13.0</td>\n    </tr>\n    <tr>\n      <th>37</th>\n      <td>717922</td>\n      <td>605</td>\n      <td>N</td>\n      <td>7</td>\n      <td>37</td>\n      <td>56924.0</td>\n      <td>R14.51</td>\n      <td>16.562</td>\n      <td>34.005361</td>\n      <td>-118.062480</td>\n      <td>...</td>\n      <td>3338</td>\n      <td>NaN</td>\n      <td>NaN</td>\n      <td>NaN</td>\n      <td>717922.0</td>\n      <td>2016.0</td>\n      <td>14.280</td>\n      <td>14.0</td>\n      <td>0.280</td>\n      <td>14.0</td>\n    </tr>\n    <tr>\n      <th>38</th>\n      <td>716819</td>\n      <td>605</td>\n      <td>N</td>\n      <td>7</td>\n      <td>37</td>\n      <td>NaN</td>\n      <td>R14.89</td>\n      <td>16.942</td>\n      <td>34.009316</td>\n      <td>-118.057906</td>\n      <td>...</td>\n      <td>2146</td>\n      <td>NaN</td>\n      <td>NaN</td>\n      <td>NaN</td>\n      <td>716819.0</td>\n      <td>2016.0</td>\n      <td>14.660</td>\n      <td>15.0</td>\n      <td>0.340</td>\n      <td>15.0</td>\n    </tr>\n    <tr>\n      <th>42</th>\n      <td>717940</td>\n      <td>605</td>\n      <td>N</td>\n      <td>7</td>\n      <td>37</td>\n      <td>36490.0</td>\n      <td>R16.76</td>\n      <td>18.812</td>\n      <td>34.028108</td>\n      <td>-118.035925</td>\n      <td>...</td>\n      <td>3340</td>\n      <td>NaN</td>\n      <td>NaN</td>\n      <td>NaN</td>\n      <td>717940.0</td>\n      <td>2016.0</td>\n      <td>16.530</td>\n      <td>17.0</td>\n      <td>0.470</td>\n      <td>16.0</td>\n    </tr>\n    <tr>\n      <th>45</th>\n      <td>716834</td>\n      <td>605</td>\n      <td>N</td>\n      <td>7</td>\n      <td>37</td>\n      <td>NaN</td>\n      <td>R19.365</td>\n      <td>21.417</td>\n      <td>34.053746</td>\n      <td>-118.004464</td>\n      <td>...</td>\n      <td>4424</td>\n      <td>NaN</td>\n      <td>NaN</td>\n      <td>NaN</td>\n      <td>716834.0</td>\n      <td>2016.0</td>\n      <td>19.135</td>\n      <td>19.0</td>\n      <td>0.135</td>\n      <td>17.0</td>\n    </tr>\n    <tr>\n      <th>47</th>\n      <td>763683</td>\n      <td>605</td>\n      <td>N</td>\n      <td>7</td>\n      <td>37</td>\n      <td>3666.0</td>\n      <td>R19.99</td>\n      <td>22.042</td>\n      <td>34.062218</td>\n      <td>-118.000416</td>\n      <td>...</td>\n      <td>2447</td>\n      <td>NaN</td>\n      <td>NaN</td>\n      <td>NaN</td>\n      <td>763683.0</td>\n      <td>2016.0</td>\n      <td>19.760</td>\n      <td>20.0</td>\n      <td>0.240</td>\n      <td>18.0</td>\n    </tr>\n    <tr>\n      <th>49</th>\n      <td>776487</td>\n      <td>605</td>\n      <td>N</td>\n      <td>7</td>\n      <td>37</td>\n      <td>3666.0</td>\n      <td>21.231</td>\n      <td>23.283</td>\n      <td>34.079858</td>\n      <td>-117.997784</td>\n      <td>...</td>\n      <td>4426</td>\n      <td>NaN</td>\n      <td>NaN</td>\n      <td>NaN</td>\n      <td>776487.0</td>\n      <td>2016.0</td>\n      <td>21.001</td>\n      <td>21.0</td>\n      <td>0.001</td>\n      <td>19.0</td>\n    </tr>\n    <tr>\n      <th>51</th>\n      <td>717956</td>\n      <td>605</td>\n      <td>N</td>\n      <td>7</td>\n      <td>37</td>\n      <td>3666.0</td>\n      <td>22.366</td>\n      <td>24.418</td>\n      <td>34.093924</td>\n      <td>-117.988767</td>\n      <td>...</td>\n      <td>4427</td>\n      <td>NaN</td>\n      <td>NaN</td>\n      <td>NaN</td>\n      <td>717956.0</td>\n      <td>2016.0</td>\n      <td>22.136</td>\n      <td>22.0</td>\n      <td>0.136</td>\n      <td>20.0</td>\n    </tr>\n    <tr>\n      <th>53</th>\n      <td>767678</td>\n      <td>605</td>\n      <td>N</td>\n      <td>7</td>\n      <td>37</td>\n      <td>36826.0</td>\n      <td>23.3</td>\n      <td>25.352</td>\n      <td>34.106202</td>\n      <td>-117.982407</td>\n      <td>...</td>\n      <td>4432</td>\n      <td>NaN</td>\n      <td>NaN</td>\n      <td>NaN</td>\n      <td>767678.0</td>\n      <td>2016.0</td>\n      <td>23.070</td>\n      <td>23.0</td>\n      <td>0.070</td>\n      <td>21.0</td>\n    </tr>\n    <tr>\n      <th>56</th>\n      <td>773795</td>\n      <td>605</td>\n      <td>N</td>\n      <td>7</td>\n      <td>37</td>\n      <td>36826.0</td>\n      <td>24.5</td>\n      <td>26.552</td>\n      <td>34.120060</td>\n      <td>-117.970742</td>\n      <td>...</td>\n      <td>2152</td>\n      <td>NaN</td>\n      <td>NaN</td>\n      <td>NaN</td>\n      <td>773795.0</td>\n      <td>2016.0</td>\n      <td>24.270</td>\n      <td>24.0</td>\n      <td>0.270</td>\n      <td>22.0</td>\n    </tr>\n  </tbody>\n</table>\n<p>22 rows × 24 columns</p>\n</div>"
     },
     "execution_count": 36,
     "metadata": {},
     "output_type": "execute_result"
    }
   ],
   "source": [
    "station_selected"
   ],
   "metadata": {
    "collapsed": false
   }
  },
  {
   "cell_type": "code",
   "execution_count": 37,
   "outputs": [],
   "source": [
    "order_match = station_selected[['ID', 'Station_PM']]"
   ],
   "metadata": {
    "collapsed": false
   }
  },
  {
   "cell_type": "code",
   "execution_count": 38,
   "outputs": [
    {
     "name": "stderr",
     "output_type": "stream",
     "text": [
      "/var/folders/g5/yg5rt0h52kxc5z_0zd7jrqbh0000gn/T/ipykernel_40607/440614197.py:3: SettingWithCopyWarning: \n",
      "A value is trying to be set on a copy of a slice from a DataFrame.\n",
      "Try using .loc[row_indexer,col_indexer] = value instead\n",
      "\n",
      "See the caveats in the documentation: https://pandas.pydata.org/pandas-docs/stable/user_guide/indexing.html#returning-a-view-versus-a-copy\n",
      "  data_all_select['TimeStamp'] = pd.to_datetime(data_all_select['TimeStamp'])\n",
      "/var/folders/g5/yg5rt0h52kxc5z_0zd7jrqbh0000gn/T/ipykernel_40607/440614197.py:4: SettingWithCopyWarning: \n",
      "A value is trying to be set on a copy of a slice from a DataFrame.\n",
      "Try using .loc[row_indexer,col_indexer] = value instead\n",
      "\n",
      "See the caveats in the documentation: https://pandas.pydata.org/pandas-docs/stable/user_guide/indexing.html#returning-a-view-versus-a-copy\n",
      "  data_all_select['TimeDiff'] = ((data_all_select['TimeStamp'] - data_all_select['TimeStamp'].min()).dt.total_seconds())/60\n",
      "/var/folders/g5/yg5rt0h52kxc5z_0zd7jrqbh0000gn/T/ipykernel_40607/440614197.py:5: SettingWithCopyWarning: \n",
      "A value is trying to be set on a copy of a slice from a DataFrame.\n",
      "Try using .loc[row_indexer,col_indexer] = value instead\n",
      "\n",
      "See the caveats in the documentation: https://pandas.pydata.org/pandas-docs/stable/user_guide/indexing.html#returning-a-view-versus-a-copy\n",
      "  data_all_select['TimeStep'] = 1 + (data_all_select['TimeDiff'] // 5)\n"
     ]
    }
   ],
   "source": [
    "ID_selected = station_selected['ID']\n",
    "data_all_select = data_all[data_all['Station'].isin(ID_selected)]\n",
    "data_all_select['TimeStamp'] = pd.to_datetime(data_all_select['TimeStamp'])\n",
    "data_all_select['TimeDiff'] = ((data_all_select['TimeStamp'] - data_all_select['TimeStamp'].min()).dt.total_seconds())/60\n",
    "data_all_select['TimeStep'] = 1 + (data_all_select['TimeDiff'] // 5)"
   ],
   "metadata": {
    "collapsed": false
   }
  },
  {
   "cell_type": "code",
   "execution_count": 39,
   "outputs": [],
   "source": [
    "#station_selected[station_selected['PM_Dir_round'].duplicated(keep=False)]"
   ],
   "metadata": {
    "collapsed": false
   }
  },
  {
   "cell_type": "code",
   "execution_count": 40,
   "outputs": [],
   "source": [
    "data_all_select = pd.merge(data_all_select, order_match, left_on='Station', right_on='ID' , how='left')"
   ],
   "metadata": {
    "collapsed": false
   }
  },
  {
   "cell_type": "code",
   "execution_count": 41,
   "outputs": [
    {
     "name": "stderr",
     "output_type": "stream",
     "text": [
      "/var/folders/g5/yg5rt0h52kxc5z_0zd7jrqbh0000gn/T/ipykernel_40607/3535391722.py:2: SettingWithCopyWarning: \n",
      "A value is trying to be set on a copy of a slice from a DataFrame.\n",
      "Try using .loc[row_indexer,col_indexer] = value instead\n",
      "\n",
      "See the caveats in the documentation: https://pandas.pydata.org/pandas-docs/stable/user_guide/indexing.html#returning-a-view-versus-a-copy\n",
      "  Flow['TimeStep'] = Flow['TimeStep'].astype(int)\n",
      "/var/folders/g5/yg5rt0h52kxc5z_0zd7jrqbh0000gn/T/ipykernel_40607/3535391722.py:3: SettingWithCopyWarning: \n",
      "A value is trying to be set on a copy of a slice from a DataFrame.\n",
      "Try using .loc[row_indexer,col_indexer] = value instead\n",
      "\n",
      "See the caveats in the documentation: https://pandas.pydata.org/pandas-docs/stable/user_guide/indexing.html#returning-a-view-versus-a-copy\n",
      "  Flow['Station_PM'] = Flow['Station_PM'].astype(int)\n",
      "/var/folders/g5/yg5rt0h52kxc5z_0zd7jrqbh0000gn/T/ipykernel_40607/3535391722.py:6: SettingWithCopyWarning: \n",
      "A value is trying to be set on a copy of a slice from a DataFrame.\n",
      "Try using .loc[row_indexer,col_indexer] = value instead\n",
      "\n",
      "See the caveats in the documentation: https://pandas.pydata.org/pandas-docs/stable/user_guide/indexing.html#returning-a-view-versus-a-copy\n",
      "  Occupancy['TimeStep'] = Occupancy['TimeStep'].astype(int)\n",
      "/var/folders/g5/yg5rt0h52kxc5z_0zd7jrqbh0000gn/T/ipykernel_40607/3535391722.py:7: SettingWithCopyWarning: \n",
      "A value is trying to be set on a copy of a slice from a DataFrame.\n",
      "Try using .loc[row_indexer,col_indexer] = value instead\n",
      "\n",
      "See the caveats in the documentation: https://pandas.pydata.org/pandas-docs/stable/user_guide/indexing.html#returning-a-view-versus-a-copy\n",
      "  Occupancy['Station_PM'] = Occupancy['Station_PM'].astype(int)\n",
      "/var/folders/g5/yg5rt0h52kxc5z_0zd7jrqbh0000gn/T/ipykernel_40607/3535391722.py:10: SettingWithCopyWarning: \n",
      "A value is trying to be set on a copy of a slice from a DataFrame.\n",
      "Try using .loc[row_indexer,col_indexer] = value instead\n",
      "\n",
      "See the caveats in the documentation: https://pandas.pydata.org/pandas-docs/stable/user_guide/indexing.html#returning-a-view-versus-a-copy\n",
      "  Speed['TimeStep'] = Speed['TimeStep'].astype(int)\n",
      "/var/folders/g5/yg5rt0h52kxc5z_0zd7jrqbh0000gn/T/ipykernel_40607/3535391722.py:11: SettingWithCopyWarning: \n",
      "A value is trying to be set on a copy of a slice from a DataFrame.\n",
      "Try using .loc[row_indexer,col_indexer] = value instead\n",
      "\n",
      "See the caveats in the documentation: https://pandas.pydata.org/pandas-docs/stable/user_guide/indexing.html#returning-a-view-versus-a-copy\n",
      "  Speed['Station_PM'] = Speed['Station_PM'].astype(int)\n"
     ]
    }
   ],
   "source": [
    "Flow = data_all_select[['TimeStep', 'Station_PM', 'Total_Flow']]\n",
    "Flow['TimeStep'] = Flow['TimeStep'].astype(int)\n",
    "Flow['Station_PM'] = Flow['Station_PM'].astype(int)\n",
    "\n",
    "Occupancy = data_all_select[['TimeStep', 'Station_PM', 'Occupancy']]\n",
    "Occupancy['TimeStep'] = Occupancy['TimeStep'].astype(int)\n",
    "Occupancy['Station_PM'] = Occupancy['Station_PM'].astype(int)\n",
    "\n",
    "Speed = data_all_select[['TimeStep', 'Station_PM', 'Speed']]\n",
    "Speed['TimeStep'] = Speed['TimeStep'].astype(int)\n",
    "Speed['Station_PM'] = Speed['Station_PM'].astype(int)"
   ],
   "metadata": {
    "collapsed": false
   }
  },
  {
   "cell_type": "markdown",
   "source": [
    "## Final Data Cleaning"
   ],
   "metadata": {
    "collapsed": false
   }
  },
  {
   "cell_type": "code",
   "execution_count": 42,
   "outputs": [],
   "source": [
    "\"\"\"\n",
    "Create a table with timestep and PM (posted Miles) as one-one match\n",
    "\"\"\"\n",
    "timestep_value = [i for i in range(1, Occupancy['TimeStep'].max() + 1) for _ in range(Occupancy['Station_PM'].max() + 1)]\n",
    "PM_values = list(range(Occupancy['Station_PM'].max() + 1)) * Occupancy['TimeStep'].max()\n",
    "Time_PM = pd.DataFrame({'TimeStep': timestep_value, 'Station_PM': PM_values})"
   ],
   "metadata": {
    "collapsed": false
   }
  },
  {
   "cell_type": "code",
   "execution_count": 43,
   "outputs": [],
   "source": [
    "Occupancy_all = pd.merge(Time_PM, Occupancy, on=['TimeStep', 'Station_PM'] , how='left')\n",
    "Flow_all = pd.merge(Time_PM, Flow, on=['TimeStep', 'Station_PM'] , how='left')\n",
    "Speed_all = pd.merge(Time_PM, Speed, on=['TimeStep', 'Station_PM'] , how='left')"
   ],
   "metadata": {
    "collapsed": false
   }
  },
  {
   "cell_type": "code",
   "execution_count": 44,
   "outputs": [
    {
     "data": {
      "text/plain": "       TimeStep  Station_PM  Occupancy\n0             1           0     0.0132\n1             1           1     0.0175\n2             1           2     0.0198\n3             1           3     0.0223\n4             1           4     0.0214\n...         ...         ...        ...\n50395      2016          20     0.0259\n50396      2016          21     0.0256\n50397      2016          22     0.0241\n50398      2016          23     0.0232\n50399      2016          24     0.0204\n\n[50400 rows x 3 columns]",
      "text/html": "<div>\n<style scoped>\n    .dataframe tbody tr th:only-of-type {\n        vertical-align: middle;\n    }\n\n    .dataframe tbody tr th {\n        vertical-align: top;\n    }\n\n    .dataframe thead th {\n        text-align: right;\n    }\n</style>\n<table border=\"1\" class=\"dataframe\">\n  <thead>\n    <tr style=\"text-align: right;\">\n      <th></th>\n      <th>TimeStep</th>\n      <th>Station_PM</th>\n      <th>Occupancy</th>\n    </tr>\n  </thead>\n  <tbody>\n    <tr>\n      <th>0</th>\n      <td>1</td>\n      <td>0</td>\n      <td>0.0132</td>\n    </tr>\n    <tr>\n      <th>1</th>\n      <td>1</td>\n      <td>1</td>\n      <td>0.0175</td>\n    </tr>\n    <tr>\n      <th>2</th>\n      <td>1</td>\n      <td>2</td>\n      <td>0.0198</td>\n    </tr>\n    <tr>\n      <th>3</th>\n      <td>1</td>\n      <td>3</td>\n      <td>0.0223</td>\n    </tr>\n    <tr>\n      <th>4</th>\n      <td>1</td>\n      <td>4</td>\n      <td>0.0214</td>\n    </tr>\n    <tr>\n      <th>...</th>\n      <td>...</td>\n      <td>...</td>\n      <td>...</td>\n    </tr>\n    <tr>\n      <th>50395</th>\n      <td>2016</td>\n      <td>20</td>\n      <td>0.0259</td>\n    </tr>\n    <tr>\n      <th>50396</th>\n      <td>2016</td>\n      <td>21</td>\n      <td>0.0256</td>\n    </tr>\n    <tr>\n      <th>50397</th>\n      <td>2016</td>\n      <td>22</td>\n      <td>0.0241</td>\n    </tr>\n    <tr>\n      <th>50398</th>\n      <td>2016</td>\n      <td>23</td>\n      <td>0.0232</td>\n    </tr>\n    <tr>\n      <th>50399</th>\n      <td>2016</td>\n      <td>24</td>\n      <td>0.0204</td>\n    </tr>\n  </tbody>\n</table>\n<p>50400 rows × 3 columns</p>\n</div>"
     },
     "execution_count": 44,
     "metadata": {},
     "output_type": "execute_result"
    }
   ],
   "source": [
    "Occupancy_all"
   ],
   "metadata": {
    "collapsed": false
   }
  },
  {
   "cell_type": "code",
   "execution_count": 45,
   "outputs": [],
   "source": [
    "Occupancy_all_wide = Occupancy_all.pivot(index='Station_PM', columns='TimeStep', values='Occupancy')\n",
    "Flow_all_wide = Flow_all.pivot(index='Station_PM', columns='TimeStep', values='Total_Flow')\n",
    "Speed_all_wide = Speed_all.pivot(index='Station_PM', columns='TimeStep', values='Speed')"
   ],
   "metadata": {
    "collapsed": false
   }
  },
  {
   "cell_type": "code",
   "execution_count": 46,
   "outputs": [],
   "source": [
    "Flow_wide = Flow.pivot(index='Station_PM', columns='TimeStep', values='Total_Flow')\n",
    "Occupancy_wide = Occupancy.pivot(index='Station_PM', columns='TimeStep', values='Occupancy')\n",
    "Speed_wide = Speed.pivot(index='Station_PM', columns='TimeStep', values='Speed')"
   ],
   "metadata": {
    "collapsed": false
   }
  },
  {
   "cell_type": "code",
   "execution_count": 47,
   "outputs": [],
   "source": [
    "Flow_all_wide.to_csv('Data_Clean/Flow_all.csv')\n",
    "Occupancy_all_wide.to_csv('Data_Clean/Occupancy_all.csv')\n",
    "Speed_all_wide.to_csv('Data_Clean/Speed_all.csv')"
   ],
   "metadata": {
    "collapsed": false
   }
  },
  {
   "cell_type": "code",
   "execution_count": 48,
   "outputs": [],
   "source": [
    "Flow_wide.to_csv('Data_Clean/Flow.csv')\n",
    "Occupancy_wide.to_csv('Data_Clean/Occupancy.csv')\n",
    "Speed_wide.to_csv('Data_Clean/Speed.csv')"
   ],
   "metadata": {
    "collapsed": false
   }
  },
  {
   "cell_type": "code",
   "execution_count": 49,
   "outputs": [],
   "source": [
    "Flow.to_csv('Data_Clean/Flow_Long.csv', index=False)\n",
    "Occupancy.to_csv('Data_Clean/Occupancy_Long.csv', index=False)\n",
    "Speed.to_csv('Data_Clean/Speed_Long.csv', index=False)"
   ],
   "metadata": {
    "collapsed": false
   }
  },
  {
   "cell_type": "code",
   "execution_count": 50,
   "outputs": [],
   "source": [
    "Flow_all.to_csv('Data_Clean/Flow_all_Long.csv', index=False)\n",
    "Occupancy_all.to_csv('Data_Clean/Occupancy_all_Long.csv', index=False)\n",
    "Speed_all.to_csv('Data_Clean/Speed_all_Long.csv', index=False)"
   ],
   "metadata": {
    "collapsed": false
   }
  },
  {
   "cell_type": "code",
   "execution_count": null,
   "outputs": [],
   "source": [],
   "metadata": {
    "collapsed": false
   }
  }
 ],
 "metadata": {
  "kernelspec": {
   "display_name": "Python 3",
   "language": "python",
   "name": "python3"
  },
  "language_info": {
   "codemirror_mode": {
    "name": "ipython",
    "version": 2
   },
   "file_extension": ".py",
   "mimetype": "text/x-python",
   "name": "python",
   "nbconvert_exporter": "python",
   "pygments_lexer": "ipython2",
   "version": "2.7.6"
  }
 },
 "nbformat": 4,
 "nbformat_minor": 0
}
