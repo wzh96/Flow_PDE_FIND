{
 "cells": [
  {
   "cell_type": "code",
   "execution_count": 48,
   "outputs": [],
   "source": [
    "import pandas as pd\n",
    "import os\n",
    "import numpy as np"
   ],
   "metadata": {
    "collapsed": false
   }
  },
  {
   "cell_type": "code",
   "execution_count": 49,
   "outputs": [],
   "source": [
    "file_list = [f for f in os.listdir('/Users/zihangwei/Library/CloudStorage/OneDrive-TexasA&MUniversity/Publishing_Paper/PDE_Network_Modeling/2_RawData') if f.endswith('.txt')]"
   ],
   "metadata": {
    "collapsed": false
   }
  },
  {
   "cell_type": "code",
   "execution_count": 50,
   "outputs": [],
   "source": [
    "delimiter = ','  # Change this to the actual delimiter if it's different\n",
    "data_all = pd.DataFrame()\n",
    "for file_path in file_list:\n",
    "    # Read the text file into a Pandas DataFrame\n",
    "    df = pd.read_csv('/Users/zihangwei/Library/CloudStorage/OneDrive-TexasA&MUniversity/Publishing_Paper/PDE_Network_Modeling/2_RawData/' + file_path, delimiter=delimiter, header=None)\n",
    "    df = df.iloc[:, :12]\n",
    "    names = ['TimeStamp', 'Station', 'District', 'Freeway_#', 'Dir_Travel', 'Type', 'Length', 'Samples',\n",
    "             'Observed_%', 'Total_Flow', 'Occupancy', 'Speed']\n",
    "    df.columns = names\n",
    "    df = df[df['Type']==\"ML\"]\n",
    "\n",
    "    data_all = pd.concat([data_all, df], ignore_index=True)"
   ],
   "metadata": {
    "collapsed": false
   }
  },
  {
   "cell_type": "code",
   "execution_count": 51,
   "outputs": [],
   "source": [
    "data_all_observed = data_all[data_all['Observed_%'] > 0]\n",
    "summary_observed = data_all_observed.groupby('Station').size().reset_index(name='Count')"
   ],
   "metadata": {
    "collapsed": false
   }
  },
  {
   "cell_type": "code",
   "execution_count": 52,
   "outputs": [],
   "source": [
    "metadata = pd.read_csv('Data_Raw/Archive/d07_text_meta_2022_07_15.txt', delimiter='\\t')\n",
    "metadata = metadata[metadata['Type']==\"ML\"]"
   ],
   "metadata": {
    "collapsed": false
   }
  },
  {
   "cell_type": "code",
   "execution_count": 53,
   "outputs": [],
   "source": [
    "metadata_obs = pd.merge(metadata, summary_observed, left_on='ID', right_on='Station' , how='left')"
   ],
   "metadata": {
    "collapsed": false
   }
  },
  {
   "cell_type": "code",
   "execution_count": 54,
   "outputs": [],
   "source": [
    "#metadata_obs.to_csv('Data_Raw/Station_MetaData.csv', index=False)"
   ],
   "metadata": {
    "collapsed": false
   }
  },
  {
   "cell_type": "markdown",
   "source": [
    "## Station Selection"
   ],
   "metadata": {
    "collapsed": false
   }
  },
  {
   "cell_type": "code",
   "execution_count": 55,
   "outputs": [],
   "source": [
    "station_selected = pd.read_csv('Data_Raw/CA23N_Exported.csv')"
   ],
   "metadata": {
    "collapsed": false
   }
  },
  {
   "cell_type": "code",
   "execution_count": 56,
   "outputs": [],
   "source": [
    "station_selected['PM_Dir'] = station_selected['Abs_PM'] - station_selected['Abs_PM'].min()"
   ],
   "metadata": {
    "collapsed": false
   }
  },
  {
   "cell_type": "code",
   "execution_count": 57,
   "outputs": [],
   "source": [
    "station_selected['Station_Number'] = station_selected['Abs_PM'].rank(ascending=True)\n",
    "station_selected['Station_PM'] = station_selected['PM_Dir'].round(1) * 10\n",
    "\n",
    "ID_to_remove = [771421]\n",
    "station_selected = station_selected[~station_selected['ID'].isin(ID_to_remove)]"
   ],
   "metadata": {
    "collapsed": false
   }
  },
  {
   "cell_type": "code",
   "execution_count": 58,
   "outputs": [
    {
     "data": {
      "text/plain": "        ID  Fwy Dir  District  County     City State_PM  Abs_PM   Latitude  \\\n0   771253   23   N         7     111  78582.0    R3.92  12.523  34.179522   \n1   771268   23   N         7     111  78582.0    R5.05  13.653  34.196191   \n2   771285   23   N         7     111  78582.0    R5.25  13.853  34.198898   \n3   771294   23   N         7     111  78582.0    R5.61  14.213  34.203343   \n4   771306   23   N         7     111  78582.0    R6.02  14.623  34.208327   \n5   771318   23   N         7     111  78582.0    R6.22  14.823  34.211348   \n6   771329   23   N         7     111  78582.0    R7.13  15.733  34.225045   \n7   771340   23   N         7     111  78582.0    R7.37  15.973  34.228473   \n8   771349   23   N         7     111  78582.0    R6.47  15.073  34.215167   \n9   771360   23   N         7     111  78582.0     R8.3  16.903  34.241576   \n10  771371   23   N         7     111  78582.0    R8.51  17.113  34.244752   \n11  771386   23   N         7     111  78582.0       R9  17.603  34.252263   \n12  771396   23   N         7     111  78582.0     R9.5  18.103  34.259271   \n13  771410   23   N         7     111  78582.0   R10.12  18.723  34.266273   \n15  771431   23   N         7     111  49138.0    R10.8  19.403  34.274437   \n16  771441   23   N         7     111  49138.0   R11.41  20.013  34.281715   \n17  771578   23   N         7     111  78582.0    R4.22  12.823  34.184067   \n\n     Longitude  ...                Name User_ID_1  User_ID_2 User_ID_3  \\\n0  -118.860080  ...           HILLCREST      4850        NaN       NaN   \n1  -118.859225  ...             JANSS 1      4745        NaN       NaN   \n2  -118.857485  ...             JANSS 2      4747        NaN       NaN   \n3  -118.853680  ...          LAS FLORES      2741        NaN       NaN   \n4  -118.849291  ...       LOS ARBOLES 1      4749        NaN       NaN   \n5  -118.848860  ...       LOS ARBOLES 2      4751        NaN       NaN   \n6  -118.847994  ...      SUNSET HILLS 1      4753        NaN       NaN   \n7  -118.846374  ...      SUNSET HILLS 2      4755        NaN       NaN   \n8  -118.849269  ...            PEDERSON      2742        NaN       NaN   \n9  -118.839735  ...             OLSEN 1      4757        NaN       NaN   \n10 -118.839479  ...             OLSEN 2      4759        NaN       NaN   \n11 -118.839889  ...          N OF OLSEN      2743        NaN       NaN   \n12 -118.842944  ...  S OF TIERRA REJADA      2744        NaN       NaN   \n13 -118.850611  ...     TIERRA REJADA 1      4762        NaN       NaN   \n15 -118.857161  ...  N OF TIERRA REJADA      2745        NaN       NaN   \n16 -118.862785  ...     NEW LOS ANGELES      4573        NaN       NaN   \n17 -118.860802  ...               PAIGE      2740        NaN       NaN   \n\n    User_ID_4   Station   Count  PM_Dir  Station_Number  Station_PM  \n0         NaN  771253.0  2016.0    0.00             1.0         0.0  \n1         NaN       NaN     NaN    1.13             3.0        11.0  \n2         NaN  771285.0  2016.0    1.33             4.0        13.0  \n3         NaN  771294.0  2016.0    1.69             5.0        17.0  \n4         NaN       NaN     NaN    2.10             6.0        21.0  \n5         NaN  771318.0  2016.0    2.30             7.0        23.0  \n6         NaN       NaN     NaN    3.21             9.0        32.0  \n7         NaN       NaN     NaN    3.45            10.0        35.0  \n8         NaN       NaN     NaN    2.55             8.0        26.0  \n9         NaN  771360.0  2016.0    4.38            11.0        44.0  \n10        NaN  771371.0  2016.0    4.59            12.0        46.0  \n11        NaN  771386.0  2016.0    5.08            13.0        51.0  \n12        NaN  771396.0  2016.0    5.58            14.0        56.0  \n13        NaN  771410.0  2016.0    6.20            15.0        62.0  \n15        NaN       NaN     NaN    6.88            17.0        69.0  \n16        NaN  771441.0  2016.0    7.49            18.0        75.0  \n17        NaN       NaN     NaN    0.30             2.0         3.0  \n\n[17 rows x 23 columns]",
      "text/html": "<div>\n<style scoped>\n    .dataframe tbody tr th:only-of-type {\n        vertical-align: middle;\n    }\n\n    .dataframe tbody tr th {\n        vertical-align: top;\n    }\n\n    .dataframe thead th {\n        text-align: right;\n    }\n</style>\n<table border=\"1\" class=\"dataframe\">\n  <thead>\n    <tr style=\"text-align: right;\">\n      <th></th>\n      <th>ID</th>\n      <th>Fwy</th>\n      <th>Dir</th>\n      <th>District</th>\n      <th>County</th>\n      <th>City</th>\n      <th>State_PM</th>\n      <th>Abs_PM</th>\n      <th>Latitude</th>\n      <th>Longitude</th>\n      <th>...</th>\n      <th>Name</th>\n      <th>User_ID_1</th>\n      <th>User_ID_2</th>\n      <th>User_ID_3</th>\n      <th>User_ID_4</th>\n      <th>Station</th>\n      <th>Count</th>\n      <th>PM_Dir</th>\n      <th>Station_Number</th>\n      <th>Station_PM</th>\n    </tr>\n  </thead>\n  <tbody>\n    <tr>\n      <th>0</th>\n      <td>771253</td>\n      <td>23</td>\n      <td>N</td>\n      <td>7</td>\n      <td>111</td>\n      <td>78582.0</td>\n      <td>R3.92</td>\n      <td>12.523</td>\n      <td>34.179522</td>\n      <td>-118.860080</td>\n      <td>...</td>\n      <td>HILLCREST</td>\n      <td>4850</td>\n      <td>NaN</td>\n      <td>NaN</td>\n      <td>NaN</td>\n      <td>771253.0</td>\n      <td>2016.0</td>\n      <td>0.00</td>\n      <td>1.0</td>\n      <td>0.0</td>\n    </tr>\n    <tr>\n      <th>1</th>\n      <td>771268</td>\n      <td>23</td>\n      <td>N</td>\n      <td>7</td>\n      <td>111</td>\n      <td>78582.0</td>\n      <td>R5.05</td>\n      <td>13.653</td>\n      <td>34.196191</td>\n      <td>-118.859225</td>\n      <td>...</td>\n      <td>JANSS 1</td>\n      <td>4745</td>\n      <td>NaN</td>\n      <td>NaN</td>\n      <td>NaN</td>\n      <td>NaN</td>\n      <td>NaN</td>\n      <td>1.13</td>\n      <td>3.0</td>\n      <td>11.0</td>\n    </tr>\n    <tr>\n      <th>2</th>\n      <td>771285</td>\n      <td>23</td>\n      <td>N</td>\n      <td>7</td>\n      <td>111</td>\n      <td>78582.0</td>\n      <td>R5.25</td>\n      <td>13.853</td>\n      <td>34.198898</td>\n      <td>-118.857485</td>\n      <td>...</td>\n      <td>JANSS 2</td>\n      <td>4747</td>\n      <td>NaN</td>\n      <td>NaN</td>\n      <td>NaN</td>\n      <td>771285.0</td>\n      <td>2016.0</td>\n      <td>1.33</td>\n      <td>4.0</td>\n      <td>13.0</td>\n    </tr>\n    <tr>\n      <th>3</th>\n      <td>771294</td>\n      <td>23</td>\n      <td>N</td>\n      <td>7</td>\n      <td>111</td>\n      <td>78582.0</td>\n      <td>R5.61</td>\n      <td>14.213</td>\n      <td>34.203343</td>\n      <td>-118.853680</td>\n      <td>...</td>\n      <td>LAS FLORES</td>\n      <td>2741</td>\n      <td>NaN</td>\n      <td>NaN</td>\n      <td>NaN</td>\n      <td>771294.0</td>\n      <td>2016.0</td>\n      <td>1.69</td>\n      <td>5.0</td>\n      <td>17.0</td>\n    </tr>\n    <tr>\n      <th>4</th>\n      <td>771306</td>\n      <td>23</td>\n      <td>N</td>\n      <td>7</td>\n      <td>111</td>\n      <td>78582.0</td>\n      <td>R6.02</td>\n      <td>14.623</td>\n      <td>34.208327</td>\n      <td>-118.849291</td>\n      <td>...</td>\n      <td>LOS ARBOLES 1</td>\n      <td>4749</td>\n      <td>NaN</td>\n      <td>NaN</td>\n      <td>NaN</td>\n      <td>NaN</td>\n      <td>NaN</td>\n      <td>2.10</td>\n      <td>6.0</td>\n      <td>21.0</td>\n    </tr>\n    <tr>\n      <th>5</th>\n      <td>771318</td>\n      <td>23</td>\n      <td>N</td>\n      <td>7</td>\n      <td>111</td>\n      <td>78582.0</td>\n      <td>R6.22</td>\n      <td>14.823</td>\n      <td>34.211348</td>\n      <td>-118.848860</td>\n      <td>...</td>\n      <td>LOS ARBOLES 2</td>\n      <td>4751</td>\n      <td>NaN</td>\n      <td>NaN</td>\n      <td>NaN</td>\n      <td>771318.0</td>\n      <td>2016.0</td>\n      <td>2.30</td>\n      <td>7.0</td>\n      <td>23.0</td>\n    </tr>\n    <tr>\n      <th>6</th>\n      <td>771329</td>\n      <td>23</td>\n      <td>N</td>\n      <td>7</td>\n      <td>111</td>\n      <td>78582.0</td>\n      <td>R7.13</td>\n      <td>15.733</td>\n      <td>34.225045</td>\n      <td>-118.847994</td>\n      <td>...</td>\n      <td>SUNSET HILLS 1</td>\n      <td>4753</td>\n      <td>NaN</td>\n      <td>NaN</td>\n      <td>NaN</td>\n      <td>NaN</td>\n      <td>NaN</td>\n      <td>3.21</td>\n      <td>9.0</td>\n      <td>32.0</td>\n    </tr>\n    <tr>\n      <th>7</th>\n      <td>771340</td>\n      <td>23</td>\n      <td>N</td>\n      <td>7</td>\n      <td>111</td>\n      <td>78582.0</td>\n      <td>R7.37</td>\n      <td>15.973</td>\n      <td>34.228473</td>\n      <td>-118.846374</td>\n      <td>...</td>\n      <td>SUNSET HILLS 2</td>\n      <td>4755</td>\n      <td>NaN</td>\n      <td>NaN</td>\n      <td>NaN</td>\n      <td>NaN</td>\n      <td>NaN</td>\n      <td>3.45</td>\n      <td>10.0</td>\n      <td>35.0</td>\n    </tr>\n    <tr>\n      <th>8</th>\n      <td>771349</td>\n      <td>23</td>\n      <td>N</td>\n      <td>7</td>\n      <td>111</td>\n      <td>78582.0</td>\n      <td>R6.47</td>\n      <td>15.073</td>\n      <td>34.215167</td>\n      <td>-118.849269</td>\n      <td>...</td>\n      <td>PEDERSON</td>\n      <td>2742</td>\n      <td>NaN</td>\n      <td>NaN</td>\n      <td>NaN</td>\n      <td>NaN</td>\n      <td>NaN</td>\n      <td>2.55</td>\n      <td>8.0</td>\n      <td>26.0</td>\n    </tr>\n    <tr>\n      <th>9</th>\n      <td>771360</td>\n      <td>23</td>\n      <td>N</td>\n      <td>7</td>\n      <td>111</td>\n      <td>78582.0</td>\n      <td>R8.3</td>\n      <td>16.903</td>\n      <td>34.241576</td>\n      <td>-118.839735</td>\n      <td>...</td>\n      <td>OLSEN 1</td>\n      <td>4757</td>\n      <td>NaN</td>\n      <td>NaN</td>\n      <td>NaN</td>\n      <td>771360.0</td>\n      <td>2016.0</td>\n      <td>4.38</td>\n      <td>11.0</td>\n      <td>44.0</td>\n    </tr>\n    <tr>\n      <th>10</th>\n      <td>771371</td>\n      <td>23</td>\n      <td>N</td>\n      <td>7</td>\n      <td>111</td>\n      <td>78582.0</td>\n      <td>R8.51</td>\n      <td>17.113</td>\n      <td>34.244752</td>\n      <td>-118.839479</td>\n      <td>...</td>\n      <td>OLSEN 2</td>\n      <td>4759</td>\n      <td>NaN</td>\n      <td>NaN</td>\n      <td>NaN</td>\n      <td>771371.0</td>\n      <td>2016.0</td>\n      <td>4.59</td>\n      <td>12.0</td>\n      <td>46.0</td>\n    </tr>\n    <tr>\n      <th>11</th>\n      <td>771386</td>\n      <td>23</td>\n      <td>N</td>\n      <td>7</td>\n      <td>111</td>\n      <td>78582.0</td>\n      <td>R9</td>\n      <td>17.603</td>\n      <td>34.252263</td>\n      <td>-118.839889</td>\n      <td>...</td>\n      <td>N OF OLSEN</td>\n      <td>2743</td>\n      <td>NaN</td>\n      <td>NaN</td>\n      <td>NaN</td>\n      <td>771386.0</td>\n      <td>2016.0</td>\n      <td>5.08</td>\n      <td>13.0</td>\n      <td>51.0</td>\n    </tr>\n    <tr>\n      <th>12</th>\n      <td>771396</td>\n      <td>23</td>\n      <td>N</td>\n      <td>7</td>\n      <td>111</td>\n      <td>78582.0</td>\n      <td>R9.5</td>\n      <td>18.103</td>\n      <td>34.259271</td>\n      <td>-118.842944</td>\n      <td>...</td>\n      <td>S OF TIERRA REJADA</td>\n      <td>2744</td>\n      <td>NaN</td>\n      <td>NaN</td>\n      <td>NaN</td>\n      <td>771396.0</td>\n      <td>2016.0</td>\n      <td>5.58</td>\n      <td>14.0</td>\n      <td>56.0</td>\n    </tr>\n    <tr>\n      <th>13</th>\n      <td>771410</td>\n      <td>23</td>\n      <td>N</td>\n      <td>7</td>\n      <td>111</td>\n      <td>78582.0</td>\n      <td>R10.12</td>\n      <td>18.723</td>\n      <td>34.266273</td>\n      <td>-118.850611</td>\n      <td>...</td>\n      <td>TIERRA REJADA 1</td>\n      <td>4762</td>\n      <td>NaN</td>\n      <td>NaN</td>\n      <td>NaN</td>\n      <td>771410.0</td>\n      <td>2016.0</td>\n      <td>6.20</td>\n      <td>15.0</td>\n      <td>62.0</td>\n    </tr>\n    <tr>\n      <th>15</th>\n      <td>771431</td>\n      <td>23</td>\n      <td>N</td>\n      <td>7</td>\n      <td>111</td>\n      <td>49138.0</td>\n      <td>R10.8</td>\n      <td>19.403</td>\n      <td>34.274437</td>\n      <td>-118.857161</td>\n      <td>...</td>\n      <td>N OF TIERRA REJADA</td>\n      <td>2745</td>\n      <td>NaN</td>\n      <td>NaN</td>\n      <td>NaN</td>\n      <td>NaN</td>\n      <td>NaN</td>\n      <td>6.88</td>\n      <td>17.0</td>\n      <td>69.0</td>\n    </tr>\n    <tr>\n      <th>16</th>\n      <td>771441</td>\n      <td>23</td>\n      <td>N</td>\n      <td>7</td>\n      <td>111</td>\n      <td>49138.0</td>\n      <td>R11.41</td>\n      <td>20.013</td>\n      <td>34.281715</td>\n      <td>-118.862785</td>\n      <td>...</td>\n      <td>NEW LOS ANGELES</td>\n      <td>4573</td>\n      <td>NaN</td>\n      <td>NaN</td>\n      <td>NaN</td>\n      <td>771441.0</td>\n      <td>2016.0</td>\n      <td>7.49</td>\n      <td>18.0</td>\n      <td>75.0</td>\n    </tr>\n    <tr>\n      <th>17</th>\n      <td>771578</td>\n      <td>23</td>\n      <td>N</td>\n      <td>7</td>\n      <td>111</td>\n      <td>78582.0</td>\n      <td>R4.22</td>\n      <td>12.823</td>\n      <td>34.184067</td>\n      <td>-118.860802</td>\n      <td>...</td>\n      <td>PAIGE</td>\n      <td>2740</td>\n      <td>NaN</td>\n      <td>NaN</td>\n      <td>NaN</td>\n      <td>NaN</td>\n      <td>NaN</td>\n      <td>0.30</td>\n      <td>2.0</td>\n      <td>3.0</td>\n    </tr>\n  </tbody>\n</table>\n<p>17 rows × 23 columns</p>\n</div>"
     },
     "execution_count": 58,
     "metadata": {},
     "output_type": "execute_result"
    }
   ],
   "source": [
    "station_selected"
   ],
   "metadata": {
    "collapsed": false
   }
  },
  {
   "cell_type": "code",
   "execution_count": 59,
   "outputs": [],
   "source": [
    "order_match = station_selected[['ID', 'Station_PM']]"
   ],
   "metadata": {
    "collapsed": false
   }
  },
  {
   "cell_type": "code",
   "execution_count": 60,
   "outputs": [
    {
     "name": "stderr",
     "output_type": "stream",
     "text": [
      "/var/folders/g5/yg5rt0h52kxc5z_0zd7jrqbh0000gn/T/ipykernel_14650/440614197.py:3: SettingWithCopyWarning: \n",
      "A value is trying to be set on a copy of a slice from a DataFrame.\n",
      "Try using .loc[row_indexer,col_indexer] = value instead\n",
      "\n",
      "See the caveats in the documentation: https://pandas.pydata.org/pandas-docs/stable/user_guide/indexing.html#returning-a-view-versus-a-copy\n",
      "  data_all_select['TimeStamp'] = pd.to_datetime(data_all_select['TimeStamp'])\n",
      "/var/folders/g5/yg5rt0h52kxc5z_0zd7jrqbh0000gn/T/ipykernel_14650/440614197.py:4: SettingWithCopyWarning: \n",
      "A value is trying to be set on a copy of a slice from a DataFrame.\n",
      "Try using .loc[row_indexer,col_indexer] = value instead\n",
      "\n",
      "See the caveats in the documentation: https://pandas.pydata.org/pandas-docs/stable/user_guide/indexing.html#returning-a-view-versus-a-copy\n",
      "  data_all_select['TimeDiff'] = ((data_all_select['TimeStamp'] - data_all_select['TimeStamp'].min()).dt.total_seconds())/60\n",
      "/var/folders/g5/yg5rt0h52kxc5z_0zd7jrqbh0000gn/T/ipykernel_14650/440614197.py:5: SettingWithCopyWarning: \n",
      "A value is trying to be set on a copy of a slice from a DataFrame.\n",
      "Try using .loc[row_indexer,col_indexer] = value instead\n",
      "\n",
      "See the caveats in the documentation: https://pandas.pydata.org/pandas-docs/stable/user_guide/indexing.html#returning-a-view-versus-a-copy\n",
      "  data_all_select['TimeStep'] = 1 + (data_all_select['TimeDiff'] // 5)\n"
     ]
    }
   ],
   "source": [
    "ID_selected = station_selected['ID']\n",
    "data_all_select = data_all[data_all['Station'].isin(ID_selected)]\n",
    "data_all_select['TimeStamp'] = pd.to_datetime(data_all_select['TimeStamp'])\n",
    "data_all_select['TimeDiff'] = ((data_all_select['TimeStamp'] - data_all_select['TimeStamp'].min()).dt.total_seconds())/60\n",
    "data_all_select['TimeStep'] = 1 + (data_all_select['TimeDiff'] // 5)"
   ],
   "metadata": {
    "collapsed": false
   }
  },
  {
   "cell_type": "code",
   "execution_count": 61,
   "outputs": [],
   "source": [
    "#station_selected[station_selected['PM_Dir_round'].duplicated(keep=False)]"
   ],
   "metadata": {
    "collapsed": false
   }
  },
  {
   "cell_type": "code",
   "execution_count": 62,
   "outputs": [],
   "source": [
    "data_all_select = pd.merge(data_all_select, order_match, left_on='Station', right_on='ID' , how='left')"
   ],
   "metadata": {
    "collapsed": false
   }
  },
  {
   "cell_type": "code",
   "execution_count": 63,
   "outputs": [
    {
     "name": "stderr",
     "output_type": "stream",
     "text": [
      "/var/folders/g5/yg5rt0h52kxc5z_0zd7jrqbh0000gn/T/ipykernel_14650/3535391722.py:2: SettingWithCopyWarning: \n",
      "A value is trying to be set on a copy of a slice from a DataFrame.\n",
      "Try using .loc[row_indexer,col_indexer] = value instead\n",
      "\n",
      "See the caveats in the documentation: https://pandas.pydata.org/pandas-docs/stable/user_guide/indexing.html#returning-a-view-versus-a-copy\n",
      "  Flow['TimeStep'] = Flow['TimeStep'].astype(int)\n",
      "/var/folders/g5/yg5rt0h52kxc5z_0zd7jrqbh0000gn/T/ipykernel_14650/3535391722.py:3: SettingWithCopyWarning: \n",
      "A value is trying to be set on a copy of a slice from a DataFrame.\n",
      "Try using .loc[row_indexer,col_indexer] = value instead\n",
      "\n",
      "See the caveats in the documentation: https://pandas.pydata.org/pandas-docs/stable/user_guide/indexing.html#returning-a-view-versus-a-copy\n",
      "  Flow['Station_PM'] = Flow['Station_PM'].astype(int)\n",
      "/var/folders/g5/yg5rt0h52kxc5z_0zd7jrqbh0000gn/T/ipykernel_14650/3535391722.py:6: SettingWithCopyWarning: \n",
      "A value is trying to be set on a copy of a slice from a DataFrame.\n",
      "Try using .loc[row_indexer,col_indexer] = value instead\n",
      "\n",
      "See the caveats in the documentation: https://pandas.pydata.org/pandas-docs/stable/user_guide/indexing.html#returning-a-view-versus-a-copy\n",
      "  Occupancy['TimeStep'] = Occupancy['TimeStep'].astype(int)\n",
      "/var/folders/g5/yg5rt0h52kxc5z_0zd7jrqbh0000gn/T/ipykernel_14650/3535391722.py:7: SettingWithCopyWarning: \n",
      "A value is trying to be set on a copy of a slice from a DataFrame.\n",
      "Try using .loc[row_indexer,col_indexer] = value instead\n",
      "\n",
      "See the caveats in the documentation: https://pandas.pydata.org/pandas-docs/stable/user_guide/indexing.html#returning-a-view-versus-a-copy\n",
      "  Occupancy['Station_PM'] = Occupancy['Station_PM'].astype(int)\n",
      "/var/folders/g5/yg5rt0h52kxc5z_0zd7jrqbh0000gn/T/ipykernel_14650/3535391722.py:10: SettingWithCopyWarning: \n",
      "A value is trying to be set on a copy of a slice from a DataFrame.\n",
      "Try using .loc[row_indexer,col_indexer] = value instead\n",
      "\n",
      "See the caveats in the documentation: https://pandas.pydata.org/pandas-docs/stable/user_guide/indexing.html#returning-a-view-versus-a-copy\n",
      "  Speed['TimeStep'] = Speed['TimeStep'].astype(int)\n",
      "/var/folders/g5/yg5rt0h52kxc5z_0zd7jrqbh0000gn/T/ipykernel_14650/3535391722.py:11: SettingWithCopyWarning: \n",
      "A value is trying to be set on a copy of a slice from a DataFrame.\n",
      "Try using .loc[row_indexer,col_indexer] = value instead\n",
      "\n",
      "See the caveats in the documentation: https://pandas.pydata.org/pandas-docs/stable/user_guide/indexing.html#returning-a-view-versus-a-copy\n",
      "  Speed['Station_PM'] = Speed['Station_PM'].astype(int)\n"
     ]
    }
   ],
   "source": [
    "Flow = data_all_select[['TimeStep', 'Station_PM', 'Total_Flow']]\n",
    "Flow['TimeStep'] = Flow['TimeStep'].astype(int)\n",
    "Flow['Station_PM'] = Flow['Station_PM'].astype(int)\n",
    "\n",
    "Occupancy = data_all_select[['TimeStep', 'Station_PM', 'Occupancy']]\n",
    "Occupancy['TimeStep'] = Occupancy['TimeStep'].astype(int)\n",
    "Occupancy['Station_PM'] = Occupancy['Station_PM'].astype(int)\n",
    "\n",
    "Speed = data_all_select[['TimeStep', 'Station_PM', 'Speed']]\n",
    "Speed['TimeStep'] = Speed['TimeStep'].astype(int)\n",
    "Speed['Station_PM'] = Speed['Station_PM'].astype(int)"
   ],
   "metadata": {
    "collapsed": false
   }
  },
  {
   "cell_type": "markdown",
   "source": [
    "## Final Data Cleaning"
   ],
   "metadata": {
    "collapsed": false
   }
  },
  {
   "cell_type": "code",
   "execution_count": 64,
   "outputs": [],
   "source": [
    "\"\"\"\n",
    "Create a table with timestep and PM (posted Miles) as one-one match\n",
    "\"\"\"\n",
    "timestep_value = [i for i in range(1, Occupancy['TimeStep'].max() + 1) for _ in range(Occupancy['Station_PM'].max() + 1)]\n",
    "PM_values = list(range(Occupancy['Station_PM'].max() + 1)) * Occupancy['TimeStep'].max()\n",
    "Time_PM = pd.DataFrame({'TimeStep': timestep_value, 'Station_PM': PM_values})"
   ],
   "metadata": {
    "collapsed": false
   }
  },
  {
   "cell_type": "code",
   "execution_count": 65,
   "outputs": [],
   "source": [
    "Occupancy_all = pd.merge(Time_PM, Occupancy, on=['TimeStep', 'Station_PM'] , how='left')\n",
    "Flow_all = pd.merge(Time_PM, Flow, on=['TimeStep', 'Station_PM'] , how='left')\n",
    "Speed_all = pd.merge(Time_PM, Speed, on=['TimeStep', 'Station_PM'] , how='left')"
   ],
   "metadata": {
    "collapsed": false
   }
  },
  {
   "cell_type": "code",
   "execution_count": 66,
   "outputs": [
    {
     "data": {
      "text/plain": "        TimeStep  Station_PM  Occupancy\n0              1           0     0.0297\n1              1           1        NaN\n2              1           2        NaN\n3              1           3     0.0554\n4              1           4        NaN\n...          ...         ...        ...\n153211      2016          71        NaN\n153212      2016          72        NaN\n153213      2016          73        NaN\n153214      2016          74        NaN\n153215      2016          75     0.0062\n\n[153216 rows x 3 columns]",
      "text/html": "<div>\n<style scoped>\n    .dataframe tbody tr th:only-of-type {\n        vertical-align: middle;\n    }\n\n    .dataframe tbody tr th {\n        vertical-align: top;\n    }\n\n    .dataframe thead th {\n        text-align: right;\n    }\n</style>\n<table border=\"1\" class=\"dataframe\">\n  <thead>\n    <tr style=\"text-align: right;\">\n      <th></th>\n      <th>TimeStep</th>\n      <th>Station_PM</th>\n      <th>Occupancy</th>\n    </tr>\n  </thead>\n  <tbody>\n    <tr>\n      <th>0</th>\n      <td>1</td>\n      <td>0</td>\n      <td>0.0297</td>\n    </tr>\n    <tr>\n      <th>1</th>\n      <td>1</td>\n      <td>1</td>\n      <td>NaN</td>\n    </tr>\n    <tr>\n      <th>2</th>\n      <td>1</td>\n      <td>2</td>\n      <td>NaN</td>\n    </tr>\n    <tr>\n      <th>3</th>\n      <td>1</td>\n      <td>3</td>\n      <td>0.0554</td>\n    </tr>\n    <tr>\n      <th>4</th>\n      <td>1</td>\n      <td>4</td>\n      <td>NaN</td>\n    </tr>\n    <tr>\n      <th>...</th>\n      <td>...</td>\n      <td>...</td>\n      <td>...</td>\n    </tr>\n    <tr>\n      <th>153211</th>\n      <td>2016</td>\n      <td>71</td>\n      <td>NaN</td>\n    </tr>\n    <tr>\n      <th>153212</th>\n      <td>2016</td>\n      <td>72</td>\n      <td>NaN</td>\n    </tr>\n    <tr>\n      <th>153213</th>\n      <td>2016</td>\n      <td>73</td>\n      <td>NaN</td>\n    </tr>\n    <tr>\n      <th>153214</th>\n      <td>2016</td>\n      <td>74</td>\n      <td>NaN</td>\n    </tr>\n    <tr>\n      <th>153215</th>\n      <td>2016</td>\n      <td>75</td>\n      <td>0.0062</td>\n    </tr>\n  </tbody>\n</table>\n<p>153216 rows × 3 columns</p>\n</div>"
     },
     "execution_count": 66,
     "metadata": {},
     "output_type": "execute_result"
    }
   ],
   "source": [
    "Occupancy_all"
   ],
   "metadata": {
    "collapsed": false
   }
  },
  {
   "cell_type": "code",
   "execution_count": 67,
   "outputs": [],
   "source": [
    "Occupancy_all_wide = Occupancy_all.pivot(index='Station_PM', columns='TimeStep', values='Occupancy')\n",
    "Flow_all_wide = Flow_all.pivot(index='Station_PM', columns='TimeStep', values='Total_Flow')\n",
    "Speed_all_wide = Speed_all.pivot(index='Station_PM', columns='TimeStep', values='Speed')"
   ],
   "metadata": {
    "collapsed": false
   }
  },
  {
   "cell_type": "code",
   "execution_count": 68,
   "outputs": [],
   "source": [
    "Flow_wide = Flow.pivot(index='Station_PM', columns='TimeStep', values='Total_Flow')\n",
    "Occupancy_wide = Occupancy.pivot(index='Station_PM', columns='TimeStep', values='Occupancy')\n",
    "Speed_wide = Speed.pivot(index='Station_PM', columns='TimeStep', values='Speed')"
   ],
   "metadata": {
    "collapsed": false
   }
  },
  {
   "cell_type": "code",
   "execution_count": 69,
   "outputs": [],
   "source": [
    "Flow_all_wide.to_csv('Data_Clean/Flow_all.csv')\n",
    "Occupancy_all_wide.to_csv('Data_Clean/Occupancy_all.csv')\n",
    "Speed_all_wide.to_csv('Data_Clean/Speed_all.csv')"
   ],
   "metadata": {
    "collapsed": false
   }
  },
  {
   "cell_type": "code",
   "execution_count": 70,
   "outputs": [],
   "source": [
    "Flow_wide.to_csv('Data_Clean/Flow.csv')\n",
    "Occupancy_wide.to_csv('Data_Clean/Occupancy.csv')\n",
    "Speed_wide.to_csv('Data_Clean/Speed.csv')"
   ],
   "metadata": {
    "collapsed": false
   }
  },
  {
   "cell_type": "code",
   "execution_count": 71,
   "outputs": [],
   "source": [
    "Flow.to_csv('Data_Clean/Flow_Long.csv', index=False)\n",
    "Occupancy.to_csv('Data_Clean/Occupancy_Long.csv', index=False)\n",
    "Speed.to_csv('Data_Clean/Speed_Long.csv', index=False)"
   ],
   "metadata": {
    "collapsed": false
   }
  },
  {
   "cell_type": "code",
   "execution_count": 72,
   "outputs": [],
   "source": [
    "Flow_all.to_csv('Data_Clean/Flow_all_Long.csv', index=False)\n",
    "Occupancy_all.to_csv('Data_Clean/Occupancy_all_Long.csv', index=False)\n",
    "Speed_all.to_csv('Data_Clean/Speed_all_Long.csv', index=False)"
   ],
   "metadata": {
    "collapsed": false
   }
  },
  {
   "cell_type": "code",
   "execution_count": null,
   "outputs": [],
   "source": [],
   "metadata": {
    "collapsed": false
   }
  }
 ],
 "metadata": {
  "kernelspec": {
   "display_name": "Python 3",
   "language": "python",
   "name": "python3"
  },
  "language_info": {
   "codemirror_mode": {
    "name": "ipython",
    "version": 2
   },
   "file_extension": ".py",
   "mimetype": "text/x-python",
   "name": "python",
   "nbconvert_exporter": "python",
   "pygments_lexer": "ipython2",
   "version": "2.7.6"
  }
 },
 "nbformat": 4,
 "nbformat_minor": 0
}
